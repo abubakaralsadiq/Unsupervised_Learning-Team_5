{
 "cells": [
  {
   "cell_type": "markdown",
   "id": "6c090b2b",
   "metadata": {
    "jp-MarkdownHeadingCollapsed": true,
    "tags": []
   },
   "source": [
    "# <a id='0'>Team_5: Movies Recommender System  Solution</a>\n",
    "\n",
    "<img src = \"https://miro.medium.com/max/1400/1*HG500O4IWy2ollX3qSGRgQ.png\" align = \"centre\">\n",
    "\n",
    "**Team Members:** Melania Makombe , Abubakar Sadiq,Christian Divinefavour, Nuraddeen Isah and Michael Kanu\n",
    "**Supervisor:** Maryam Hassan\n",
    "\n",
    "* [Notebook repo](https://github.com/abubakaralsadiq/Unsupervised_Learning-Team_5)\n",
    "* [Trello board](https://trello.com/b/nHi642IR/recomendermodel) \n",
    "* [Comet_ML](https://www.comet.ml/tsikaapp/team-5-unsupervised-ml/view/new/panels) "
   ]
  },
  {
   "cell_type": "markdown",
   "id": "b14ec681",
   "metadata": {
    "tags": [],
    "toc": true
   },
   "source": [
    "<h1>Table of Contents<span class=\"tocSkip\"></span></h1>\n",
    "<div class=\"toc\"><ul class=\"toc-item\"><li><span><a href=\"#Team_5:Movies-Recommender-System--Solution\" data-toc-modified-id=\"Team_5:Movies-Recommender-System--Solution-1\"><span class=\"toc-item-num\">1&nbsp;&nbsp;</span><a id=\"0\">Team_5:Movies Recommender System  Solution</a></a></span></li><li><span><a href=\"#Introduction\" data-toc-modified-id=\"Introduction-2\"><span class=\"toc-item-num\">2&nbsp;&nbsp;</span>Introduction</a></span><ul class=\"toc-item\"><li><span><a href=\"#Overview\" data-toc-modified-id=\"Overview-2.1\"><span class=\"toc-item-num\">2.1&nbsp;&nbsp;</span>Overview</a></span></li><li><span><a href=\"#Problem-Statement\" data-toc-modified-id=\"Problem-Statement-2.2\"><span class=\"toc-item-num\">2.2&nbsp;&nbsp;</span>Problem Statement</a></span></li></ul></li><li><span><a href=\"#Comet-Experiment\" data-toc-modified-id=\"Comet-Experiment-3\"><span class=\"toc-item-num\">3&nbsp;&nbsp;</span>Comet Experiment</a></span></li><li><span><a href=\"#Loading-Dependencies\" data-toc-modified-id=\"Loading-Dependencies-4\"><span class=\"toc-item-num\">4&nbsp;&nbsp;</span>Loading Dependencies</a></span><ul class=\"toc-item\"><li><span><a href=\"#Import-the-libraries\" data-toc-modified-id=\"Import-the-libraries-4.1\"><span class=\"toc-item-num\">4.1&nbsp;&nbsp;</span>Import the libraries</a></span></li><li><span><a href=\"#Loading-the-data\" data-toc-modified-id=\"Loading-the-data-4.2\"><span class=\"toc-item-num\">4.2&nbsp;&nbsp;</span>Loading the data</a></span></li><li><span><a href=\"#Data-description\" data-toc-modified-id=\"Data-description-4.3\"><span class=\"toc-item-num\">4.3&nbsp;&nbsp;</span>Data description</a></span></li></ul></li><li><span><a href=\"#Exploratory-Data-Analysis\" data-toc-modified-id=\"Exploratory-Data-Analysis-5\"><span class=\"toc-item-num\">5&nbsp;&nbsp;</span>Exploratory Data Analysis</a></span></li><li><span><a href=\"#Data-Preprocessing\" data-toc-modified-id=\"Data-Preprocessing-6\"><span class=\"toc-item-num\">6&nbsp;&nbsp;</span>Data Preprocessing</a></span></li><li><span><a href=\"#Modelling\" data-toc-modified-id=\"Modelling-7\"><span class=\"toc-item-num\">7&nbsp;&nbsp;</span>Modelling</a></span></li><li><span><a href=\"#Conclusion\" data-toc-modified-id=\"Conclusion-8\"><span class=\"toc-item-num\">8&nbsp;&nbsp;</span>Conclusion</a></span></li><li><span><a href=\"#References\" data-toc-modified-id=\"References-9\"><span class=\"toc-item-num\">9&nbsp;&nbsp;</span>References</a></span></li></ul></div>"
   ]
  },
  {
   "cell_type": "markdown",
   "id": "813c5c6a",
   "metadata": {},
   "source": [
    "# Introduction"
   ]
  },
  {
   "cell_type": "markdown",
   "id": "13be2cd7",
   "metadata": {},
   "source": [
    "## Background"
   ]
  },
  {
   "cell_type": "markdown",
   "id": "560fe6be",
   "metadata": {},
   "source": [
    "On the internet, where the number of choices is overwhelming, there is a need to filter, prioritize and efficiently deliver relevant information in order to reduce the problem of information overload, which has created a potential problem for many Internet users. Recommender systems solve this problem by searching through a large volume of dynamically generated information to provide users with personalized content and services.\n",
    "\n",
    "Recommender systems are the systems that are designed to recommend things to the user based on many different factors. These systems predict the most likely product that the users are most likely to purchase and are of interest to. Companies like Netflix, Amazon, etc. use recommender systems to help their users to identify the correct product or movies for them.\n",
    "\n",
    "The recommender system deals with a large volume of information present by filtering the most important information based on the data provided by a user and other factors that take care of the user’s preference and interest. It finds out the match between user and item and imputes the similarities between users and items for recommendation\n",
    "\n",
    "Recommender systems are beneficial to both service providers and users. They reduce transaction costs of finding and selecting items in an online shopping environment. Recommendation systems have also proved to improve decision making process and quality.\n",
    "\n",
    "Our client, DSTV is a Sub-Saharan African direct broadcast satellite service owned by MultiChoice. Since Netflix implemented the recommender system on its platforms, DSTV has lost its clientele. DSTV conducted research to understand their problem. In the research, 69% of the consumers that were surveyed said that video streaming services like Netflix offer better value for money than traditional pay-TV services like MultiChoice's DStv. DSTV would like to retain and improve the amount of customers using its platform by introducing its own movie streaming service. With that they will increase choice for their clients and become more entertaining.\n",
    "\n",
    "As such, our company, Strata statistics consultants was hired to create a content based and collaborative based filtering movie recommender models that will be used in this streaming app."
   ]
  },
  {
   "cell_type": "markdown",
   "id": "deeb2dc5",
   "metadata": {},
   "source": [
    "## Problem Statement\n",
    "\n",
    "The main objective of this project is to construct a recommendation algorithm based on content or collaborative filtering, capable of accurately predicting how a user will rate a movie they have not yet viewed, based on their historical preferences.\n"
   ]
  },
  {
   "cell_type": "markdown",
   "id": "b2190170",
   "metadata": {},
   "source": [
    "# Comet Experiment"
   ]
  },
  {
   "cell_type": "markdown",
   "id": "8a000bc1-6455-459c-a154-93ea3fe9b2f1",
   "metadata": {},
   "source": [
    "Comet.ml is a software that allows data scientists and developers to easily monitor, compare and optimize their machine learning models. When comet.ml is initiated the experiment is logged on the system and saved for approval as well as version control. The following code hosts our notebook on the unsupervised_ml project in comet ml. "
   ]
  },
  {
   "cell_type": "code",
   "execution_count": 32,
   "id": "a1d732e2",
   "metadata": {},
   "outputs": [
    {
     "name": "stderr",
     "output_type": "stream",
     "text": [
      "COMET INFO: ---------------------------\n",
      "COMET INFO: Comet.ml Experiment Summary\n",
      "COMET INFO: ---------------------------\n",
      "COMET INFO:   Data:\n",
      "COMET INFO:     display_summary_level : 1\n",
      "COMET INFO:     url                   : https://www.comet.ml/tsikaapp/team-5-unsupervised-ml/995fd96b92354bf9bb37bd4b45979886\n",
      "COMET INFO:   Uploads:\n",
      "COMET INFO:     conda-environment-definition : 1\n",
      "COMET INFO:     conda-info                   : 1\n",
      "COMET INFO:     conda-specification          : 1\n",
      "COMET INFO:     environment details          : 1\n",
      "COMET INFO:     filename                     : 1\n",
      "COMET INFO:     installed packages           : 1\n",
      "COMET INFO:     notebook                     : 1\n",
      "COMET INFO:     os packages                  : 1\n",
      "COMET INFO:     source_code                  : 1\n",
      "COMET INFO: ---------------------------\n",
      "COMET WARNING: As you are running in a Jupyter environment, you will need to call `experiment.end()` when finished to ensure all metrics and code are logged before exiting.\n",
      "COMET INFO: Couldn't find a Git repository in '/home/studio-lab-user/sagemaker-studiolab-notebooks/T4 ' nor in any parent directory. You can override where Comet is looking for a Git Patch by setting the configuration `COMET_GIT_DIRECTORY`\n",
      "COMET INFO: Experiment is live on comet.ml https://www.comet.ml/tsikaapp/team-5-unsupervised-ml/0e0a8f07d060435680ea1a84c93d91b4\n",
      "\n"
     ]
    }
   ],
   "source": [
    "\n",
    "# import comet_ml at the top of your file\n",
    "from comet_ml import Experiment\n",
    "\n",
    "#Create an experiment with your api key\n",
    "experiment = Experiment(\n",
    "    api_key=\"rhxOl6OrextNazWTBlB2j8YNW\",\n",
    "    project_name=\"team-5-unsupervised-ml\",\n",
    "    workspace=\"tsikaapp\",\n",
    ")\n"
   ]
  },
  {
   "cell_type": "markdown",
   "id": "5600bf73-ac9c-4fd3-9ae4-28db5d18d58d",
   "metadata": {},
   "source": [
    "Now that the experiment is created its time to load the data into the notebook. "
   ]
  },
  {
   "cell_type": "markdown",
   "id": "235b71d5",
   "metadata": {
    "tags": []
   },
   "source": [
    "# Loading Dependencies"
   ]
  },
  {
   "cell_type": "markdown",
   "id": "dde61c15-4978-465a-ab51-8d4cadbb0454",
   "metadata": {},
   "source": [
    "In the loading dependencies section we aim to import all modules that will be used in the project as well as load the csv files that we will use to create an experiment. "
   ]
  },
  {
   "cell_type": "markdown",
   "id": "e7030436",
   "metadata": {},
   "source": [
    "## Import the libraries"
   ]
  },
  {
   "cell_type": "code",
   "execution_count": 2,
   "id": "e90c657b",
   "metadata": {},
   "outputs": [
    {
     "data": {
      "text/html": [
       "        <script type=\"text/javascript\">\n",
       "        window.PlotlyConfig = {MathJaxConfig: 'local'};\n",
       "        if (window.MathJax) {MathJax.Hub.Config({SVG: {font: \"STIX-Web\"}});}\n",
       "        if (typeof require !== 'undefined') {\n",
       "        require.undef(\"plotly\");\n",
       "        requirejs.config({\n",
       "            paths: {\n",
       "                'plotly': ['https://cdn.plot.ly/plotly-2.11.1.min']\n",
       "            }\n",
       "        });\n",
       "        require(['plotly'], function(Plotly) {\n",
       "            window._Plotly = Plotly;\n",
       "        });\n",
       "        }\n",
       "        </script>\n",
       "        "
      ]
     },
     "metadata": {},
     "output_type": "display_data"
    }
   ],
   "source": [
    "# Exploratory data analysis \n",
    "import numpy as np\n",
    "import pandas as pd  \n",
    "\n",
    "# create graphs \n",
    "import matplotlib.pyplot as plt\n",
    "import seaborn as sns\n",
    "\n",
    "import scipy as sp\n",
    "from scipy.cluster.hierarchy import linkage,dendrogram\n",
    "from scipy.sparse import csr_matrix\n",
    "\n",
    "from sklearn.cluster import KMeans\n",
    "from sklearn.pipeline import make_pipeline\n",
    "from sklearn.preprocessing import StandardScaler\n",
    "from sklearn.preprocessing import Normalizer\n",
    "from sklearn.decomposition import PCA, NMF\n",
    "from sklearn.manifold import TSNE\n",
    "from sklearn.feature_extraction.text import TfidfVectorizer\n",
    "from sklearn.neighbors import NearestNeighbors\n",
    "from datetime import datetime\n",
    "\n",
    "# models \n",
    "from surprise.reader import Reader\n",
    "from surprise.dataset import Dataset\n",
    "from surprise import SVD, SVDpp, SlopeOne, NMF, NormalPredictor\n",
    "from surprise import KNNBaseline, KNNBasic, KNNWithMeans, KNNWithZScore\n",
    "from surprise import BaselineOnly, CoClustering\n",
    "from surprise.model_selection import cross_validate, train_test_split, GridSearchCV\n",
    "from surprise import accuracy\n",
    " \n",
    "import cufflinks as cf\n",
    "import operator \n",
    "import heapq \n",
    "\n",
    "# display images, videos \n",
    "from IPython.core.display import HTML\n",
    "from IPython.display import display_html\n",
    "from itertools import chain,cycle\n",
    "from IPython.display import YouTubeVideo\n",
    "from collections import defaultdict\n",
    "\n",
    "\n",
    "import warnings\n",
    "warnings.filterwarnings('ignore')"
   ]
  },
  {
   "cell_type": "markdown",
   "id": "a848afb3",
   "metadata": {},
   "source": [
    "## Loading the data"
   ]
  },
  {
   "cell_type": "code",
   "execution_count": 3,
   "id": "809abed0",
   "metadata": {},
   "outputs": [],
   "source": [
    "# loading all the csv files aquired from kaggle \n",
    "genome_scores = pd.read_csv('genome_scores.csv')\n",
    "genome_tags = pd.read_csv('genome_tags.csv')\n",
    "imdb = pd.read_csv('imdb_data.csv')\n",
    "links = pd.read_csv('links.csv')\n",
    "movies = pd.read_csv('movies.csv')\n",
    "tags = pd.read_csv('tags.csv')\n",
    "test = pd.read_csv('test.csv')\n",
    "train = pd.read_csv('train.csv')\n",
    "sample_submission = pd.read_csv('sample_submission.csv')"
   ]
  },
  {
   "cell_type": "markdown",
   "id": "f016215a",
   "metadata": {},
   "source": [
    "### Data description\n",
    "\n",
    "* genome_scores.csv - a score mapping the strength between movies and tag-related properties.\n",
    "* genome_tags.csv - user assigned tags for genome-related scores.\n",
    "* imdb_data.csv - Additional movie metadata scraped from IMDB using the links.csv file.\n",
    "* links.csv - File providing a mapping between a MovieLens ID and associated IMDB and TMDB IDs.\n",
    "* sample_submission.csv - Sample of the submission format for the hackathon.\n",
    "* tags.csv - User assigned for the movies within the dataset.\n",
    "* test.csv - The test split of the dataset. Contains user and movie IDs with no rating data.\n",
    "* train.csv - The training split of the dataset. Contains user and movie IDs with associated rating data.\n",
    "Source: Kaggle competition"
   ]
  },
  {
   "cell_type": "markdown",
   "id": "3e3205e0",
   "metadata": {},
   "source": [
    "# Exploratory Data Analysis"
   ]
  },
  {
   "cell_type": "markdown",
   "id": "fb8f4e59",
   "metadata": {},
   "source": [
    "Exploratory data analysis (EDA) is used by data scientists to analyze and investigate data sets and summarize their main characteristics, often employing data visualization methods. It helps determine how best to manipulate data sources to get the answers you need, making it easier for data scientists to discover patterns, spot anomalies, or check assumptions. This step is cruicial as it will inform the data preprocessing step. Let's have a glimpse of each dataframe.\n",
    "<img src = \"https://fireballacademy.mcmaster.ca/sites/default/files/2021-01/Undergrad%20Research-01%20%28002%29.png\" align = \"centre\">"
   ]
  },
  {
   "cell_type": "code",
   "execution_count": 7,
   "id": "74421154",
   "metadata": {},
   "outputs": [],
   "source": [
    "'''''\n",
    "Function to display a snippet of all our data\n",
    "'''''\n",
    "\n",
    "def display_tabs(*args, titles=cycle([''])):\n",
    "    ht = ''\n",
    "    for d, title in zip(args, chain(titles,cycle(['</br>']))):\n",
    "        ht += '<th style = \"text-align:center\"><td style = \"vertical-align:top\">'\n",
    "        ht += f'<h4>{title}</h4>'\n",
    "        ht += d.to_html().replace('table', 'table style = \"display:inline\"')\n",
    "        ht += '</td></th>'\n",
    "    display_html(ht, raw = True)"
   ]
  },
  {
   "cell_type": "code",
   "execution_count": 8,
   "id": "803559ad",
   "metadata": {},
   "outputs": [
    {
     "data": {
      "text/html": [
       "<th style = \"text-align:center\"><td style = \"vertical-align:top\"><h4>Genome_Scores</h4><table style = \"display:inline\" border=\"1\" class=\"dataframe\">\n",
       "  <thead>\n",
       "    <tr style=\"text-align: right;\">\n",
       "      <th></th>\n",
       "      <th>movieId</th>\n",
       "      <th>tagId</th>\n",
       "      <th>relevance</th>\n",
       "    </tr>\n",
       "  </thead>\n",
       "  <tbody>\n",
       "    <tr>\n",
       "      <th>0</th>\n",
       "      <td>1</td>\n",
       "      <td>1</td>\n",
       "      <td>0.02875</td>\n",
       "    </tr>\n",
       "    <tr>\n",
       "      <th>1</th>\n",
       "      <td>1</td>\n",
       "      <td>2</td>\n",
       "      <td>0.02375</td>\n",
       "    </tr>\n",
       "    <tr>\n",
       "      <th>2</th>\n",
       "      <td>1</td>\n",
       "      <td>3</td>\n",
       "      <td>0.06250</td>\n",
       "    </tr>\n",
       "    <tr>\n",
       "      <th>3</th>\n",
       "      <td>1</td>\n",
       "      <td>4</td>\n",
       "      <td>0.07575</td>\n",
       "    </tr>\n",
       "    <tr>\n",
       "      <th>4</th>\n",
       "      <td>1</td>\n",
       "      <td>5</td>\n",
       "      <td>0.14075</td>\n",
       "    </tr>\n",
       "  </tbody>\n",
       "</table style = \"display:inline\"></td></th><th style = \"text-align:center\"><td style = \"vertical-align:top\"><h4>Genome_tags</h4><table style = \"display:inline\" border=\"1\" class=\"dataframe\">\n",
       "  <thead>\n",
       "    <tr style=\"text-align: right;\">\n",
       "      <th></th>\n",
       "      <th>tagId</th>\n",
       "      <th>tag</th>\n",
       "    </tr>\n",
       "  </thead>\n",
       "  <tbody>\n",
       "    <tr>\n",
       "      <th>0</th>\n",
       "      <td>1</td>\n",
       "      <td>007</td>\n",
       "    </tr>\n",
       "    <tr>\n",
       "      <th>1</th>\n",
       "      <td>2</td>\n",
       "      <td>007 (series)</td>\n",
       "    </tr>\n",
       "    <tr>\n",
       "      <th>2</th>\n",
       "      <td>3</td>\n",
       "      <td>18th century</td>\n",
       "    </tr>\n",
       "    <tr>\n",
       "      <th>3</th>\n",
       "      <td>4</td>\n",
       "      <td>1920s</td>\n",
       "    </tr>\n",
       "    <tr>\n",
       "      <th>4</th>\n",
       "      <td>5</td>\n",
       "      <td>1930s</td>\n",
       "    </tr>\n",
       "  </tbody>\n",
       "</table style = \"display:inline\"></td></th><th style = \"text-align:center\"><td style = \"vertical-align:top\"><h4>IMBD</h4><table style = \"display:inline\" border=\"1\" class=\"dataframe\">\n",
       "  <thead>\n",
       "    <tr style=\"text-align: right;\">\n",
       "      <th></th>\n",
       "      <th>movieId</th>\n",
       "      <th>title_cast</th>\n",
       "      <th>director</th>\n",
       "      <th>runtime</th>\n",
       "      <th>budget</th>\n",
       "      <th>plot_keywords</th>\n",
       "    </tr>\n",
       "  </thead>\n",
       "  <tbody>\n",
       "    <tr>\n",
       "      <th>0</th>\n",
       "      <td>1</td>\n",
       "      <td>Tom Hanks|Tim Allen|Don Rickles|Jim Varney|Wallace Shawn|John Ratzenberger|Annie Potts|John Morris|Erik von Detten|Laurie Metcalf|R. Lee Ermey|Sarah Freeman|Penn Jillette|Jack Angel|Spencer Aste</td>\n",
       "      <td>John Lasseter</td>\n",
       "      <td>81.0</td>\n",
       "      <td>$30,000,000</td>\n",
       "      <td>toy|rivalry|cowboy|cgi animation</td>\n",
       "    </tr>\n",
       "    <tr>\n",
       "      <th>1</th>\n",
       "      <td>2</td>\n",
       "      <td>Robin Williams|Jonathan Hyde|Kirsten Dunst|Bradley Pierce|Bonnie Hunt|Bebe Neuwirth|David Alan Grier|Patricia Clarkson|Adam Hann-Byrd|Laura Bell Bundy|James Handy|Gillian Barber|Brandon Obray|Cyrus Thiedeke|Gary Joseph Thorup</td>\n",
       "      <td>Jonathan Hensleigh</td>\n",
       "      <td>104.0</td>\n",
       "      <td>$65,000,000</td>\n",
       "      <td>board game|adventurer|fight|game</td>\n",
       "    </tr>\n",
       "    <tr>\n",
       "      <th>2</th>\n",
       "      <td>3</td>\n",
       "      <td>Walter Matthau|Jack Lemmon|Sophia Loren|Ann-Margret|Burgess Meredith|Daryl Hannah|Kevin Pollak|Katie Sagona|Ann Morgan Guilbert|James Andelin|Marcus Klemp|Max Wright|Cheryl Hawker|Wayne A. Evenson|Allison Levine</td>\n",
       "      <td>Mark Steven Johnson</td>\n",
       "      <td>101.0</td>\n",
       "      <td>$25,000,000</td>\n",
       "      <td>boat|lake|neighbor|rivalry</td>\n",
       "    </tr>\n",
       "    <tr>\n",
       "      <th>3</th>\n",
       "      <td>4</td>\n",
       "      <td>Whitney Houston|Angela Bassett|Loretta Devine|Lela Rochon|Gregory Hines|Dennis Haysbert|Mykelti Williamson|Michael Beach|Leon|Wendell Pierce|Donald Faison|Jeffrey D. Sams|Jazz Raycole|Brandon Hammond|Kenya Moore</td>\n",
       "      <td>Terry McMillan</td>\n",
       "      <td>124.0</td>\n",
       "      <td>$16,000,000</td>\n",
       "      <td>black american|husband wife relationship|betrayal|mother son relationship</td>\n",
       "    </tr>\n",
       "    <tr>\n",
       "      <th>4</th>\n",
       "      <td>5</td>\n",
       "      <td>Steve Martin|Diane Keaton|Martin Short|Kimberly Williams-Paisley|George Newbern|Kieran Culkin|BD Wong|Peter Michael Goetz|Kate McGregor-Stewart|Jane Adams|Eugene Levy|Rebecca Chambers|April Ortiz|Dulcy Rogers|Kathy Anthony</td>\n",
       "      <td>Albert Hackett</td>\n",
       "      <td>106.0</td>\n",
       "      <td>$30,000,000</td>\n",
       "      <td>fatherhood|doberman|dog|mansion</td>\n",
       "    </tr>\n",
       "  </tbody>\n",
       "</table style = \"display:inline\"></td></th><th style = \"text-align:center\"><td style = \"vertical-align:top\"><h4>Links</h4><table style = \"display:inline\" border=\"1\" class=\"dataframe\">\n",
       "  <thead>\n",
       "    <tr style=\"text-align: right;\">\n",
       "      <th></th>\n",
       "      <th>movieId</th>\n",
       "      <th>imdbId</th>\n",
       "      <th>tmdbId</th>\n",
       "    </tr>\n",
       "  </thead>\n",
       "  <tbody>\n",
       "    <tr>\n",
       "      <th>0</th>\n",
       "      <td>1</td>\n",
       "      <td>114709</td>\n",
       "      <td>862.0</td>\n",
       "    </tr>\n",
       "    <tr>\n",
       "      <th>1</th>\n",
       "      <td>2</td>\n",
       "      <td>113497</td>\n",
       "      <td>8844.0</td>\n",
       "    </tr>\n",
       "    <tr>\n",
       "      <th>2</th>\n",
       "      <td>3</td>\n",
       "      <td>113228</td>\n",
       "      <td>15602.0</td>\n",
       "    </tr>\n",
       "    <tr>\n",
       "      <th>3</th>\n",
       "      <td>4</td>\n",
       "      <td>114885</td>\n",
       "      <td>31357.0</td>\n",
       "    </tr>\n",
       "    <tr>\n",
       "      <th>4</th>\n",
       "      <td>5</td>\n",
       "      <td>113041</td>\n",
       "      <td>11862.0</td>\n",
       "    </tr>\n",
       "  </tbody>\n",
       "</table style = \"display:inline\"></td></th><th style = \"text-align:center\"><td style = \"vertical-align:top\"><h4>Movies</h4><table style = \"display:inline\" border=\"1\" class=\"dataframe\">\n",
       "  <thead>\n",
       "    <tr style=\"text-align: right;\">\n",
       "      <th></th>\n",
       "      <th>movieId</th>\n",
       "      <th>title</th>\n",
       "      <th>genres</th>\n",
       "    </tr>\n",
       "  </thead>\n",
       "  <tbody>\n",
       "    <tr>\n",
       "      <th>0</th>\n",
       "      <td>1</td>\n",
       "      <td>Toy Story (1995)</td>\n",
       "      <td>Adventure|Animation|Children|Comedy|Fantasy</td>\n",
       "    </tr>\n",
       "    <tr>\n",
       "      <th>1</th>\n",
       "      <td>2</td>\n",
       "      <td>Jumanji (1995)</td>\n",
       "      <td>Adventure|Children|Fantasy</td>\n",
       "    </tr>\n",
       "    <tr>\n",
       "      <th>2</th>\n",
       "      <td>3</td>\n",
       "      <td>Grumpier Old Men (1995)</td>\n",
       "      <td>Comedy|Romance</td>\n",
       "    </tr>\n",
       "    <tr>\n",
       "      <th>3</th>\n",
       "      <td>4</td>\n",
       "      <td>Waiting to Exhale (1995)</td>\n",
       "      <td>Comedy|Drama|Romance</td>\n",
       "    </tr>\n",
       "    <tr>\n",
       "      <th>4</th>\n",
       "      <td>5</td>\n",
       "      <td>Father of the Bride Part II (1995)</td>\n",
       "      <td>Comedy</td>\n",
       "    </tr>\n",
       "  </tbody>\n",
       "</table style = \"display:inline\"></td></th><th style = \"text-align:center\"><td style = \"vertical-align:top\"><h4>Tags</h4><table style = \"display:inline\" border=\"1\" class=\"dataframe\">\n",
       "  <thead>\n",
       "    <tr style=\"text-align: right;\">\n",
       "      <th></th>\n",
       "      <th>userId</th>\n",
       "      <th>movieId</th>\n",
       "      <th>tag</th>\n",
       "      <th>timestamp</th>\n",
       "    </tr>\n",
       "  </thead>\n",
       "  <tbody>\n",
       "    <tr>\n",
       "      <th>0</th>\n",
       "      <td>3</td>\n",
       "      <td>260</td>\n",
       "      <td>classic</td>\n",
       "      <td>1439472355</td>\n",
       "    </tr>\n",
       "    <tr>\n",
       "      <th>1</th>\n",
       "      <td>3</td>\n",
       "      <td>260</td>\n",
       "      <td>sci-fi</td>\n",
       "      <td>1439472256</td>\n",
       "    </tr>\n",
       "    <tr>\n",
       "      <th>2</th>\n",
       "      <td>4</td>\n",
       "      <td>1732</td>\n",
       "      <td>dark comedy</td>\n",
       "      <td>1573943598</td>\n",
       "    </tr>\n",
       "    <tr>\n",
       "      <th>3</th>\n",
       "      <td>4</td>\n",
       "      <td>1732</td>\n",
       "      <td>great dialogue</td>\n",
       "      <td>1573943604</td>\n",
       "    </tr>\n",
       "    <tr>\n",
       "      <th>4</th>\n",
       "      <td>4</td>\n",
       "      <td>7569</td>\n",
       "      <td>so bad it's good</td>\n",
       "      <td>1573943455</td>\n",
       "    </tr>\n",
       "  </tbody>\n",
       "</table style = \"display:inline\"></td></th><th style = \"text-align:center\"><td style = \"vertical-align:top\"><h4>Train</h4><table style = \"display:inline\" border=\"1\" class=\"dataframe\">\n",
       "  <thead>\n",
       "    <tr style=\"text-align: right;\">\n",
       "      <th></th>\n",
       "      <th>userId</th>\n",
       "      <th>movieId</th>\n",
       "      <th>rating</th>\n",
       "      <th>timestamp</th>\n",
       "    </tr>\n",
       "  </thead>\n",
       "  <tbody>\n",
       "    <tr>\n",
       "      <th>0</th>\n",
       "      <td>5163</td>\n",
       "      <td>57669</td>\n",
       "      <td>4.0</td>\n",
       "      <td>1518349992</td>\n",
       "    </tr>\n",
       "    <tr>\n",
       "      <th>1</th>\n",
       "      <td>106343</td>\n",
       "      <td>5</td>\n",
       "      <td>4.5</td>\n",
       "      <td>1206238739</td>\n",
       "    </tr>\n",
       "    <tr>\n",
       "      <th>2</th>\n",
       "      <td>146790</td>\n",
       "      <td>5459</td>\n",
       "      <td>5.0</td>\n",
       "      <td>1076215539</td>\n",
       "    </tr>\n",
       "    <tr>\n",
       "      <th>3</th>\n",
       "      <td>106362</td>\n",
       "      <td>32296</td>\n",
       "      <td>2.0</td>\n",
       "      <td>1423042565</td>\n",
       "    </tr>\n",
       "    <tr>\n",
       "      <th>4</th>\n",
       "      <td>9041</td>\n",
       "      <td>366</td>\n",
       "      <td>3.0</td>\n",
       "      <td>833375837</td>\n",
       "    </tr>\n",
       "  </tbody>\n",
       "</table style = \"display:inline\"></td></th><th style = \"text-align:center\"><td style = \"vertical-align:top\"><h4>Test</h4><table style = \"display:inline\" border=\"1\" class=\"dataframe\">\n",
       "  <thead>\n",
       "    <tr style=\"text-align: right;\">\n",
       "      <th></th>\n",
       "      <th>userId</th>\n",
       "      <th>movieId</th>\n",
       "    </tr>\n",
       "  </thead>\n",
       "  <tbody>\n",
       "    <tr>\n",
       "      <th>0</th>\n",
       "      <td>1</td>\n",
       "      <td>2011</td>\n",
       "    </tr>\n",
       "    <tr>\n",
       "      <th>1</th>\n",
       "      <td>1</td>\n",
       "      <td>4144</td>\n",
       "    </tr>\n",
       "    <tr>\n",
       "      <th>2</th>\n",
       "      <td>1</td>\n",
       "      <td>5767</td>\n",
       "    </tr>\n",
       "    <tr>\n",
       "      <th>3</th>\n",
       "      <td>1</td>\n",
       "      <td>6711</td>\n",
       "    </tr>\n",
       "    <tr>\n",
       "      <th>4</th>\n",
       "      <td>1</td>\n",
       "      <td>7318</td>\n",
       "    </tr>\n",
       "  </tbody>\n",
       "</table style = \"display:inline\"></td></th><th style = \"text-align:center\"><td style = \"vertical-align:top\"><h4>Sample</h4><table style = \"display:inline\" border=\"1\" class=\"dataframe\">\n",
       "  <thead>\n",
       "    <tr style=\"text-align: right;\">\n",
       "      <th></th>\n",
       "      <th>Id</th>\n",
       "      <th>rating</th>\n",
       "    </tr>\n",
       "  </thead>\n",
       "  <tbody>\n",
       "    <tr>\n",
       "      <th>0</th>\n",
       "      <td>1_2011</td>\n",
       "      <td>1.0</td>\n",
       "    </tr>\n",
       "    <tr>\n",
       "      <th>1</th>\n",
       "      <td>1_4144</td>\n",
       "      <td>1.0</td>\n",
       "    </tr>\n",
       "    <tr>\n",
       "      <th>2</th>\n",
       "      <td>1_5767</td>\n",
       "      <td>1.0</td>\n",
       "    </tr>\n",
       "    <tr>\n",
       "      <th>3</th>\n",
       "      <td>1_6711</td>\n",
       "      <td>1.0</td>\n",
       "    </tr>\n",
       "    <tr>\n",
       "      <th>4</th>\n",
       "      <td>1_7318</td>\n",
       "      <td>1.0</td>\n",
       "    </tr>\n",
       "  </tbody>\n",
       "</table style = \"display:inline\"></td></th>"
      ]
     },
     "metadata": {},
     "output_type": "display_data"
    }
   ],
   "source": [
    "display_tabs(genome_scores.head(),\n",
    "             genome_tags.head(),\n",
    "             imdb.head(),\n",
    "             links.head(),\n",
    "             movies.head(),\n",
    "             tags.head(),\n",
    "             train.head(),\n",
    "             test.head(),\n",
    "             sample_submission.head(),\n",
    "             titles = ['Genome_Scores', 'Genome_tags', 'IMBD', 'Links', 'Movies', 'Tags','Train','Test', 'Sample',])"
   ]
  },
  {
   "cell_type": "markdown",
   "id": "9663c449",
   "metadata": {},
   "source": [
    "From the above we can see that we have 9 tables. The sample table has the id and rating. This is a sample of what we are expected to submit on kaggle showing that we are expected to submit rating predictions. The test data has userid and movie id column while the train has additional columns named rating and timestamp. The widest table is the IMDB data composed of movieid, title cast, plot keywords, director, runtime and budget.\n",
    "Now that we have a glimpse of how each table looks, let's use the .info() function to discover an overview of the data characteristics. \n"
   ]
  },
  {
   "cell_type": "code",
   "execution_count": 9,
   "id": "a96f4ac2",
   "metadata": {},
   "outputs": [
    {
     "name": "stdout",
     "output_type": "stream",
     "text": [
      "Train Data:\n",
      "=================\n",
      "<class 'pandas.core.frame.DataFrame'>\n",
      "RangeIndex: 10000038 entries, 0 to 10000037\n",
      "Data columns (total 4 columns):\n",
      " #   Column     Dtype  \n",
      "---  ------     -----  \n",
      " 0   userId     int64  \n",
      " 1   movieId    int64  \n",
      " 2   rating     float64\n",
      " 3   timestamp  int64  \n",
      "dtypes: float64(1), int64(3)\n",
      "memory usage: 305.2 MB\n",
      "None\n",
      "-----------------\n",
      "(10000038, 4)\n",
      "=================\n",
      "\n",
      "Test Data:\n",
      "=================\n",
      "<class 'pandas.core.frame.DataFrame'>\n",
      "RangeIndex: 5000019 entries, 0 to 5000018\n",
      "Data columns (total 2 columns):\n",
      " #   Column   Dtype\n",
      "---  ------   -----\n",
      " 0   userId   int64\n",
      " 1   movieId  int64\n",
      "dtypes: int64(2)\n",
      "memory usage: 76.3 MB\n",
      "None\n",
      "-----------------\n",
      "(5000019, 2)\n",
      "=================\n",
      "\n",
      "Genome Scores Data:\n",
      "=================\n",
      "<class 'pandas.core.frame.DataFrame'>\n",
      "RangeIndex: 15584448 entries, 0 to 15584447\n",
      "Data columns (total 3 columns):\n",
      " #   Column     Dtype  \n",
      "---  ------     -----  \n",
      " 0   movieId    int64  \n",
      " 1   tagId      int64  \n",
      " 2   relevance  float64\n",
      "dtypes: float64(1), int64(2)\n",
      "memory usage: 356.7 MB\n",
      "None\n",
      "-----------------\n",
      "(15584448, 3)\n",
      "=================\n",
      "\n",
      "Genome Tags Data:\n",
      "=================\n",
      "<class 'pandas.core.frame.DataFrame'>\n",
      "RangeIndex: 1128 entries, 0 to 1127\n",
      "Data columns (total 2 columns):\n",
      " #   Column  Non-Null Count  Dtype \n",
      "---  ------  --------------  ----- \n",
      " 0   tagId   1128 non-null   int64 \n",
      " 1   tag     1128 non-null   object\n",
      "dtypes: int64(1), object(1)\n",
      "memory usage: 17.8+ KB\n",
      "None\n",
      "-----------------\n",
      "(1128, 2)\n",
      "=================\n",
      "\n",
      "IMDB Data:\n",
      "=================\n",
      "<class 'pandas.core.frame.DataFrame'>\n",
      "RangeIndex: 27278 entries, 0 to 27277\n",
      "Data columns (total 6 columns):\n",
      " #   Column         Non-Null Count  Dtype  \n",
      "---  ------         --------------  -----  \n",
      " 0   movieId        27278 non-null  int64  \n",
      " 1   title_cast     17210 non-null  object \n",
      " 2   director       17404 non-null  object \n",
      " 3   runtime        15189 non-null  float64\n",
      " 4   budget         7906 non-null   object \n",
      " 5   plot_keywords  16200 non-null  object \n",
      "dtypes: float64(1), int64(1), object(4)\n",
      "memory usage: 1.2+ MB\n",
      "None\n",
      "-----------------\n",
      "(27278, 6)\n",
      "=================\n",
      "\n",
      "Links Data:\n",
      "=================\n",
      "<class 'pandas.core.frame.DataFrame'>\n",
      "RangeIndex: 62423 entries, 0 to 62422\n",
      "Data columns (total 3 columns):\n",
      " #   Column   Non-Null Count  Dtype  \n",
      "---  ------   --------------  -----  \n",
      " 0   movieId  62423 non-null  int64  \n",
      " 1   imdbId   62423 non-null  int64  \n",
      " 2   tmdbId   62316 non-null  float64\n",
      "dtypes: float64(1), int64(2)\n",
      "memory usage: 1.4 MB\n",
      "None\n",
      "-----------------\n",
      "(62423, 3)\n",
      "=================\n",
      "\n",
      "Movies Data:\n",
      "=================\n",
      "<class 'pandas.core.frame.DataFrame'>\n",
      "RangeIndex: 62423 entries, 0 to 62422\n",
      "Data columns (total 3 columns):\n",
      " #   Column   Non-Null Count  Dtype \n",
      "---  ------   --------------  ----- \n",
      " 0   movieId  62423 non-null  int64 \n",
      " 1   title    62423 non-null  object\n",
      " 2   genres   62423 non-null  object\n",
      "dtypes: int64(1), object(2)\n",
      "memory usage: 1.4+ MB\n",
      "None\n",
      "-----------------\n",
      "(62423, 3)\n",
      "=================\n",
      "\n",
      "Tags Data:\n",
      "=================\n",
      "<class 'pandas.core.frame.DataFrame'>\n",
      "RangeIndex: 1093360 entries, 0 to 1093359\n",
      "Data columns (total 4 columns):\n",
      " #   Column     Non-Null Count    Dtype \n",
      "---  ------     --------------    ----- \n",
      " 0   userId     1093360 non-null  int64 \n",
      " 1   movieId    1093360 non-null  int64 \n",
      " 2   tag        1093344 non-null  object\n",
      " 3   timestamp  1093360 non-null  int64 \n",
      "dtypes: int64(3), object(1)\n",
      "memory usage: 33.4+ MB\n",
      "None\n",
      "-----------------\n",
      "(1093360, 4)\n",
      "=================\n",
      "\n",
      "Sample Data:\n",
      "=================\n",
      "<class 'pandas.core.frame.DataFrame'>\n",
      "RangeIndex: 5000019 entries, 0 to 5000018\n",
      "Data columns (total 2 columns):\n",
      " #   Column  Dtype  \n",
      "---  ------  -----  \n",
      " 0   Id      object \n",
      " 1   rating  float64\n",
      "dtypes: float64(1), object(1)\n",
      "memory usage: 76.3+ MB\n",
      "None\n",
      "-----------------\n",
      "(5000019, 2)\n",
      "=================\n"
     ]
    }
   ],
   "source": [
    "print('Train Data:')\n",
    "print('=================')\n",
    "print(train.info())\n",
    "print('-----------------')\n",
    "print(train.shape)\n",
    "print('=================\\n')\n",
    "\n",
    "print('Test Data:')\n",
    "print('=================')\n",
    "print(test.info())\n",
    "print('-----------------')\n",
    "print(test.shape)\n",
    "print('=================\\n')\n",
    "\n",
    "print('Genome Scores Data:')\n",
    "print('=================')\n",
    "print(genome_scores.info())\n",
    "print('-----------------')\n",
    "print(genome_scores.shape)\n",
    "print('=================\\n')\n",
    "\n",
    "print('Genome Tags Data:')\n",
    "print('=================')\n",
    "print(genome_tags.info())\n",
    "print('-----------------')\n",
    "print(genome_tags.shape)\n",
    "print('=================\\n')\n",
    "\n",
    "print('IMDB Data:')\n",
    "print('=================')\n",
    "print(imdb.info())\n",
    "print('-----------------')\n",
    "print(imdb.shape)\n",
    "print('=================\\n')\n",
    "\n",
    "print('Links Data:')\n",
    "print('=================')\n",
    "print(links.info())\n",
    "print('-----------------')\n",
    "print(links.shape)\n",
    "print('=================\\n')\n",
    "\n",
    "print('Movies Data:')\n",
    "print('=================')\n",
    "print(movies.info())\n",
    "print('-----------------')\n",
    "print(movies.shape)\n",
    "print('=================\\n')\n",
    "\n",
    "print('Tags Data:')\n",
    "print('=================')\n",
    "print(tags.info())\n",
    "print('-----------------')\n",
    "print(tags.shape)\n",
    "print('=================\\n')\n",
    "\n",
    "print('Sample Data:')\n",
    "print('=================')\n",
    "print(sample_submission.info())\n",
    "print('-----------------')\n",
    "print(sample_submission.shape)\n",
    "print('=================')"
   ]
  },
  {
   "cell_type": "markdown",
   "id": "c14a6641-7f71-4684-93e8-438b61e27606",
   "metadata": {},
   "source": [
    "The database here is enormous with more than a million rows of information. This can take strain on our local machines and therefore we have to  look for an online computing solution to resolve this problem. Now that we lets check for null values. "
   ]
  },
  {
   "cell_type": "code",
   "execution_count": 10,
   "id": "68832219",
   "metadata": {},
   "outputs": [
    {
     "name": "stdout",
     "output_type": "stream",
     "text": [
      "Train: \n",
      "userId       0\n",
      "movieId      0\n",
      "rating       0\n",
      "timestamp    0\n",
      "dtype: int64\n",
      "===================================\n",
      "\n",
      "Test: \n",
      "userId     0\n",
      "movieId    0\n",
      "dtype: int64\n",
      "===================================\n",
      "\n",
      "Movies: \n",
      "movieId    0\n",
      "title      0\n",
      "genres     0\n",
      "dtype: int64\n",
      "===================================\n",
      "\n",
      "Tags: \n",
      "userId        0\n",
      "movieId       0\n",
      "tag          16\n",
      "timestamp     0\n",
      "dtype: int64\n",
      "===================================\n",
      "\n",
      "Links: \n",
      "movieId      0\n",
      "imdbId       0\n",
      "tmdbId     107\n",
      "dtype: int64\n",
      "===================================\n",
      "\n",
      "IMDB: \n",
      "movieId              0\n",
      "title_cast       10068\n",
      "director          9874\n",
      "runtime          12089\n",
      "budget           19372\n",
      "plot_keywords    11078\n",
      "dtype: int64\n",
      "===================================\n",
      "\n",
      "Genome scores: \n",
      "movieId      0\n",
      "tagId        0\n",
      "relevance    0\n",
      "dtype: int64\n",
      "===================================\n",
      "\n",
      "Genome tags: \n",
      "tagId    0\n",
      "tag      0\n",
      "dtype: int64\n"
     ]
    }
   ],
   "source": [
    "# Checking null values count\n",
    "print(\"Train: \")\n",
    "print(str(train.isnull().sum()))\n",
    "print(\"===================================\\n\")\n",
    "print(\"Test: \")\n",
    "print(str(test.isnull().sum()))\n",
    "print(\"===================================\\n\")\n",
    "print(\"Movies: \")\n",
    "print(str(movies.isnull().sum()))\n",
    "print(\"===================================\\n\")\n",
    "print(\"Tags: \")\n",
    "print(str(tags.isnull().sum()))\n",
    "print(\"===================================\\n\")\n",
    "print(\"Links: \")\n",
    "print(str(links.isnull().sum()))\n",
    "print(\"===================================\\n\")\n",
    "print(\"IMDB: \")\n",
    "print(str(imdb.isnull().sum()))\n",
    "print(\"===================================\\n\")\n",
    "print(\"Genome scores: \")\n",
    "print(str(genome_scores.isnull().sum()))\n",
    "print(\"===================================\\n\")\n",
    "print(\"Genome tags: \")\n",
    "print(str(genome_tags.isnull().sum()))"
   ]
  },
  {
   "cell_type": "markdown",
   "id": "39ea41ea-9970-4590-9eb2-230a641ccfe0",
   "metadata": {},
   "source": [
    "The IMDB  and tags dataset has many null values. We have to handle these in the preprocessing phase. "
   ]
  },
  {
   "cell_type": "markdown",
   "id": "ddede3c4",
   "metadata": {},
   "source": [
    "### The Train dataset"
   ]
  },
  {
   "cell_type": "code",
   "execution_count": 11,
   "id": "e1f561c2",
   "metadata": {
    "scrolled": true
   },
   "outputs": [
    {
     "name": "stdout",
     "output_type": "stream",
     "text": [
      "Total Train Data:\n",
      "-----------------------\n",
      "Total number of movie ratings in Train data = 10000038\n",
      "Number of unique users in Train data = 162541\n",
      "Number of unique movies in Train data = 48213\n",
      "Highest value of a User ID = 162541\n",
      "Highest value of a Movie ID = 209171\n"
     ]
    }
   ],
   "source": [
    "print(\"Total Train Data:\")\n",
    "print('-----------------------')\n",
    "print(\"Total number of movie ratings in Train data = \"+str(train.shape[0]))\n",
    "print(\"Number of unique users in Train data = \"+str(len(np.unique(train[\"userId\"]))))\n",
    "print(\"Number of unique movies in Train data = \"+str(len(np.unique(train[\"movieId\"]))))\n",
    "print(\"Highest value of a User ID = \"+str(max(train[\"userId\"].values)))\n",
    "print(\"Highest value of a Movie ID = \"+str(max(train[\"movieId\"].values)))"
   ]
  },
  {
   "cell_type": "markdown",
   "id": "0c294f0c-9ff3-43b5-9c6b-5e3adb241f19",
   "metadata": {},
   "source": [
    "Our dataset is separated into smaller different tables. This makes it difficult to do a more comprehensive exploration of the data as some analysis requires the tables to be merged. As a result, data processing will contain some sections of EDA. "
   ]
  },
  {
   "cell_type": "markdown",
   "id": "dcf48fe3-f91f-4c5e-bf47-accf379afabe",
   "metadata": {
    "jp-MarkdownHeadingCollapsed": true,
    "tags": []
   },
   "source": [
    "#### Conclusion EDA\n",
    "\n",
    "In this section we were able to look at the datasets shape, info, head as well as find the null values. We observed that the datasets are fragmented into different tables and this requires that we merge the data tables as well as create new features to help with further data analysis. As a result, the following section will contain aspects oF EDA."
   ]
  },
  {
   "cell_type": "markdown",
   "id": "c7720525",
   "metadata": {
    "tags": []
   },
   "source": [
    "# Data Preprocessing\n",
    "\n",
    "In this section we aim to transform raw data into an understandable format that machine learning models can understand and use. Data processing is usually made up of data cleaning, data integration, data transformation and data reduction for dimension reduction. \n",
    "\n",
    "<img src=\"https://miro.medium.com/max/8332/1*wK8k8Vo8_c6jdYIjUWL_Pw.png \" align = \"centre\">\n",
    "\n",
    "When **data cleaning** we remove incorrect, incomplete, inaccurate  and incorrect data from the dataset. In reasonable cases we replace missing values. When presented with ***noisy data*** That was unnecessary data point clustering can help improve that. ***Clustering*** is a method used to identify outliers and groupings. \n",
    "\n",
    "In the **data integration** phase we combine multiple sources of single datasets into a single dataset (using pd.merge).\n",
    "\n",
    "**Data reduction** helps in the reduction of the volume of the data which makes the analysis easier yet produces the same or almost the same result. ***Numerosity reduction**** a data reduction method where the representation of the data is made smaller by reducing the volume. \n",
    "\n",
    "The change made in the format or the structure of the data is called **data transformation**. This step can be simple or complex based on the requirements.Normalization is one of the data transformation methods of scaling the data so that it can be represented in a smaller range. Examples ranging from -1.0 to 1.0.\n",
    "\n",
    "**Please note:his section will contain more exploratory data analysis segments \n"
   ]
  },
  {
   "cell_type": "markdown",
   "id": "e1855e70",
   "metadata": {
    "colab_type": "text",
    "id": "qEh0iZUFvTgN"
   },
   "source": [
    "### Let's merge data between the Train dataset and Movies dataset, to simplify the movie and ratings details\n",
    "\n",
    "Our Data is currently stored in multiple data frames with various information that we would like to see in all one place, in a nicely formatted, easy to interpret and content based filtering. This is why we have to firstly merge these datasets. \n",
    "\n"
   ]
  },
  {
   "cell_type": "code",
   "execution_count": 5,
   "id": "6234eb43",
   "metadata": {
    "tags": []
   },
   "outputs": [
    {
     "data": {
      "text/plain": [
       "(10000038, 6)"
      ]
     },
     "execution_count": 5,
     "metadata": {},
     "output_type": "execute_result"
    }
   ],
   "source": [
    "# Merging the train and movies data on the movieId column\n",
    "new_train = train.merge(movies, on='movieId')\n",
    "new_train.shape"
   ]
  },
  {
   "cell_type": "markdown",
   "id": "a550f145-0bb5-4c05-ade6-4abf4ff40443",
   "metadata": {},
   "source": [
    "The movie and train_df have a common primary key = movieid.The movie database has the movieid, movie title and genre while train_df user_id, movie_id, rating and timestamp. Merging these two databases on movie id will ensure that we have more features for our machine learning algorithm to learn. \n"
   ]
  },
  {
   "cell_type": "code",
   "execution_count": 6,
   "id": "37e89caa",
   "metadata": {},
   "outputs": [
    {
     "data": {
      "text/html": [
       "<div>\n",
       "<style scoped>\n",
       "    .dataframe tbody tr th:only-of-type {\n",
       "        vertical-align: middle;\n",
       "    }\n",
       "\n",
       "    .dataframe tbody tr th {\n",
       "        vertical-align: top;\n",
       "    }\n",
       "\n",
       "    .dataframe thead th {\n",
       "        text-align: right;\n",
       "    }\n",
       "</style>\n",
       "<table border=\"1\" class=\"dataframe\">\n",
       "  <thead>\n",
       "    <tr style=\"text-align: right;\">\n",
       "      <th></th>\n",
       "      <th>userId</th>\n",
       "      <th>movieId</th>\n",
       "      <th>rating</th>\n",
       "      <th>timestamp</th>\n",
       "      <th>title</th>\n",
       "      <th>genres</th>\n",
       "    </tr>\n",
       "  </thead>\n",
       "  <tbody>\n",
       "    <tr>\n",
       "      <th>0</th>\n",
       "      <td>5163</td>\n",
       "      <td>57669</td>\n",
       "      <td>4.0</td>\n",
       "      <td>1518349992</td>\n",
       "      <td>In Bruges (2008)</td>\n",
       "      <td>Comedy|Crime|Drama|Thriller</td>\n",
       "    </tr>\n",
       "    <tr>\n",
       "      <th>1</th>\n",
       "      <td>87388</td>\n",
       "      <td>57669</td>\n",
       "      <td>3.5</td>\n",
       "      <td>1237455297</td>\n",
       "      <td>In Bruges (2008)</td>\n",
       "      <td>Comedy|Crime|Drama|Thriller</td>\n",
       "    </tr>\n",
       "    <tr>\n",
       "      <th>2</th>\n",
       "      <td>137050</td>\n",
       "      <td>57669</td>\n",
       "      <td>4.0</td>\n",
       "      <td>1425631854</td>\n",
       "      <td>In Bruges (2008)</td>\n",
       "      <td>Comedy|Crime|Drama|Thriller</td>\n",
       "    </tr>\n",
       "    <tr>\n",
       "      <th>3</th>\n",
       "      <td>120490</td>\n",
       "      <td>57669</td>\n",
       "      <td>4.5</td>\n",
       "      <td>1408228517</td>\n",
       "      <td>In Bruges (2008)</td>\n",
       "      <td>Comedy|Crime|Drama|Thriller</td>\n",
       "    </tr>\n",
       "    <tr>\n",
       "      <th>4</th>\n",
       "      <td>50616</td>\n",
       "      <td>57669</td>\n",
       "      <td>4.5</td>\n",
       "      <td>1446941640</td>\n",
       "      <td>In Bruges (2008)</td>\n",
       "      <td>Comedy|Crime|Drama|Thriller</td>\n",
       "    </tr>\n",
       "  </tbody>\n",
       "</table>\n",
       "</div>"
      ],
      "text/plain": [
       "   userId  movieId  rating   timestamp             title  \\\n",
       "0    5163    57669     4.0  1518349992  In Bruges (2008)   \n",
       "1   87388    57669     3.5  1237455297  In Bruges (2008)   \n",
       "2  137050    57669     4.0  1425631854  In Bruges (2008)   \n",
       "3  120490    57669     4.5  1408228517  In Bruges (2008)   \n",
       "4   50616    57669     4.5  1446941640  In Bruges (2008)   \n",
       "\n",
       "                        genres  \n",
       "0  Comedy|Crime|Drama|Thriller  \n",
       "1  Comedy|Crime|Drama|Thriller  \n",
       "2  Comedy|Crime|Drama|Thriller  \n",
       "3  Comedy|Crime|Drama|Thriller  \n",
       "4  Comedy|Crime|Drama|Thriller  "
      ]
     },
     "execution_count": 6,
     "metadata": {},
     "output_type": "execute_result"
    }
   ],
   "source": [
    "# view thw merges new df\n",
    "new_train.head()"
   ]
  },
  {
   "cell_type": "markdown",
   "id": "8eda5b05",
   "metadata": {},
   "source": [
    "Now the data is successfully merged, it's time to convert the timestamp to year column representing the year the rating was made on the merged data frame.This is because time usually has an influence on how algorithms classify data and extracting the date feature will ensure the model performs better. "
   ]
  },
  {
   "cell_type": "code",
   "execution_count": 7,
   "id": "d2d44836",
   "metadata": {},
   "outputs": [
    {
     "data": {
      "text/html": [
       "<div>\n",
       "<style scoped>\n",
       "    .dataframe tbody tr th:only-of-type {\n",
       "        vertical-align: middle;\n",
       "    }\n",
       "\n",
       "    .dataframe tbody tr th {\n",
       "        vertical-align: top;\n",
       "    }\n",
       "\n",
       "    .dataframe thead th {\n",
       "        text-align: right;\n",
       "    }\n",
       "</style>\n",
       "<table border=\"1\" class=\"dataframe\">\n",
       "  <thead>\n",
       "    <tr style=\"text-align: right;\">\n",
       "      <th></th>\n",
       "      <th>userId</th>\n",
       "      <th>movieId</th>\n",
       "      <th>rating</th>\n",
       "      <th>timestamp</th>\n",
       "      <th>title</th>\n",
       "      <th>genres</th>\n",
       "      <th>rating_year</th>\n",
       "    </tr>\n",
       "  </thead>\n",
       "  <tbody>\n",
       "    <tr>\n",
       "      <th>0</th>\n",
       "      <td>5163</td>\n",
       "      <td>57669</td>\n",
       "      <td>4.0</td>\n",
       "      <td>1518349992</td>\n",
       "      <td>In Bruges (2008)</td>\n",
       "      <td>Comedy|Crime|Drama|Thriller</td>\n",
       "      <td>2018</td>\n",
       "    </tr>\n",
       "    <tr>\n",
       "      <th>1</th>\n",
       "      <td>87388</td>\n",
       "      <td>57669</td>\n",
       "      <td>3.5</td>\n",
       "      <td>1237455297</td>\n",
       "      <td>In Bruges (2008)</td>\n",
       "      <td>Comedy|Crime|Drama|Thriller</td>\n",
       "      <td>2009</td>\n",
       "    </tr>\n",
       "    <tr>\n",
       "      <th>2</th>\n",
       "      <td>137050</td>\n",
       "      <td>57669</td>\n",
       "      <td>4.0</td>\n",
       "      <td>1425631854</td>\n",
       "      <td>In Bruges (2008)</td>\n",
       "      <td>Comedy|Crime|Drama|Thriller</td>\n",
       "      <td>2015</td>\n",
       "    </tr>\n",
       "    <tr>\n",
       "      <th>3</th>\n",
       "      <td>120490</td>\n",
       "      <td>57669</td>\n",
       "      <td>4.5</td>\n",
       "      <td>1408228517</td>\n",
       "      <td>In Bruges (2008)</td>\n",
       "      <td>Comedy|Crime|Drama|Thriller</td>\n",
       "      <td>2014</td>\n",
       "    </tr>\n",
       "    <tr>\n",
       "      <th>4</th>\n",
       "      <td>50616</td>\n",
       "      <td>57669</td>\n",
       "      <td>4.5</td>\n",
       "      <td>1446941640</td>\n",
       "      <td>In Bruges (2008)</td>\n",
       "      <td>Comedy|Crime|Drama|Thriller</td>\n",
       "      <td>2015</td>\n",
       "    </tr>\n",
       "  </tbody>\n",
       "</table>\n",
       "</div>"
      ],
      "text/plain": [
       "   userId  movieId  rating   timestamp             title  \\\n",
       "0    5163    57669     4.0  1518349992  In Bruges (2008)   \n",
       "1   87388    57669     3.5  1237455297  In Bruges (2008)   \n",
       "2  137050    57669     4.0  1425631854  In Bruges (2008)   \n",
       "3  120490    57669     4.5  1408228517  In Bruges (2008)   \n",
       "4   50616    57669     4.5  1446941640  In Bruges (2008)   \n",
       "\n",
       "                        genres  rating_year  \n",
       "0  Comedy|Crime|Drama|Thriller         2018  \n",
       "1  Comedy|Crime|Drama|Thriller         2009  \n",
       "2  Comedy|Crime|Drama|Thriller         2015  \n",
       "3  Comedy|Crime|Drama|Thriller         2014  \n",
       "4  Comedy|Crime|Drama|Thriller         2015  "
      ]
     },
     "execution_count": 7,
     "metadata": {},
     "output_type": "execute_result"
    }
   ],
   "source": [
    "#Convert timestamp to year column representing the year the rating was made on merged dataframe\n",
    "new_train['rating_year'] = new_train['timestamp'].apply(lambda timestamp: datetime.fromtimestamp(timestamp).year)\n",
    "new_train.head()"
   ]
  },
  {
   "cell_type": "markdown",
   "id": "f8cf190e",
   "metadata": {},
   "source": [
    "Now that the year feature is created, lets look at the nin and max year of rating to gauge our  rating timeframe. "
   ]
  },
  {
   "cell_type": "code",
   "execution_count": 8,
   "id": "a9cb7ef7",
   "metadata": {},
   "outputs": [
    {
     "name": "stdout",
     "output_type": "stream",
     "text": [
      "The earliest rating was in year  1995\n",
      "The latest rating was in year : 2019\n"
     ]
    }
   ],
   "source": [
    "## Checking the earliest and most recent ratings years\n",
    "print(\"The earliest rating was in year \", new_train['rating_year'].min())\n",
    "print(\"The latest rating was in year :\",new_train['rating_year'].max())"
   ]
  },
  {
   "cell_type": "markdown",
   "id": "65db8180",
   "metadata": {},
   "source": [
    "From the data we can see that our ratings hapen within 1995 and 2019. Now lets try to extract year realeased from the title column. "
   ]
  },
  {
   "cell_type": "code",
   "execution_count": 9,
   "id": "a031cc67",
   "metadata": {},
   "outputs": [],
   "source": [
    "'''''\n",
    "Function to extract the year a movie was released from the movie title\n",
    "\n",
    "The function reads the last 4 digits from the movie title.\n",
    "    \n",
    "    title: Movie title\n",
    "    df: Dataset to work with\n",
    "    release_years: The movie year we require information of\n",
    "\n",
    "'''''\n",
    "def get_release_dates(title):\n",
    "    \n",
    "    sub = title[-5:-1]\n",
    "    year = int(sub) if sub.isdigit() else 9999    \n",
    "    return year\n",
    "\n",
    "def get_releases_by_year(df, release_years):\n",
    "    \n",
    "    mask = df[(df['release_year'] >= release_years[0]) & (df['release_year'] <= release_years[-1])]\n",
    "    return [mask[mask['release_year'] == year]['movieId'].nunique() for year in release_years]"
   ]
  },
  {
   "cell_type": "code",
   "execution_count": 10,
   "id": "cfd9a7e0",
   "metadata": {},
   "outputs": [],
   "source": [
    "##### Applying the function\n",
    "new_train['release_year'] = new_train['title'].apply(get_release_dates)"
   ]
  },
  {
   "cell_type": "code",
   "execution_count": 11,
   "id": "ff02245e",
   "metadata": {},
   "outputs": [
    {
     "data": {
      "text/html": [
       "<div>\n",
       "<style scoped>\n",
       "    .dataframe tbody tr th:only-of-type {\n",
       "        vertical-align: middle;\n",
       "    }\n",
       "\n",
       "    .dataframe tbody tr th {\n",
       "        vertical-align: top;\n",
       "    }\n",
       "\n",
       "    .dataframe thead th {\n",
       "        text-align: right;\n",
       "    }\n",
       "</style>\n",
       "<table border=\"1\" class=\"dataframe\">\n",
       "  <thead>\n",
       "    <tr style=\"text-align: right;\">\n",
       "      <th></th>\n",
       "      <th>userId</th>\n",
       "      <th>movieId</th>\n",
       "      <th>rating</th>\n",
       "      <th>timestamp</th>\n",
       "      <th>title</th>\n",
       "      <th>genres</th>\n",
       "      <th>rating_year</th>\n",
       "      <th>release_year</th>\n",
       "    </tr>\n",
       "  </thead>\n",
       "  <tbody>\n",
       "    <tr>\n",
       "      <th>0</th>\n",
       "      <td>5163</td>\n",
       "      <td>57669</td>\n",
       "      <td>4.0</td>\n",
       "      <td>1518349992</td>\n",
       "      <td>In Bruges (2008)</td>\n",
       "      <td>Comedy|Crime|Drama|Thriller</td>\n",
       "      <td>2018</td>\n",
       "      <td>2008</td>\n",
       "    </tr>\n",
       "    <tr>\n",
       "      <th>1</th>\n",
       "      <td>87388</td>\n",
       "      <td>57669</td>\n",
       "      <td>3.5</td>\n",
       "      <td>1237455297</td>\n",
       "      <td>In Bruges (2008)</td>\n",
       "      <td>Comedy|Crime|Drama|Thriller</td>\n",
       "      <td>2009</td>\n",
       "      <td>2008</td>\n",
       "    </tr>\n",
       "    <tr>\n",
       "      <th>2</th>\n",
       "      <td>137050</td>\n",
       "      <td>57669</td>\n",
       "      <td>4.0</td>\n",
       "      <td>1425631854</td>\n",
       "      <td>In Bruges (2008)</td>\n",
       "      <td>Comedy|Crime|Drama|Thriller</td>\n",
       "      <td>2015</td>\n",
       "      <td>2008</td>\n",
       "    </tr>\n",
       "    <tr>\n",
       "      <th>3</th>\n",
       "      <td>120490</td>\n",
       "      <td>57669</td>\n",
       "      <td>4.5</td>\n",
       "      <td>1408228517</td>\n",
       "      <td>In Bruges (2008)</td>\n",
       "      <td>Comedy|Crime|Drama|Thriller</td>\n",
       "      <td>2014</td>\n",
       "      <td>2008</td>\n",
       "    </tr>\n",
       "    <tr>\n",
       "      <th>4</th>\n",
       "      <td>50616</td>\n",
       "      <td>57669</td>\n",
       "      <td>4.5</td>\n",
       "      <td>1446941640</td>\n",
       "      <td>In Bruges (2008)</td>\n",
       "      <td>Comedy|Crime|Drama|Thriller</td>\n",
       "      <td>2015</td>\n",
       "      <td>2008</td>\n",
       "    </tr>\n",
       "  </tbody>\n",
       "</table>\n",
       "</div>"
      ],
      "text/plain": [
       "   userId  movieId  rating   timestamp             title  \\\n",
       "0    5163    57669     4.0  1518349992  In Bruges (2008)   \n",
       "1   87388    57669     3.5  1237455297  In Bruges (2008)   \n",
       "2  137050    57669     4.0  1425631854  In Bruges (2008)   \n",
       "3  120490    57669     4.5  1408228517  In Bruges (2008)   \n",
       "4   50616    57669     4.5  1446941640  In Bruges (2008)   \n",
       "\n",
       "                        genres  rating_year  release_year  \n",
       "0  Comedy|Crime|Drama|Thriller         2018          2008  \n",
       "1  Comedy|Crime|Drama|Thriller         2009          2008  \n",
       "2  Comedy|Crime|Drama|Thriller         2015          2008  \n",
       "3  Comedy|Crime|Drama|Thriller         2014          2008  \n",
       "4  Comedy|Crime|Drama|Thriller         2015          2008  "
      ]
     },
     "execution_count": 11,
     "metadata": {},
     "output_type": "execute_result"
    }
   ],
   "source": [
    "#visualise the new d with release year column \n",
    "new_train.head()"
   ]
  },
  {
   "cell_type": "code",
   "execution_count": 12,
   "id": "f275df0e",
   "metadata": {},
   "outputs": [
    {
     "data": {
      "text/plain": [
       "(136, 6, 9999)"
      ]
     },
     "execution_count": 12,
     "metadata": {},
     "output_type": "execute_result"
    }
   ],
   "source": [
    "# Checking number of distinct years for movie releases, including the ealrliest and most recent year\n",
    "new_train['release_year'].nunique(), new_train['release_year'].min(), new_train['release_year'].max()"
   ]
  },
  {
   "cell_type": "code",
   "execution_count": 13,
   "id": "7bd703e6",
   "metadata": {},
   "outputs": [
    {
     "data": {
      "text/plain": [
       "(1874, 2019)"
      ]
     },
     "execution_count": 13,
     "metadata": {},
     "output_type": "execute_result"
    }
   ],
   "source": [
    "new_train[new_train['release_year'] != 6]['release_year'].min(), new_train[new_train['release_year'] != 9999]['release_year'].max()"
   ]
  },
  {
   "cell_type": "markdown",
   "id": "c777ac7b",
   "metadata": {},
   "source": [
    "##### The 9999 is returned by the <a>get_release_dates</a> function, for rows where the movie title does not specify the release date. \n",
    "##### The 6 represents instances where the date was in all probability specified incorrectly as 6. \n",
    "##### The years from 1874 to 2019 represent a 145 year period, while there are 134 distinct years not including 6 and 9999 instances. \n",
    "##### As such it cannot be concluded that there are 11 years in which no movies were released in this 145 year period, given the above observations."
   ]
  },
  {
   "cell_type": "markdown",
   "id": "38a3e2c8",
   "metadata": {},
   "source": [
    "#### Dropping the timestamp column"
   ]
  },
  {
   "cell_type": "code",
   "execution_count": 14,
   "id": "62eb06bb",
   "metadata": {},
   "outputs": [],
   "source": [
    "new_train.drop('timestamp', axis=1, inplace=True)"
   ]
  },
  {
   "cell_type": "markdown",
   "id": "1d771c45-e4a0-4494-90e1-58ae70d5bf2c",
   "metadata": {},
   "source": [
    "The timestamp will be dropped because it has a strong positive correlation with movieid and therefore dropping it won't affect the model as much."
   ]
  },
  {
   "cell_type": "markdown",
   "id": "3eef6780",
   "metadata": {},
   "source": [
    "#### Visualizing the movie ratings by year"
   ]
  },
  {
   "cell_type": "code",
   "execution_count": 15,
   "id": "159f56dc",
   "metadata": {},
   "outputs": [
    {
     "data": {
      "image/png": "[encoded data removed]",
      "text/plain": [
       "<Figure size 864x432 with 1 Axes>"
      ]
     },
     "metadata": {
      "needs_background": "light"
     },
     "output_type": "display_data"
    }
   ],
   "source": [
    "fig, ax = plt.subplots(1, 1, figsize = (12, 6))\n",
    "ax1 = new_train.groupby('rating_year')['rating'].count().plot(kind='bar', title='Ratings by year', color='#ADD8E6')\n",
    "fig.tight_layout()"
   ]
  },
  {
   "cell_type": "markdown",
   "id": "1bd5d909",
   "metadata": {},
   "source": [
    "The ratings for the movies span a period of 25 years, from 1995 all the way to 2019, with the last 5 years accumalatively having had the most ratings in comparison to any othe other 5 year interval. \n",
    "From 2006 to 2014 there is decline in user engagement when it comes to rating movies. Prior to 2006 there are 3 good years with ratings above 500,000 ratings for the year, 3 more years at 400,000 ratings and 3 below 300,000 ratings for the year. \n",
    "It would be of interest to the spending behaviour of users for each of these years, as that would tell the complete story."
   ]
  },
  {
   "cell_type": "markdown",
   "id": "30b1644f",
   "metadata": {},
   "source": [
    "### Creating a genre count column, for the number of genres a movie belongs to, for futher analysis\n",
    "\n",
    "Now that we have a rating year column we also need to create a column that measures the a that counts the amount of genres available. This will help the modeling algorithm understand the number of genres a movie belongs to."
   ]
  },
  {
   "cell_type": "markdown",
   "id": "253bd333",
   "metadata": {},
   "source": [
    "##### We have to split each data in the \"genre\" column, getting rid of the vertical bars."
   ]
  },
  {
   "cell_type": "code",
   "execution_count": 16,
   "id": "359aae95",
   "metadata": {},
   "outputs": [],
   "source": [
    "# To tell how many genres a movie is classified under.\n",
    "\n",
    "new_train['genre_count'] = new_train['genres'].apply(lambda genres: len(genres.split('|')))"
   ]
  },
  {
   "cell_type": "markdown",
   "id": "64161775",
   "metadata": {},
   "source": [
    "Now that the genre_count column is created we will create a colum that shows a list of genres . After such is done we will drop the genres colum as it will have the same information as the new created features. "
   ]
  },
  {
   "cell_type": "code",
   "execution_count": 17,
   "id": "309e9145",
   "metadata": {},
   "outputs": [],
   "source": [
    "# Creating a list of all the genres for grouping\n",
    "\n",
    "movie_genres = []\n",
    "new_train['genres'].apply(lambda genres: movie_genres.extend(genres.split('|')))\n",
    "movie_genres = sorted(set(movie_genres))"
   ]
  },
  {
   "cell_type": "code",
   "execution_count": 18,
   "id": "758a43df",
   "metadata": {},
   "outputs": [],
   "source": [
    "# Getting rid of the vertical bars in the genres' column\n",
    "new_train['genre_list'] = new_train['genres'].str.split('|')\n"
   ]
  },
  {
   "cell_type": "code",
   "execution_count": 19,
   "id": "bbc4e7a7",
   "metadata": {},
   "outputs": [],
   "source": [
    "new_train.drop('genres', axis=1,inplace=True)"
   ]
  },
  {
   "cell_type": "markdown",
   "id": "37a5dc04",
   "metadata": {
    "tags": []
   },
   "source": [
    "\n",
    " #### Specifying number of ratings for each movie\n",
    "We need to use the movies with more than at least 50 percent rating as the data is too much to handle and movies with more ratings have more information and a better pattern for our machine learning algorithm to learn from. To do that we need to create a rating counting  column then append it to the main table. "
   ]
  },
  {
   "cell_type": "code",
   "execution_count": 20,
   "id": "2444939a",
   "metadata": {},
   "outputs": [
    {
     "data": {
      "text/html": [
       "<div>\n",
       "<style scoped>\n",
       "    .dataframe tbody tr th:only-of-type {\n",
       "        vertical-align: middle;\n",
       "    }\n",
       "\n",
       "    .dataframe tbody tr th {\n",
       "        vertical-align: top;\n",
       "    }\n",
       "\n",
       "    .dataframe thead th {\n",
       "        text-align: right;\n",
       "    }\n",
       "</style>\n",
       "<table border=\"1\" class=\"dataframe\">\n",
       "  <thead>\n",
       "    <tr style=\"text-align: right;\">\n",
       "      <th></th>\n",
       "      <th>title</th>\n",
       "      <th>totalRatingCount</th>\n",
       "    </tr>\n",
       "  </thead>\n",
       "  <tbody>\n",
       "    <tr>\n",
       "      <th>0</th>\n",
       "      <td>\"BLOW THE NIGHT!\" Let's Spend the Night Togeth...</td>\n",
       "      <td>1</td>\n",
       "    </tr>\n",
       "    <tr>\n",
       "      <th>1</th>\n",
       "      <td>\"Great Performances\" Cats (1998)</td>\n",
       "      <td>67</td>\n",
       "    </tr>\n",
       "    <tr>\n",
       "      <th>2</th>\n",
       "      <td>#1 Cheerleader Camp (2010)</td>\n",
       "      <td>5</td>\n",
       "    </tr>\n",
       "    <tr>\n",
       "      <th>3</th>\n",
       "      <td>#Female Pleasure (2018)</td>\n",
       "      <td>1</td>\n",
       "    </tr>\n",
       "    <tr>\n",
       "      <th>4</th>\n",
       "      <td>#FollowMe (2019)</td>\n",
       "      <td>5</td>\n",
       "    </tr>\n",
       "  </tbody>\n",
       "</table>\n",
       "</div>"
      ],
      "text/plain": [
       "                                               title  totalRatingCount\n",
       "0  \"BLOW THE NIGHT!\" Let's Spend the Night Togeth...                 1\n",
       "1                   \"Great Performances\" Cats (1998)                67\n",
       "2                         #1 Cheerleader Camp (2010)                 5\n",
       "3                            #Female Pleasure (2018)                 1\n",
       "4                                   #FollowMe (2019)                 5"
      ]
     },
     "execution_count": 20,
     "metadata": {},
     "output_type": "execute_result"
    }
   ],
   "source": [
    "'''''\n",
    "title: Movie title\n",
    "totalRatingCount: Number of ratings recorded for the movie title\n",
    "\n",
    "'''''\n",
    "combine_movie_rating = new_train.dropna(axis = 0, subset = ['title'])\n",
    "movie_ratingCount = (combine_movie_rating.\n",
    "     groupby(by = ['title'])['rating'].\n",
    "     count().\n",
    "     reset_index().\n",
    "     rename(columns = {'rating': 'totalRatingCount'})\n",
    "     [['title', 'totalRatingCount']]\n",
    "    )\n",
    "movie_ratingCount.head()"
   ]
  },
  {
   "cell_type": "code",
   "execution_count": 21,
   "id": "9555063a",
   "metadata": {},
   "outputs": [
    {
     "data": {
      "text/html": [
       "<div>\n",
       "<style scoped>\n",
       "    .dataframe tbody tr th:only-of-type {\n",
       "        vertical-align: middle;\n",
       "    }\n",
       "\n",
       "    .dataframe tbody tr th {\n",
       "        vertical-align: top;\n",
       "    }\n",
       "\n",
       "    .dataframe thead th {\n",
       "        text-align: right;\n",
       "    }\n",
       "</style>\n",
       "<table border=\"1\" class=\"dataframe\">\n",
       "  <thead>\n",
       "    <tr style=\"text-align: right;\">\n",
       "      <th></th>\n",
       "      <th>userId</th>\n",
       "      <th>movieId</th>\n",
       "      <th>rating</th>\n",
       "      <th>title</th>\n",
       "      <th>rating_year</th>\n",
       "      <th>release_year</th>\n",
       "      <th>genre_count</th>\n",
       "      <th>genre_list</th>\n",
       "      <th>totalRatingCount</th>\n",
       "    </tr>\n",
       "  </thead>\n",
       "  <tbody>\n",
       "    <tr>\n",
       "      <th>0</th>\n",
       "      <td>5163</td>\n",
       "      <td>57669</td>\n",
       "      <td>4.0</td>\n",
       "      <td>In Bruges (2008)</td>\n",
       "      <td>2018</td>\n",
       "      <td>2008</td>\n",
       "      <td>4</td>\n",
       "      <td>[Comedy, Crime, Drama, Thriller]</td>\n",
       "      <td>4253</td>\n",
       "    </tr>\n",
       "    <tr>\n",
       "      <th>1</th>\n",
       "      <td>87388</td>\n",
       "      <td>57669</td>\n",
       "      <td>3.5</td>\n",
       "      <td>In Bruges (2008)</td>\n",
       "      <td>2009</td>\n",
       "      <td>2008</td>\n",
       "      <td>4</td>\n",
       "      <td>[Comedy, Crime, Drama, Thriller]</td>\n",
       "      <td>4253</td>\n",
       "    </tr>\n",
       "    <tr>\n",
       "      <th>2</th>\n",
       "      <td>137050</td>\n",
       "      <td>57669</td>\n",
       "      <td>4.0</td>\n",
       "      <td>In Bruges (2008)</td>\n",
       "      <td>2015</td>\n",
       "      <td>2008</td>\n",
       "      <td>4</td>\n",
       "      <td>[Comedy, Crime, Drama, Thriller]</td>\n",
       "      <td>4253</td>\n",
       "    </tr>\n",
       "    <tr>\n",
       "      <th>3</th>\n",
       "      <td>120490</td>\n",
       "      <td>57669</td>\n",
       "      <td>4.5</td>\n",
       "      <td>In Bruges (2008)</td>\n",
       "      <td>2014</td>\n",
       "      <td>2008</td>\n",
       "      <td>4</td>\n",
       "      <td>[Comedy, Crime, Drama, Thriller]</td>\n",
       "      <td>4253</td>\n",
       "    </tr>\n",
       "    <tr>\n",
       "      <th>4</th>\n",
       "      <td>50616</td>\n",
       "      <td>57669</td>\n",
       "      <td>4.5</td>\n",
       "      <td>In Bruges (2008)</td>\n",
       "      <td>2015</td>\n",
       "      <td>2008</td>\n",
       "      <td>4</td>\n",
       "      <td>[Comedy, Crime, Drama, Thriller]</td>\n",
       "      <td>4253</td>\n",
       "    </tr>\n",
       "  </tbody>\n",
       "</table>\n",
       "</div>"
      ],
      "text/plain": [
       "   userId  movieId  rating             title  rating_year  release_year  \\\n",
       "0    5163    57669     4.0  In Bruges (2008)         2018          2008   \n",
       "1   87388    57669     3.5  In Bruges (2008)         2009          2008   \n",
       "2  137050    57669     4.0  In Bruges (2008)         2015          2008   \n",
       "3  120490    57669     4.5  In Bruges (2008)         2014          2008   \n",
       "4   50616    57669     4.5  In Bruges (2008)         2015          2008   \n",
       "\n",
       "   genre_count                        genre_list  totalRatingCount  \n",
       "0            4  [Comedy, Crime, Drama, Thriller]              4253  \n",
       "1            4  [Comedy, Crime, Drama, Thriller]              4253  \n",
       "2            4  [Comedy, Crime, Drama, Thriller]              4253  \n",
       "3            4  [Comedy, Crime, Drama, Thriller]              4253  \n",
       "4            4  [Comedy, Crime, Drama, Thriller]              4253  "
      ]
     },
     "execution_count": 21,
     "metadata": {},
     "output_type": "execute_result"
    }
   ],
   "source": [
    "# merge movie rating count to our main table \n",
    "new_train = combine_movie_rating.merge(movie_ratingCount, left_on = 'title', right_on = 'title', how = 'left')\n",
    "new_train.head()"
   ]
  },
  {
   "cell_type": "code",
   "execution_count": 22,
   "id": "c34a1b6f",
   "metadata": {},
   "outputs": [
    {
     "data": {
      "text/plain": [
       "(10000038, 9)"
      ]
     },
     "execution_count": 22,
     "metadata": {},
     "output_type": "execute_result"
    }
   ],
   "source": [
    "new_train.shape"
   ]
  },
  {
   "cell_type": "markdown",
   "id": "183bc7be",
   "metadata": {
    "tags": []
   },
   "source": [
    "#### Detailing Movie Popularity by Number of Ratings\n",
    "We set our criteria for a movie to be termed popular, to at least 3,000 user ratings, to reduce noise and  decrease ammount of data to use create the model for better computing time . "
   ]
  },
  {
   "cell_type": "code",
   "execution_count": 23,
   "id": "da2a9e6f",
   "metadata": {},
   "outputs": [
    {
     "data": {
      "text/html": [
       "<div>\n",
       "<style scoped>\n",
       "    .dataframe tbody tr th:only-of-type {\n",
       "        vertical-align: middle;\n",
       "    }\n",
       "\n",
       "    .dataframe tbody tr th {\n",
       "        vertical-align: top;\n",
       "    }\n",
       "\n",
       "    .dataframe thead th {\n",
       "        text-align: right;\n",
       "    }\n",
       "</style>\n",
       "<table border=\"1\" class=\"dataframe\">\n",
       "  <thead>\n",
       "    <tr style=\"text-align: right;\">\n",
       "      <th></th>\n",
       "      <th>userId</th>\n",
       "      <th>movieId</th>\n",
       "      <th>rating</th>\n",
       "      <th>title</th>\n",
       "      <th>rating_year</th>\n",
       "      <th>release_year</th>\n",
       "      <th>genre_count</th>\n",
       "      <th>genre_list</th>\n",
       "      <th>totalRatingCount</th>\n",
       "    </tr>\n",
       "  </thead>\n",
       "  <tbody>\n",
       "    <tr>\n",
       "      <th>0</th>\n",
       "      <td>5163</td>\n",
       "      <td>57669</td>\n",
       "      <td>4.0</td>\n",
       "      <td>In Bruges (2008)</td>\n",
       "      <td>2018</td>\n",
       "      <td>2008</td>\n",
       "      <td>4</td>\n",
       "      <td>[Comedy, Crime, Drama, Thriller]</td>\n",
       "      <td>4253</td>\n",
       "    </tr>\n",
       "    <tr>\n",
       "      <th>1</th>\n",
       "      <td>87388</td>\n",
       "      <td>57669</td>\n",
       "      <td>3.5</td>\n",
       "      <td>In Bruges (2008)</td>\n",
       "      <td>2009</td>\n",
       "      <td>2008</td>\n",
       "      <td>4</td>\n",
       "      <td>[Comedy, Crime, Drama, Thriller]</td>\n",
       "      <td>4253</td>\n",
       "    </tr>\n",
       "    <tr>\n",
       "      <th>2</th>\n",
       "      <td>137050</td>\n",
       "      <td>57669</td>\n",
       "      <td>4.0</td>\n",
       "      <td>In Bruges (2008)</td>\n",
       "      <td>2015</td>\n",
       "      <td>2008</td>\n",
       "      <td>4</td>\n",
       "      <td>[Comedy, Crime, Drama, Thriller]</td>\n",
       "      <td>4253</td>\n",
       "    </tr>\n",
       "    <tr>\n",
       "      <th>3</th>\n",
       "      <td>120490</td>\n",
       "      <td>57669</td>\n",
       "      <td>4.5</td>\n",
       "      <td>In Bruges (2008)</td>\n",
       "      <td>2014</td>\n",
       "      <td>2008</td>\n",
       "      <td>4</td>\n",
       "      <td>[Comedy, Crime, Drama, Thriller]</td>\n",
       "      <td>4253</td>\n",
       "    </tr>\n",
       "    <tr>\n",
       "      <th>4</th>\n",
       "      <td>50616</td>\n",
       "      <td>57669</td>\n",
       "      <td>4.5</td>\n",
       "      <td>In Bruges (2008)</td>\n",
       "      <td>2015</td>\n",
       "      <td>2008</td>\n",
       "      <td>4</td>\n",
       "      <td>[Comedy, Crime, Drama, Thriller]</td>\n",
       "      <td>4253</td>\n",
       "    </tr>\n",
       "  </tbody>\n",
       "</table>\n",
       "</div>"
      ],
      "text/plain": [
       "   userId  movieId  rating             title  rating_year  release_year  \\\n",
       "0    5163    57669     4.0  In Bruges (2008)         2018          2008   \n",
       "1   87388    57669     3.5  In Bruges (2008)         2009          2008   \n",
       "2  137050    57669     4.0  In Bruges (2008)         2015          2008   \n",
       "3  120490    57669     4.5  In Bruges (2008)         2014          2008   \n",
       "4   50616    57669     4.5  In Bruges (2008)         2015          2008   \n",
       "\n",
       "   genre_count                        genre_list  totalRatingCount  \n",
       "0            4  [Comedy, Crime, Drama, Thriller]              4253  \n",
       "1            4  [Comedy, Crime, Drama, Thriller]              4253  \n",
       "2            4  [Comedy, Crime, Drama, Thriller]              4253  \n",
       "3            4  [Comedy, Crime, Drama, Thriller]              4253  \n",
       "4            4  [Comedy, Crime, Drama, Thriller]              4253  "
      ]
     },
     "execution_count": 23,
     "metadata": {},
     "output_type": "execute_result"
    }
   ],
   "source": [
    "popularity_threshold = 3000\n",
    "new_train = new_train.query('totalRatingCount >= @popularity_threshold')\n",
    "new_train.head()"
   ]
  },
  {
   "cell_type": "code",
   "execution_count": 24,
   "id": "928d9cf9",
   "metadata": {
    "tags": []
   },
   "outputs": [
    {
     "data": {
      "text/plain": [
       "(3004, 32831)"
      ]
     },
     "execution_count": 24,
     "metadata": {},
     "output_type": "execute_result"
    }
   ],
   "source": [
    "# lets see our reduced  new df\n",
    "new_train['totalRatingCount'].min(), new_train['totalRatingCount'].max()"
   ]
  },
  {
   "cell_type": "markdown",
   "id": "512e8efa-b83d-4076-bdc5-44d59695dd5f",
   "metadata": {},
   "source": [
    "The ammount of rows have decreased drastically with this filter.From our criteria, the least popular movie has 3,004 ratings, while the most popular movie has 32,831 ratings"
   ]
  },
  {
   "cell_type": "markdown",
   "id": "fb0dd859",
   "metadata": {},
   "source": [
    "\n",
    "#### Visualizing genre_count by number of ratings"
   ]
  },
  {
   "cell_type": "code",
   "execution_count": 25,
   "id": "4e2d4580",
   "metadata": {},
   "outputs": [
    {
     "data": {
      "image/png": "[encoded data removed]",
      "text/plain": [
       "<Figure size 864x432 with 1 Axes>"
      ]
     },
     "metadata": {
      "needs_background": "light"
     },
     "output_type": "display_data"
    }
   ],
   "source": [
    "fig, ax = plt.subplots(1, 1, figsize = (12, 6))\n",
    "\n",
    "ax1 = new_train.groupby('genre_count')['rating'].count().plot(kind='bar', title='Number of genres', color = '#ADD8E6')\n",
    "\n",
    "fig.tight_layout()\n",
    "plt.savefig('genre_movie_count.png', bbox_inches='tight')\n",
    "\n",
    "#count()"
   ]
  },
  {
   "cell_type": "markdown",
   "id": "fbbd7b4a",
   "metadata": {},
   "source": [
    " We see that movies with just 3 genres have the most ratings. Now lets create lets view the most porpular movies. "
   ]
  },
  {
   "cell_type": "code",
   "execution_count": 26,
   "id": "1707eab7",
   "metadata": {},
   "outputs": [
    {
     "name": "stdout",
     "output_type": "stream",
     "text": [
      "Index(['Shawshank Redemption, The (1994)', 'Forrest Gump (1994)',\n",
      "       'Pulp Fiction (1994)', 'Silence of the Lambs, The (1991)',\n",
      "       'Matrix, The (1999)', 'Star Wars: Episode IV - A New Hope (1977)',\n",
      "       'Jurassic Park (1993)', 'Schindler's List (1993)', 'Braveheart (1995)',\n",
      "       'Fight Club (1999)',\n",
      "       ...\n",
      "       'Star Wars: Episode VII - The Force Awakens (2015)',\n",
      "       'My Big Fat Greek Wedding (2002)', 'You've Got Mail (1998)',\n",
      "       'Magnolia (1999)', 'Bridge on the River Kwai, The (1957)',\n",
      "       'Spaceballs (1987)', 'Ex Machina (2015)', 'Pinocchio (1940)',\n",
      "       'Chronicles of Narnia: The Lion, the Witch and the Wardrobe, The (2005)',\n",
      "       'Chocolat (2000)'],\n",
      "      dtype='object', length=424)\n"
     ]
    }
   ],
   "source": [
    "# Create a list of only the frequently watched movies\n",
    "movie_popularity = new_train[\"title\"].value_counts()\n",
    "popular_movies = movie_popularity[movie_popularity > 5000].index\n",
    "\n",
    "print(popular_movies)"
   ]
  },
  {
   "cell_type": "code",
   "execution_count": 27,
   "id": "f5006da5",
   "metadata": {},
   "outputs": [],
   "source": [
    "new_train = new_train[new_train['title'].isin(popular_movies)]"
   ]
  },
  {
   "cell_type": "code",
   "execution_count": 28,
   "id": "730831e3",
   "metadata": {},
   "outputs": [
    {
     "data": {
      "text/plain": [
       "(4015517, 9)"
      ]
     },
     "execution_count": 28,
     "metadata": {},
     "output_type": "execute_result"
    }
   ],
   "source": [
    "new_train.shape"
   ]
  },
  {
   "cell_type": "code",
   "execution_count": 29,
   "id": "3d81722d",
   "metadata": {},
   "outputs": [
    {
     "data": {
      "text/html": [
       "<div>\n",
       "<style scoped>\n",
       "    .dataframe tbody tr th:only-of-type {\n",
       "        vertical-align: middle;\n",
       "    }\n",
       "\n",
       "    .dataframe tbody tr th {\n",
       "        vertical-align: top;\n",
       "    }\n",
       "\n",
       "    .dataframe thead th {\n",
       "        text-align: right;\n",
       "    }\n",
       "</style>\n",
       "<table border=\"1\" class=\"dataframe\">\n",
       "  <thead>\n",
       "    <tr style=\"text-align: right;\">\n",
       "      <th>userId</th>\n",
       "      <th>1</th>\n",
       "      <th>2</th>\n",
       "      <th>3</th>\n",
       "      <th>4</th>\n",
       "      <th>5</th>\n",
       "      <th>6</th>\n",
       "      <th>7</th>\n",
       "      <th>8</th>\n",
       "      <th>9</th>\n",
       "      <th>10</th>\n",
       "      <th>...</th>\n",
       "      <th>162532</th>\n",
       "      <th>162533</th>\n",
       "      <th>162534</th>\n",
       "      <th>162535</th>\n",
       "      <th>162536</th>\n",
       "      <th>162537</th>\n",
       "      <th>162538</th>\n",
       "      <th>162539</th>\n",
       "      <th>162540</th>\n",
       "      <th>162541</th>\n",
       "    </tr>\n",
       "    <tr>\n",
       "      <th>title</th>\n",
       "      <th></th>\n",
       "      <th></th>\n",
       "      <th></th>\n",
       "      <th></th>\n",
       "      <th></th>\n",
       "      <th></th>\n",
       "      <th></th>\n",
       "      <th></th>\n",
       "      <th></th>\n",
       "      <th></th>\n",
       "      <th></th>\n",
       "      <th></th>\n",
       "      <th></th>\n",
       "      <th></th>\n",
       "      <th></th>\n",
       "      <th></th>\n",
       "      <th></th>\n",
       "      <th></th>\n",
       "      <th></th>\n",
       "      <th></th>\n",
       "      <th></th>\n",
       "    </tr>\n",
       "  </thead>\n",
       "  <tbody>\n",
       "    <tr>\n",
       "      <th>10 Things I Hate About You (1999)</th>\n",
       "      <td>0.0</td>\n",
       "      <td>0.0</td>\n",
       "      <td>0.0</td>\n",
       "      <td>0.0</td>\n",
       "      <td>0.0</td>\n",
       "      <td>0.0</td>\n",
       "      <td>0.0</td>\n",
       "      <td>0.0</td>\n",
       "      <td>0.0</td>\n",
       "      <td>0.0</td>\n",
       "      <td>...</td>\n",
       "      <td>0.0</td>\n",
       "      <td>2.5</td>\n",
       "      <td>0.0</td>\n",
       "      <td>0.0</td>\n",
       "      <td>0.0</td>\n",
       "      <td>0.0</td>\n",
       "      <td>4.5</td>\n",
       "      <td>0.0</td>\n",
       "      <td>0.0</td>\n",
       "      <td>0.0</td>\n",
       "    </tr>\n",
       "    <tr>\n",
       "      <th>12 Angry Men (1957)</th>\n",
       "      <td>0.0</td>\n",
       "      <td>0.0</td>\n",
       "      <td>0.0</td>\n",
       "      <td>0.0</td>\n",
       "      <td>0.0</td>\n",
       "      <td>5.0</td>\n",
       "      <td>0.0</td>\n",
       "      <td>0.0</td>\n",
       "      <td>0.0</td>\n",
       "      <td>0.0</td>\n",
       "      <td>...</td>\n",
       "      <td>0.0</td>\n",
       "      <td>0.0</td>\n",
       "      <td>4.5</td>\n",
       "      <td>0.0</td>\n",
       "      <td>0.0</td>\n",
       "      <td>0.0</td>\n",
       "      <td>0.0</td>\n",
       "      <td>0.0</td>\n",
       "      <td>0.0</td>\n",
       "      <td>0.0</td>\n",
       "    </tr>\n",
       "    <tr>\n",
       "      <th>2001: A Space Odyssey (1968)</th>\n",
       "      <td>0.0</td>\n",
       "      <td>0.0</td>\n",
       "      <td>5.0</td>\n",
       "      <td>4.0</td>\n",
       "      <td>0.0</td>\n",
       "      <td>4.0</td>\n",
       "      <td>0.0</td>\n",
       "      <td>5.0</td>\n",
       "      <td>0.0</td>\n",
       "      <td>0.0</td>\n",
       "      <td>...</td>\n",
       "      <td>0.0</td>\n",
       "      <td>0.0</td>\n",
       "      <td>0.0</td>\n",
       "      <td>0.0</td>\n",
       "      <td>0.0</td>\n",
       "      <td>0.0</td>\n",
       "      <td>0.0</td>\n",
       "      <td>0.0</td>\n",
       "      <td>0.0</td>\n",
       "      <td>3.0</td>\n",
       "    </tr>\n",
       "    <tr>\n",
       "      <th>28 Days Later (2002)</th>\n",
       "      <td>0.0</td>\n",
       "      <td>0.0</td>\n",
       "      <td>3.0</td>\n",
       "      <td>0.0</td>\n",
       "      <td>0.0</td>\n",
       "      <td>0.0</td>\n",
       "      <td>0.0</td>\n",
       "      <td>0.0</td>\n",
       "      <td>0.0</td>\n",
       "      <td>4.5</td>\n",
       "      <td>...</td>\n",
       "      <td>0.0</td>\n",
       "      <td>3.5</td>\n",
       "      <td>0.0</td>\n",
       "      <td>0.0</td>\n",
       "      <td>0.0</td>\n",
       "      <td>0.0</td>\n",
       "      <td>0.0</td>\n",
       "      <td>0.0</td>\n",
       "      <td>0.0</td>\n",
       "      <td>0.0</td>\n",
       "    </tr>\n",
       "    <tr>\n",
       "      <th>300 (2007)</th>\n",
       "      <td>0.0</td>\n",
       "      <td>0.0</td>\n",
       "      <td>4.0</td>\n",
       "      <td>0.0</td>\n",
       "      <td>0.0</td>\n",
       "      <td>0.0</td>\n",
       "      <td>0.0</td>\n",
       "      <td>0.0</td>\n",
       "      <td>0.0</td>\n",
       "      <td>0.0</td>\n",
       "      <td>...</td>\n",
       "      <td>0.0</td>\n",
       "      <td>0.0</td>\n",
       "      <td>0.0</td>\n",
       "      <td>0.0</td>\n",
       "      <td>0.0</td>\n",
       "      <td>0.0</td>\n",
       "      <td>0.0</td>\n",
       "      <td>0.0</td>\n",
       "      <td>0.0</td>\n",
       "      <td>0.0</td>\n",
       "    </tr>\n",
       "  </tbody>\n",
       "</table>\n",
       "<p>5 rows × 160402 columns</p>\n",
       "</div>"
      ],
      "text/plain": [
       "userId                             1       2       3       4       5       \\\n",
       "title                                                                       \n",
       "10 Things I Hate About You (1999)     0.0     0.0     0.0     0.0     0.0   \n",
       "12 Angry Men (1957)                   0.0     0.0     0.0     0.0     0.0   \n",
       "2001: A Space Odyssey (1968)          0.0     0.0     5.0     4.0     0.0   \n",
       "28 Days Later (2002)                  0.0     0.0     3.0     0.0     0.0   \n",
       "300 (2007)                            0.0     0.0     4.0     0.0     0.0   \n",
       "\n",
       "userId                             6       7       8       9       10      \\\n",
       "title                                                                       \n",
       "10 Things I Hate About You (1999)     0.0     0.0     0.0     0.0     0.0   \n",
       "12 Angry Men (1957)                   5.0     0.0     0.0     0.0     0.0   \n",
       "2001: A Space Odyssey (1968)          4.0     0.0     5.0     0.0     0.0   \n",
       "28 Days Later (2002)                  0.0     0.0     0.0     0.0     4.5   \n",
       "300 (2007)                            0.0     0.0     0.0     0.0     0.0   \n",
       "\n",
       "userId                             ...  162532  162533  162534  162535  \\\n",
       "title                              ...                                   \n",
       "10 Things I Hate About You (1999)  ...     0.0     2.5     0.0     0.0   \n",
       "12 Angry Men (1957)                ...     0.0     0.0     4.5     0.0   \n",
       "2001: A Space Odyssey (1968)       ...     0.0     0.0     0.0     0.0   \n",
       "28 Days Later (2002)               ...     0.0     3.5     0.0     0.0   \n",
       "300 (2007)                         ...     0.0     0.0     0.0     0.0   \n",
       "\n",
       "userId                             162536  162537  162538  162539  162540  \\\n",
       "title                                                                       \n",
       "10 Things I Hate About You (1999)     0.0     0.0     4.5     0.0     0.0   \n",
       "12 Angry Men (1957)                   0.0     0.0     0.0     0.0     0.0   \n",
       "2001: A Space Odyssey (1968)          0.0     0.0     0.0     0.0     0.0   \n",
       "28 Days Later (2002)                  0.0     0.0     0.0     0.0     0.0   \n",
       "300 (2007)                            0.0     0.0     0.0     0.0     0.0   \n",
       "\n",
       "userId                             162541  \n",
       "title                                      \n",
       "10 Things I Hate About You (1999)     0.0  \n",
       "12 Angry Men (1957)                   0.0  \n",
       "2001: A Space Odyssey (1968)          3.0  \n",
       "28 Days Later (2002)                  0.0  \n",
       "300 (2007)                            0.0  \n",
       "\n",
       "[5 rows x 160402 columns]"
      ]
     },
     "execution_count": 29,
     "metadata": {},
     "output_type": "execute_result"
    }
   ],
   "source": [
    "# create a pivot table \n",
    "import os\n",
    "movie_features_df= new_train.pivot_table(index='title',columns='userId',values='rating').fillna(0)\n",
    "movie_features_df.head()\n"
   ]
  },
  {
   "cell_type": "code",
   "execution_count": 30,
   "id": "8b6fb16d-0bc9-4f3e-9e54-62aff0051573",
   "metadata": {},
   "outputs": [],
   "source": [
    "new_train1=new_train.copy()"
   ]
  },
  {
   "cell_type": "markdown",
   "id": "2690b1c5-512f-42ba-819b-c7952db9b765",
   "metadata": {},
   "source": [
    "Now let as create that data that will be used for collaborative based filtering model. "
   ]
  },
  {
   "cell_type": "code",
   "execution_count": 31,
   "id": "dbbb42fb-3d18-41eb-9b3f-4e81985f3f02",
   "metadata": {},
   "outputs": [],
   "source": [
    "new_train1.drop(['title','rating_year','release_year','genre_count','genre_list','totalRatingCount'], axis=1, inplace=True)\n",
    "train_subset = new_train1[:200000]\n",
    "reader = Reader(rating_scale=(train_subset['rating'].min(), train_subset['rating'].max()))\n",
    "data = Dataset.load_from_df(train_subset[['userId', 'movieId', 'rating']], reader)\n",
    "trainset, testset = train_test_split(data, test_size=.25, random_state=42)"
   ]
  },
  {
   "cell_type": "markdown",
   "id": "ee451ef3-620c-4194-896f-13552577bf5b",
   "metadata": {},
   "source": [
    "For the collaborative filtering model we are going to use the data from the train_csv file. In that file we are particularly interested in the userid, movieid and the rating. The timestamp will be dropped because it has a strong positive correlation with movieid and therefore dropping it won't affect the model as much. Secondly,we are going to use algorithms from the surprise library and it does not support implicit rating data (timestamp is implicit). Timestamp will also be dropped as . We are using the first 2000000 rows because our data is alot and it takes more computational power and time. To gather information about how the model is performing we use 2 000 000 thereafter we only train the best performing model with the best performing model. "
   ]
  },
  {
   "cell_type": "markdown",
   "id": "1b157a68",
   "metadata": {},
   "source": [
    "#  Data Modelling\n",
    "In this section we aim to pass both collaborative and content-based algorithms to help predict the movies and the ratings. Each model has its advantages and disadvantages listed in the table below. \n",
    "\n",
    "**Content-based filtering**\n",
    "This method makes recommendations based on user preferences for product features. It is able to recommend new items, but is limited by the need for more data of user preference to improve the quality of recommendations.\n",
    "\n",
    "**Collaborative filtering**\n",
    "Collaborative filtering mimics user-to-user recommendations. In other words, If you and your friend have similar tastes, you are likely to make recommendations the other would approve of. This method finds similar users and predicts their preferences as a linear, weighted combination of other user preferences. The limitation is the requirement of a large dataset with active useres who rated a product before in order to make accurate predictions. As a result of this limitation, collaborative systems usually suffer from the \"cold start\" problem, making predictions for new users challenging. This is usually overcome by using content-based filtering to initiate a user profile.\n",
    "\n",
    "<img src = \"https://miro.medium.com/max/1400/1*iUUw9lOnZoU6hwp8jpDmAQ.png\" align = \"centre\">\n",
    "\n",
    "The first model we will create is the content based model. \n"
   ]
  },
  {
   "cell_type": "markdown",
   "id": "282af93b",
   "metadata": {
    "tags": []
   },
   "source": [
    "## Content-based Filtering\n",
    "Content-Based recommender system tries to guess the features or behavior of a user given the item’s features, he/she reacts positively to.This type of filter does not involve other users if not ourselves. Based on what we like, the algorithm will simply pick items with similar content to recommend us.\n",
    "\n",
    "In this case there will be less diversity in the recommendations, but this will work either the user rates things or not\n",
    "<img src = \"https://miro.medium.com/max/1400/1*BME1JjIlBEAI9BV5pOO5Mg.png\" align = \"centre\">\n",
    "\n",
    "\n",
    "### Creating the Sparse Matrix\n",
    "The first step we took to modelling is creating sparse matrix.A sparse matrix converts a full matrix into sparse form by squeezing out any zero elements. If a matrix contains many zeros, converting the matrix to sparse storage saves memory.\n"
   ]
  },
  {
   "cell_type": "code",
   "execution_count": 39,
   "id": "9ad37059",
   "metadata": {},
   "outputs": [],
   "source": [
    "# Creating the Sparse Matrix\n",
    "movie_features_df_matrix = csr_matrix(movie_features_df.values)"
   ]
  },
  {
   "cell_type": "markdown",
   "id": "406e1f61",
   "metadata": {},
   "source": [
    "Now that the sparse matrix has been created  lets fit the KNN model. "
   ]
  },
  {
   "cell_type": "code",
   "execution_count": 40,
   "id": "e2ccbce7",
   "metadata": {},
   "outputs": [
    {
     "data": {
      "text/plain": [
       "NearestNeighbors(algorithm='brute', metric='cosine')"
      ]
     },
     "execution_count": 40,
     "metadata": {},
     "output_type": "execute_result"
    }
   ],
   "source": [
    "#fitting the model using KNN\n",
    "model_knn = NearestNeighbors(metric = 'cosine', algorithm = 'brute')\n",
    "model_knn.fit(movie_features_df_matrix)"
   ]
  },
  {
   "cell_type": "code",
   "execution_count": 41,
   "id": "278d3e24",
   "metadata": {},
   "outputs": [
    {
     "data": {
      "text/plain": [
       "(424, 160402)"
      ]
     },
     "execution_count": 41,
     "metadata": {},
     "output_type": "execute_result"
    }
   ],
   "source": [
    "#view the shape \n",
    "movie_features_df.shape"
   ]
  },
  {
   "cell_type": "code",
   "execution_count": 42,
   "id": "7e75552a",
   "metadata": {},
   "outputs": [
    {
     "name": "stdout",
     "output_type": "stream",
     "text": [
      "171\n"
     ]
    }
   ],
   "source": [
    "#Generate a random sample from a movie_features\n",
    "query_index = np.random.choice(movie_features_df.shape[0])\n",
    "print(query_index)"
   ]
  },
  {
   "cell_type": "code",
   "execution_count": 43,
   "id": "9577d037",
   "metadata": {},
   "outputs": [],
   "source": [
    "distances, indices = model_knn.kneighbors(movie_features_df.iloc[query_index,:].values.reshape(1, -1), n_neighbors = 8)"
   ]
  },
  {
   "cell_type": "code",
   "execution_count": 44,
   "id": "a7efadc1",
   "metadata": {},
   "outputs": [
    {
     "data": {
      "text/html": [
       "<div>\n",
       "<style scoped>\n",
       "    .dataframe tbody tr th:only-of-type {\n",
       "        vertical-align: middle;\n",
       "    }\n",
       "\n",
       "    .dataframe tbody tr th {\n",
       "        vertical-align: top;\n",
       "    }\n",
       "\n",
       "    .dataframe thead th {\n",
       "        text-align: right;\n",
       "    }\n",
       "</style>\n",
       "<table border=\"1\" class=\"dataframe\">\n",
       "  <thead>\n",
       "    <tr style=\"text-align: right;\">\n",
       "      <th>userId</th>\n",
       "      <th>1</th>\n",
       "      <th>2</th>\n",
       "      <th>3</th>\n",
       "      <th>4</th>\n",
       "      <th>5</th>\n",
       "      <th>6</th>\n",
       "      <th>7</th>\n",
       "      <th>8</th>\n",
       "      <th>9</th>\n",
       "      <th>10</th>\n",
       "      <th>...</th>\n",
       "      <th>162532</th>\n",
       "      <th>162533</th>\n",
       "      <th>162534</th>\n",
       "      <th>162535</th>\n",
       "      <th>162536</th>\n",
       "      <th>162537</th>\n",
       "      <th>162538</th>\n",
       "      <th>162539</th>\n",
       "      <th>162540</th>\n",
       "      <th>162541</th>\n",
       "    </tr>\n",
       "    <tr>\n",
       "      <th>title</th>\n",
       "      <th></th>\n",
       "      <th></th>\n",
       "      <th></th>\n",
       "      <th></th>\n",
       "      <th></th>\n",
       "      <th></th>\n",
       "      <th></th>\n",
       "      <th></th>\n",
       "      <th></th>\n",
       "      <th></th>\n",
       "      <th></th>\n",
       "      <th></th>\n",
       "      <th></th>\n",
       "      <th></th>\n",
       "      <th></th>\n",
       "      <th></th>\n",
       "      <th></th>\n",
       "      <th></th>\n",
       "      <th></th>\n",
       "      <th></th>\n",
       "      <th></th>\n",
       "    </tr>\n",
       "  </thead>\n",
       "  <tbody>\n",
       "    <tr>\n",
       "      <th>10 Things I Hate About You (1999)</th>\n",
       "      <td>0.0</td>\n",
       "      <td>0.0</td>\n",
       "      <td>0.0</td>\n",
       "      <td>0.0</td>\n",
       "      <td>0.0</td>\n",
       "      <td>0.0</td>\n",
       "      <td>0.0</td>\n",
       "      <td>0.0</td>\n",
       "      <td>0.0</td>\n",
       "      <td>0.0</td>\n",
       "      <td>...</td>\n",
       "      <td>0.0</td>\n",
       "      <td>2.5</td>\n",
       "      <td>0.0</td>\n",
       "      <td>0.0</td>\n",
       "      <td>0.0</td>\n",
       "      <td>0.0</td>\n",
       "      <td>4.5</td>\n",
       "      <td>0.0</td>\n",
       "      <td>0.0</td>\n",
       "      <td>0.0</td>\n",
       "    </tr>\n",
       "    <tr>\n",
       "      <th>12 Angry Men (1957)</th>\n",
       "      <td>0.0</td>\n",
       "      <td>0.0</td>\n",
       "      <td>0.0</td>\n",
       "      <td>0.0</td>\n",
       "      <td>0.0</td>\n",
       "      <td>5.0</td>\n",
       "      <td>0.0</td>\n",
       "      <td>0.0</td>\n",
       "      <td>0.0</td>\n",
       "      <td>0.0</td>\n",
       "      <td>...</td>\n",
       "      <td>0.0</td>\n",
       "      <td>0.0</td>\n",
       "      <td>4.5</td>\n",
       "      <td>0.0</td>\n",
       "      <td>0.0</td>\n",
       "      <td>0.0</td>\n",
       "      <td>0.0</td>\n",
       "      <td>0.0</td>\n",
       "      <td>0.0</td>\n",
       "      <td>0.0</td>\n",
       "    </tr>\n",
       "    <tr>\n",
       "      <th>2001: A Space Odyssey (1968)</th>\n",
       "      <td>0.0</td>\n",
       "      <td>0.0</td>\n",
       "      <td>5.0</td>\n",
       "      <td>4.0</td>\n",
       "      <td>0.0</td>\n",
       "      <td>4.0</td>\n",
       "      <td>0.0</td>\n",
       "      <td>5.0</td>\n",
       "      <td>0.0</td>\n",
       "      <td>0.0</td>\n",
       "      <td>...</td>\n",
       "      <td>0.0</td>\n",
       "      <td>0.0</td>\n",
       "      <td>0.0</td>\n",
       "      <td>0.0</td>\n",
       "      <td>0.0</td>\n",
       "      <td>0.0</td>\n",
       "      <td>0.0</td>\n",
       "      <td>0.0</td>\n",
       "      <td>0.0</td>\n",
       "      <td>3.0</td>\n",
       "    </tr>\n",
       "    <tr>\n",
       "      <th>28 Days Later (2002)</th>\n",
       "      <td>0.0</td>\n",
       "      <td>0.0</td>\n",
       "      <td>3.0</td>\n",
       "      <td>0.0</td>\n",
       "      <td>0.0</td>\n",
       "      <td>0.0</td>\n",
       "      <td>0.0</td>\n",
       "      <td>0.0</td>\n",
       "      <td>0.0</td>\n",
       "      <td>4.5</td>\n",
       "      <td>...</td>\n",
       "      <td>0.0</td>\n",
       "      <td>3.5</td>\n",
       "      <td>0.0</td>\n",
       "      <td>0.0</td>\n",
       "      <td>0.0</td>\n",
       "      <td>0.0</td>\n",
       "      <td>0.0</td>\n",
       "      <td>0.0</td>\n",
       "      <td>0.0</td>\n",
       "      <td>0.0</td>\n",
       "    </tr>\n",
       "    <tr>\n",
       "      <th>300 (2007)</th>\n",
       "      <td>0.0</td>\n",
       "      <td>0.0</td>\n",
       "      <td>4.0</td>\n",
       "      <td>0.0</td>\n",
       "      <td>0.0</td>\n",
       "      <td>0.0</td>\n",
       "      <td>0.0</td>\n",
       "      <td>0.0</td>\n",
       "      <td>0.0</td>\n",
       "      <td>0.0</td>\n",
       "      <td>...</td>\n",
       "      <td>0.0</td>\n",
       "      <td>0.0</td>\n",
       "      <td>0.0</td>\n",
       "      <td>0.0</td>\n",
       "      <td>0.0</td>\n",
       "      <td>0.0</td>\n",
       "      <td>0.0</td>\n",
       "      <td>0.0</td>\n",
       "      <td>0.0</td>\n",
       "      <td>0.0</td>\n",
       "    </tr>\n",
       "  </tbody>\n",
       "</table>\n",
       "<p>5 rows × 160402 columns</p>\n",
       "</div>"
      ],
      "text/plain": [
       "userId                             1       2       3       4       5       \\\n",
       "title                                                                       \n",
       "10 Things I Hate About You (1999)     0.0     0.0     0.0     0.0     0.0   \n",
       "12 Angry Men (1957)                   0.0     0.0     0.0     0.0     0.0   \n",
       "2001: A Space Odyssey (1968)          0.0     0.0     5.0     4.0     0.0   \n",
       "28 Days Later (2002)                  0.0     0.0     3.0     0.0     0.0   \n",
       "300 (2007)                            0.0     0.0     4.0     0.0     0.0   \n",
       "\n",
       "userId                             6       7       8       9       10      \\\n",
       "title                                                                       \n",
       "10 Things I Hate About You (1999)     0.0     0.0     0.0     0.0     0.0   \n",
       "12 Angry Men (1957)                   5.0     0.0     0.0     0.0     0.0   \n",
       "2001: A Space Odyssey (1968)          4.0     0.0     5.0     0.0     0.0   \n",
       "28 Days Later (2002)                  0.0     0.0     0.0     0.0     4.5   \n",
       "300 (2007)                            0.0     0.0     0.0     0.0     0.0   \n",
       "\n",
       "userId                             ...  162532  162533  162534  162535  \\\n",
       "title                              ...                                   \n",
       "10 Things I Hate About You (1999)  ...     0.0     2.5     0.0     0.0   \n",
       "12 Angry Men (1957)                ...     0.0     0.0     4.5     0.0   \n",
       "2001: A Space Odyssey (1968)       ...     0.0     0.0     0.0     0.0   \n",
       "28 Days Later (2002)               ...     0.0     3.5     0.0     0.0   \n",
       "300 (2007)                         ...     0.0     0.0     0.0     0.0   \n",
       "\n",
       "userId                             162536  162537  162538  162539  162540  \\\n",
       "title                                                                       \n",
       "10 Things I Hate About You (1999)     0.0     0.0     4.5     0.0     0.0   \n",
       "12 Angry Men (1957)                   0.0     0.0     0.0     0.0     0.0   \n",
       "2001: A Space Odyssey (1968)          0.0     0.0     0.0     0.0     0.0   \n",
       "28 Days Later (2002)                  0.0     0.0     0.0     0.0     0.0   \n",
       "300 (2007)                            0.0     0.0     0.0     0.0     0.0   \n",
       "\n",
       "userId                             162541  \n",
       "title                                      \n",
       "10 Things I Hate About You (1999)     0.0  \n",
       "12 Angry Men (1957)                   0.0  \n",
       "2001: A Space Odyssey (1968)          3.0  \n",
       "28 Days Later (2002)                  0.0  \n",
       "300 (2007)                            0.0  \n",
       "\n",
       "[5 rows x 160402 columns]"
      ]
     },
     "execution_count": 44,
     "metadata": {},
     "output_type": "execute_result"
    }
   ],
   "source": [
    "# view the table\n",
    "movie_features_df.head()"
   ]
  },
  {
   "cell_type": "markdown",
   "id": "768e4ebc",
   "metadata": {},
   "source": [
    "### Testing content-based model"
   ]
  },
  {
   "cell_type": "code",
   "execution_count": 45,
   "id": "32e76c6f",
   "metadata": {},
   "outputs": [
    {
     "name": "stdout",
     "output_type": "stream",
     "text": [
      "Recommendations for Grosse Pointe Blank (1997):\n",
      "\n",
      "1: Full Monty, The (1997), with distance of 0.8363701819755278:\n",
      "2: High Fidelity (2000), with distance of 0.8368276215432706:\n",
      "3: Chasing Amy (1997), with distance of 0.837389299850464:\n",
      "4: Groundhog Day (1993), with distance of 0.8381793634129195:\n",
      "5: Breakfast Club, The (1985), with distance of 0.8407059014824421:\n",
      "6: Pleasantville (1998), with distance of 0.8415812529961476:\n",
      "7: Ferris Bueller's Day Off (1986), with distance of 0.8454094175489381:\n"
     ]
    }
   ],
   "source": [
    "for i in range(0, len(distances.flatten())):\n",
    "    if i == 0:\n",
    "        print('Recommendations for {0}:\\n'.format(movie_features_df.index[query_index]))\n",
    "    else:\n",
    "        print('{0}: {1}, with distance of {2}:'.format(i, movie_features_df.index[indices.flatten()[i]], distances.flatten()[i]))"
   ]
  },
  {
   "cell_type": "markdown",
   "id": "44e00b16-129c-4807-bc38-60a0a62ff6de",
   "metadata": {},
   "source": [
    "## Conclusion \n",
    "We have successfully created and tested our collaborative KNN model and we will use this model for our streamlit app. Next we will build a collaborative filtering model.  We managed to increase the model's efficiency by only using a sample size of movies that has atleast  3 000 raitings. Our model can sucessfully predict movies and their similarity index score.  \n"
   ]
  },
  {
   "cell_type": "markdown",
   "id": "7f363fc4",
   "metadata": {
    "colab_type": "text",
    "id": "zbe96XXoWPyF",
    "tags": []
   },
   "source": [
    "# Collaborative filtering models \n",
    "\n",
    "Collaborative filtering algorithm aims to make automatic predictions (filtering) about the interests of a user by collecting preferences or taste information from many users (collaborating).\n",
    "\n",
    "\n",
    "The Collaborative Filtering (CF) technique can be classified into following categories namely: Memory based and model based. The **memory based** CF method uses user to user and item to item correlations based on rating behavior to predict ratings and recommend items for the users in future.  Unlike Memory-Based CF,**Model-based CF** does not use the whole dataset to compute predictions for real data. There are various model-based CF algorithms including Bayesian Networks, Clustering Models, and Latent Semantic Models such as Singular Value Decomposition (SVD), Principal Component Analysis (PCA) and Probabilistic Matrix Factorization for dimensionality reduction\n",
    "of rating matrix. In this notebook we focused on **model-based-CF** \n",
    "\n",
    "<img src = \"https://miro.medium.com/max/1400/1*x8gTiprhLs7zflmEn1UjAQ.png\" align = \"centre\">\n",
    "\n",
    "\n",
    "The main advantage of this algorithm is that it doesn’t need anything else except users’ historical preference on a set of items.Such data is readily and easier to collect. Making it a cheaper algorithm to use for quick results on this dataset but costly to companies as large recommendation services tend to have far more users than items in their databases. Their ratings also have to be constantly tracked to provide accurate predictions. Collaborative filtering also has a cold start problem where it can often become very difficult to make recommendations for users who have few or no ratings captured. However as time increases, systems which make use of collaborative filtering techniques get progressively better as they passively acquire richer rating data. \n",
    "\n",
    "## Our approach to Collaborative filtering models \n",
    "\n",
    "For collaborative filtering we are using eleven algorithms from the Surprise library.Surprise is a Python scikit for building and analyzing recommender systems that deal with explicit rating data. Explicit rating data is data  where the user directly provides ratings about an item(or movie in our case). The choice to use the surprise library meant that we had to drop the timestamp column. \n",
    "\n",
    "### Basic algorithms\n",
    "***NormalPredictor:*** This algorithm predicts a random rating based on the distribution of the training set, which is assumed to be normal.\n",
    "\n",
    "***BaselineOnly:*** This algorithm predicts the baseline estimate for a given user and item.\n",
    "\n",
    "### k-NN algorithms\n",
    "kNN is a machine learning algorithm to find clusters of similar users based on common book ratings, and make predictions using the average rating of top-k nearest neighbors.For example, in our data there is user id, movieid and ratings. The KNN will try to find the k item that has the most similar user engagement vectors.\n",
    "\n",
    "***KNNBasic:*** This is a basic collaborative filtering algorithm.\n",
    "\n",
    "***KNNWithMeans:*** This is a basic collaborative filtering algorithm, taking into account the mean ratings of each user.\n",
    "\n",
    "***KNNWithZScore:*** This is a basic collaborative filtering algorithm, taking into account the z-score normalization of each user.\n",
    "\n",
    "***KNNBaseline:*** is a basic collaborative filtering algorithm taking into account a baseline rating.\n",
    "\n",
    "### Matrix Factorization-based algorithms\n",
    "The Matrix Factorization techniques are usually more effective because they allow use to discover the latent features underlying the interactions between\n",
    "users and items. Matrix Factorization is simply a mathematical tool for playing around with matrices, and is therefore applicable in many domains where one would like to find out something hidden under the data. SVD and PCA are well known Matrix Factorization models for identifying latent factors in the field of Information Retrieval to deal with Collaborative Filtering challenges(2014). \n",
    "\n",
    "***Singular Vector Decomposition (SVD):*** This algorithm is equivalent to Probabilistic Matrix Factorization ( which makes use of data provided by users with similar preferences to offer recommendations to a particular user).\n",
    "\n",
    "***Singular Vector Decomposition Plus (SVDpp):*** This algorithm is an extension of SVD that takes into account implicit ratings.\n",
    "\n",
    "***Non-negative matrix factorization (NMF):*** This is a collaborative filtering algorithm based on Non-negative Matrix Factorization. It is very similar to SVD.\n",
    "\n",
    "***SlopeOne:*** This is a straightforward implementation of the SlopeOne algorithm.\n",
    "\n",
    "***Co Clustering:*** is a collaborative filtering algorithm based on co-clustering.\n"
   ]
  },
  {
   "cell_type": "code",
   "execution_count": 31,
   "id": "ced67aec",
   "metadata": {},
   "outputs": [
    {
     "name": "stdout",
     "output_type": "stream",
     "text": [
      "Estimating biases using als...\n",
      "Computing the msd similarity matrix...\n",
      "Done computing similarity matrix.\n",
      "Estimating biases using als...\n",
      "Computing the msd similarity matrix...\n",
      "Done computing similarity matrix.\n",
      "Estimating biases using als...\n",
      "Computing the msd similarity matrix...\n",
      "Done computing similarity matrix.\n",
      "Computing the msd similarity matrix...\n",
      "Done computing similarity matrix.\n",
      "Computing the msd similarity matrix...\n",
      "Done computing similarity matrix.\n",
      "Computing the msd similarity matrix...\n",
      "Done computing similarity matrix.\n",
      "Computing the msd similarity matrix...\n",
      "Done computing similarity matrix.\n",
      "Computing the msd similarity matrix...\n",
      "Done computing similarity matrix.\n",
      "Computing the msd similarity matrix...\n",
      "Done computing similarity matrix.\n",
      "Computing the msd similarity matrix...\n",
      "Done computing similarity matrix.\n",
      "Computing the msd similarity matrix...\n",
      "Done computing similarity matrix.\n",
      "Computing the msd similarity matrix...\n",
      "Done computing similarity matrix.\n",
      "Estimating biases using als...\n",
      "Estimating biases using als...\n",
      "Estimating biases using als...\n"
     ]
    },
    {
     "data": {
      "text/html": [
       "<div>\n",
       "<style scoped>\n",
       "    .dataframe tbody tr th:only-of-type {\n",
       "        vertical-align: middle;\n",
       "    }\n",
       "\n",
       "    .dataframe tbody tr th {\n",
       "        vertical-align: top;\n",
       "    }\n",
       "\n",
       "    .dataframe thead th {\n",
       "        text-align: right;\n",
       "    }\n",
       "</style>\n",
       "<table border=\"1\" class=\"dataframe\">\n",
       "  <thead>\n",
       "    <tr style=\"text-align: right;\">\n",
       "      <th></th>\n",
       "      <th>test_rmse</th>\n",
       "      <th>fit_time</th>\n",
       "      <th>test_time</th>\n",
       "    </tr>\n",
       "    <tr>\n",
       "      <th>Algorithm</th>\n",
       "      <th></th>\n",
       "      <th></th>\n",
       "      <th></th>\n",
       "    </tr>\n",
       "  </thead>\n",
       "  <tbody>\n",
       "    <tr>\n",
       "      <th>SVDpp</th>\n",
       "      <td>1.044288</td>\n",
       "      <td>0.570156</td>\n",
       "      <td>0.021447</td>\n",
       "    </tr>\n",
       "    <tr>\n",
       "      <th>SVD</th>\n",
       "      <td>1.046101</td>\n",
       "      <td>0.374582</td>\n",
       "      <td>0.017580</td>\n",
       "    </tr>\n",
       "    <tr>\n",
       "      <th>KNNBaseline</th>\n",
       "      <td>1.046786</td>\n",
       "      <td>1.142939</td>\n",
       "      <td>0.018868</td>\n",
       "    </tr>\n",
       "    <tr>\n",
       "      <th>BaselineOnly</th>\n",
       "      <td>1.048476</td>\n",
       "      <td>0.027939</td>\n",
       "      <td>0.014917</td>\n",
       "    </tr>\n",
       "    <tr>\n",
       "      <th>KNNBasic</th>\n",
       "      <td>1.076968</td>\n",
       "      <td>1.068858</td>\n",
       "      <td>0.026148</td>\n",
       "    </tr>\n",
       "    <tr>\n",
       "      <th>KNNWithZScore</th>\n",
       "      <td>1.100971</td>\n",
       "      <td>1.343087</td>\n",
       "      <td>0.022330</td>\n",
       "    </tr>\n",
       "    <tr>\n",
       "      <th>KNNWithMeans</th>\n",
       "      <td>1.106920</td>\n",
       "      <td>1.137688</td>\n",
       "      <td>0.021870</td>\n",
       "    </tr>\n",
       "    <tr>\n",
       "      <th>SlopeOne</th>\n",
       "      <td>1.107953</td>\n",
       "      <td>0.250434</td>\n",
       "      <td>0.019059</td>\n",
       "    </tr>\n",
       "    <tr>\n",
       "      <th>NMF</th>\n",
       "      <td>1.108164</td>\n",
       "      <td>1.060504</td>\n",
       "      <td>0.018458</td>\n",
       "    </tr>\n",
       "    <tr>\n",
       "      <th>CoClustering</th>\n",
       "      <td>1.114506</td>\n",
       "      <td>0.811116</td>\n",
       "      <td>0.013463</td>\n",
       "    </tr>\n",
       "    <tr>\n",
       "      <th>NormalPredictor</th>\n",
       "      <td>1.468509</td>\n",
       "      <td>0.008558</td>\n",
       "      <td>0.024254</td>\n",
       "    </tr>\n",
       "  </tbody>\n",
       "</table>\n",
       "</div>"
      ],
      "text/plain": [
       "                 test_rmse  fit_time  test_time\n",
       "Algorithm                                      \n",
       "SVDpp             1.044288  0.570156   0.021447\n",
       "SVD               1.046101  0.374582   0.017580\n",
       "KNNBaseline       1.046786  1.142939   0.018868\n",
       "BaselineOnly      1.048476  0.027939   0.014917\n",
       "KNNBasic          1.076968  1.068858   0.026148\n",
       "KNNWithZScore     1.100971  1.343087   0.022330\n",
       "KNNWithMeans      1.106920  1.137688   0.021870\n",
       "SlopeOne          1.107953  0.250434   0.019059\n",
       "NMF               1.108164  1.060504   0.018458\n",
       "CoClustering      1.114506  0.811116   0.013463\n",
       "NormalPredictor   1.468509  0.008558   0.024254"
      ]
     },
     "execution_count": 31,
     "metadata": {},
     "output_type": "execute_result"
    }
   ],
   "source": [
    "#Now let us implement the above mentioned algorithms  to train and test models \n",
    "algo = [SVD(), SVDpp(), SlopeOne(), NMF(), NormalPredictor(), KNNBaseline(), \n",
    "                  KNNBasic(), KNNWithMeans(), KNNWithZScore(), BaselineOnly(), CoClustering()]\n",
    "\n",
    "#Read 10000 dataset\n",
    "data2 = Dataset.load_from_df(train[['userId', 'movieId', 'rating']].head(10000), Reader())\n",
    "\n",
    "#Implementing algorithm for RMSE\n",
    "algo_rmse=[]\n",
    "for a in algo:\n",
    "    \n",
    "    cross_valid=cross_validate(a, data2, measures=['RMSE'], cv = 3)\n",
    "    output=pd.DataFrame.from_dict(cross_valid).mean(axis=0)\n",
    "    output=output.append(pd.Series([str(a).split(' ')[0].split('.')[-1]], index=['Algorithm']))\n",
    "    algo_rmse.append(output)\n",
    "\n",
    "algo_rmse\n",
    "surprise_results = pd.DataFrame(algo_rmse).set_index('Algorithm').sort_values('test_rmse')\n",
    "surprise_results"
   ]
  },
  {
   "cell_type": "markdown",
   "id": "58c5ff00",
   "metadata": {
    "tags": []
   },
   "source": [
    "As you can see from above the SVDPP, KNN baseline and SVD are the best performing with the least training and testing time as well as rmse. We prefered to use rmse as our accuracy measurement metric as The following section will look at these algorithms performance with hyperparamenters included to improve the model perfomance. We selected the three best perfoming models. Please note that we use the cross validation algorithm to help estimate how accurately a predictive model will perform in practice and decrease chances of overfitting."
   ]
  },
  {
   "cell_type": "code",
   "execution_count": 32,
   "id": "226b7da1",
   "metadata": {},
   "outputs": [
    {
     "data": {
      "image/png": "[encoded data removed]",
      "text/plain": [
       "<Figure size 1440x720 with 2 Axes>"
      ]
     },
     "metadata": {
      "needs_background": "light"
     },
     "output_type": "display_data"
    }
   ],
   "source": [
    "# Now lets plot a graph to show the results \n",
    "width=.8\n",
    "surprise_results[['fit_time','test_time']].plot(kind='bar', width = width,figsize=(20,10), color = ['black','red','orange'] ) #to plot the bar graph\n",
    "surprise_results['test_rmse'].plot(secondary_y=True, color='orange', linestyle='--', marker='o')\n",
    "\n",
    "ax = plt.gca()\n",
    "plt.xlim([-width, len(surprise_results['test_time'])-width])\n",
    "ax.set_title('Model Perfomance ',fontsize=18)\n",
    "plt.xticks(size = 10, rotation=90)\n",
    "plt.yticks(size = 10)\n",
    "plt.legend(surprise_results[['test_rmse','fit_time','test_time']])\n",
    "plt.show()"
   ]
  },
  {
   "cell_type": "markdown",
   "id": "2fb9f25b",
   "metadata": {
    "colab_type": "text",
    "id": "3_x-FhLNWPyI"
   },
   "source": [
    "From the above graph we can see that the SVD,SVDpp and the KNNBaseline are the top three performing algorithms ( using RMSE as the unit of measurement). SVDpp and KNNBaseline scored the same RMSE but SVDpp takes less time to train and test. Due to this, we conclude that we will only try to improve the SVDpp algorithm. Baseline only model is intriguing as it has the lowest train and test time while its RMSE is significantly low(close to  KNNBaseline). As a result we decided to try to improve it because if it can be better it would be the cheapest solution for our client (DSTV). "
   ]
  },
  {
   "cell_type": "markdown",
   "id": "a28dc932",
   "metadata": {},
   "source": [
    "## Model Improvements"
   ]
  },
  {
   "cell_type": "markdown",
   "id": "7aaa0829",
   "metadata": {},
   "source": [
    "###  Singular Value Decomposition \n",
    "The SVD model is the first model we will try to improve as it has the lowest RMSE score.First we fit the data to the SVD model then we create a function to predict the rating of each user on each movie. Then we create a csv file to submit on kaggle. "
   ]
  },
  {
   "cell_type": "code",
   "execution_count": 33,
   "id": "2ee875a9",
   "metadata": {
    "tags": []
   },
   "outputs": [
    {
     "name": "stdout",
     "output_type": "stream",
     "text": [
      "RMSE: 0.9106\n"
     ]
    }
   ],
   "source": [
    "#SVD model\n",
    "svd=SVD(n_epochs = 30, n_factors = 400, init_std_dev = 0.005, random_state=42)\n",
    "\n",
    "#Fitting the model\n",
    "svd.fit(trainset)\n",
    "\n",
    "# Making prediction on the validation dataset\n",
    "test_pred= svd.test(testset)\n",
    "\n",
    "#Evaluating model performance\n",
    "rsme_svd = accuracy.rmse(test_pred,\n",
    "                             verbose=True)"
   ]
  },
  {
   "cell_type": "markdown",
   "id": "18a47254-873e-4612-b1fc-03dc56884152",
   "metadata": {},
   "source": [
    "When hyperparamenter tunning we used n_epochs, n_factors and  init_std_dv as they gave changes to the model performace when applied. The n_epochs  is the number of factors. (default is 20)  The init_std_dev  is the standard deviation of the normal distribution for factor vectors initialization (Default is 0.1)."
   ]
  },
  {
   "cell_type": "code",
   "execution_count": 34,
   "id": "068d7b1a",
   "metadata": {},
   "outputs": [
    {
     "data": {
      "text/html": [
       "<div>\n",
       "<style scoped>\n",
       "    .dataframe tbody tr th:only-of-type {\n",
       "        vertical-align: middle;\n",
       "    }\n",
       "\n",
       "    .dataframe tbody tr th {\n",
       "        vertical-align: top;\n",
       "    }\n",
       "\n",
       "    .dataframe thead th {\n",
       "        text-align: right;\n",
       "    }\n",
       "</style>\n",
       "<table border=\"1\" class=\"dataframe\">\n",
       "  <thead>\n",
       "    <tr style=\"text-align: right;\">\n",
       "      <th></th>\n",
       "      <th>ID</th>\n",
       "      <th>est</th>\n",
       "    </tr>\n",
       "  </thead>\n",
       "  <tbody>\n",
       "    <tr>\n",
       "      <th>0</th>\n",
       "      <td>1_2011</td>\n",
       "      <td>3.514327</td>\n",
       "    </tr>\n",
       "    <tr>\n",
       "      <th>1</th>\n",
       "      <td>1_4144</td>\n",
       "      <td>3.740557</td>\n",
       "    </tr>\n",
       "    <tr>\n",
       "      <th>2</th>\n",
       "      <td>1_5767</td>\n",
       "      <td>3.740557</td>\n",
       "    </tr>\n",
       "    <tr>\n",
       "      <th>3</th>\n",
       "      <td>1_6711</td>\n",
       "      <td>3.740557</td>\n",
       "    </tr>\n",
       "    <tr>\n",
       "      <th>4</th>\n",
       "      <td>1_7318</td>\n",
       "      <td>3.740557</td>\n",
       "    </tr>\n",
       "  </tbody>\n",
       "</table>\n",
       "</div>"
      ],
      "text/plain": [
       "       ID       est\n",
       "0  1_2011  3.514327\n",
       "1  1_4144  3.740557\n",
       "2  1_5767  3.740557\n",
       "3  1_6711  3.740557\n",
       "4  1_7318  3.740557"
      ]
     },
     "execution_count": 34,
     "metadata": {},
     "output_type": "execute_result"
    }
   ],
   "source": [
    "#Predicting the rating for each user and movie\n",
    "ratings=[]\n",
    "for x,y in test.itertuples(index=False):\n",
    "    output=svd.predict(x,y)\n",
    "    ratings.append(output)\n",
    "    \n",
    "output_df=pd.DataFrame(ratings)[['uid','iid','est']]\n",
    "output_df['ID']=output_df['uid'].astype(str) + '_' + output_df['iid'].astype(str)\n",
    "output_df=output_df[['ID','est']]\n",
    "output_df.head()"
   ]
  },
  {
   "cell_type": "code",
   "execution_count": 35,
   "id": "65ea59ef",
   "metadata": {},
   "outputs": [],
   "source": [
    "#Creating the \"results\" dataframe and convert to csv\n",
    "results = pd.DataFrame({\"Id\":output_df['ID'],\"rating\": output_df['est']})\n",
    "results.to_csv(\"SVD1.csv\", index=False)"
   ]
  },
  {
   "cell_type": "markdown",
   "id": "8d5df042",
   "metadata": {},
   "source": [
    "###  Singular Value Decomposition plus (SVDpp)\n",
    "The next model we will try to improve is the SVDpp model as it had the second best RMSE score. First we fit the data to the SVDpp model then we create a function to predict the rating of each user on each movie. Then we create a csv file to submit on kaggle. "
   ]
  },
  {
   "cell_type": "code",
   "execution_count": 36,
   "id": "5c717e97",
   "metadata": {},
   "outputs": [
    {
     "name": "stdout",
     "output_type": "stream",
     "text": [
      "RMSE: 0.9235\n"
     ]
    }
   ],
   "source": [
    "#SVDpp model\n",
    "svdpp=SVDpp(n_epochs = 30, n_factors = 400, init_std_dev = 0.05, random_state=42)\n",
    "\n",
    "#Fitting the model\n",
    "svdpp.fit(trainset)\n",
    "\n",
    "# Making prediction on the validation dataset\n",
    "test_pred= svdpp.test(testset)\n",
    "\n",
    "#Evaluating model performance\n",
    "rsme_svdpp = accuracy.rmse(test_pred,\n",
    "                             verbose=True)"
   ]
  },
  {
   "cell_type": "markdown",
   "id": "299fa7b1-b4f4-4044-80a8-7ace21f4359d",
   "metadata": {},
   "source": [
    "Similarly to SVD, when hyperparamenter tunning we used n_epochs, n_factors and  init_std_dv as they gave changes to the model performace when applied. The n_epochs is the number of factors (default is 20)  The init_std_dev  is the standard deviation of the normal distribution for factor vectors initialization (Default is 0.1)."
   ]
  },
  {
   "cell_type": "code",
   "execution_count": 37,
   "id": "d33633a3",
   "metadata": {},
   "outputs": [
    {
     "data": {
      "text/html": [
       "<div>\n",
       "<style scoped>\n",
       "    .dataframe tbody tr th:only-of-type {\n",
       "        vertical-align: middle;\n",
       "    }\n",
       "\n",
       "    .dataframe tbody tr th {\n",
       "        vertical-align: top;\n",
       "    }\n",
       "\n",
       "    .dataframe thead th {\n",
       "        text-align: right;\n",
       "    }\n",
       "</style>\n",
       "<table border=\"1\" class=\"dataframe\">\n",
       "  <thead>\n",
       "    <tr style=\"text-align: right;\">\n",
       "      <th></th>\n",
       "      <th>ID</th>\n",
       "      <th>est</th>\n",
       "    </tr>\n",
       "  </thead>\n",
       "  <tbody>\n",
       "    <tr>\n",
       "      <th>0</th>\n",
       "      <td>1_2011</td>\n",
       "      <td>3.658095</td>\n",
       "    </tr>\n",
       "    <tr>\n",
       "      <th>1</th>\n",
       "      <td>1_4144</td>\n",
       "      <td>3.740557</td>\n",
       "    </tr>\n",
       "    <tr>\n",
       "      <th>2</th>\n",
       "      <td>1_5767</td>\n",
       "      <td>3.740557</td>\n",
       "    </tr>\n",
       "    <tr>\n",
       "      <th>3</th>\n",
       "      <td>1_6711</td>\n",
       "      <td>3.740557</td>\n",
       "    </tr>\n",
       "    <tr>\n",
       "      <th>4</th>\n",
       "      <td>1_7318</td>\n",
       "      <td>3.740557</td>\n",
       "    </tr>\n",
       "  </tbody>\n",
       "</table>\n",
       "</div>"
      ],
      "text/plain": [
       "       ID       est\n",
       "0  1_2011  3.658095\n",
       "1  1_4144  3.740557\n",
       "2  1_5767  3.740557\n",
       "3  1_6711  3.740557\n",
       "4  1_7318  3.740557"
      ]
     },
     "execution_count": 37,
     "metadata": {},
     "output_type": "execute_result"
    }
   ],
   "source": [
    "#Predicting the rating for each user and movie\n",
    "ratings=[]\n",
    "for x,y in test.itertuples(index=False):\n",
    "    output=svdpp.predict(x,y)\n",
    "    ratings.append(output)\n",
    "    \n",
    "output_df=pd.DataFrame(ratings)[['uid','iid','est']] # results into a table \n",
    "output_df['ID']=output_df['uid'].astype(str) + '_' + output_df['iid'].astype(str)\n",
    "output_df=output_df[['ID','est']]\n",
    "output_df.head()"
   ]
  },
  {
   "cell_type": "code",
   "execution_count": 38,
   "id": "84dd93e2",
   "metadata": {},
   "outputs": [],
   "source": [
    "#Creating the \"results\" dataframe and convert to csv for kaggle submission\n",
    "results = pd.DataFrame({\"Id\":output_df['ID'],\"rating\": output_df['est']})\n",
    "results.to_csv(\"SVDpp.csv\", index=False)"
   ]
  },
  {
   "cell_type": "markdown",
   "id": "e8250ed2",
   "metadata": {},
   "source": [
    "### Baseline Only Model\n",
    "The baseline model will be hypertuned with the hopw that it performs better than SDV as it has a very low test and train time. If the Baseline performs well we will recomend it to our client as it will save on running costs while producing optimal results.First we fit the data to the SVD model then we create a function to predict the rating of each user on each movie. Then we create a csv file to submit on kaggle. "
   ]
  },
  {
   "cell_type": "code",
   "execution_count": 39,
   "id": "407c0188",
   "metadata": {
    "tags": []
   },
   "outputs": [
    {
     "name": "stdout",
     "output_type": "stream",
     "text": [
      "Estimating biases using sgd...\n",
      "RMSE: 0.9148\n"
     ]
    }
   ],
   "source": [
    "#BaselineOnly model\n",
    "bsl_options = {'method': 'sgd','n_epochs': 30}\n",
    "blo=BaselineOnly(bsl_options=bsl_options)\n",
    "\n",
    "#Fitting the model\n",
    "blo.fit(trainset)\n",
    "\n",
    "# Making prediction on the validation dataset\n",
    "test_pred= blo.test(testset)\n",
    "\n",
    "#Evaluating model performance\n",
    "rsme_baseline = accuracy.rmse(test_pred,\n",
    "                             verbose=True)"
   ]
  },
  {
   "cell_type": "markdown",
   "id": "f6585306-9411-4745-bc39-a503958dadfc",
   "metadata": {},
   "source": [
    "When  hyperparamenter tunning we used n_epochs, sdg and method as they gave changes to the model performace when applied. The n_epochs is the number of factors (default is 20)."
   ]
  },
  {
   "cell_type": "code",
   "execution_count": 40,
   "id": "03fa89ec",
   "metadata": {},
   "outputs": [
    {
     "data": {
      "text/html": [
       "<div>\n",
       "<style scoped>\n",
       "    .dataframe tbody tr th:only-of-type {\n",
       "        vertical-align: middle;\n",
       "    }\n",
       "\n",
       "    .dataframe tbody tr th {\n",
       "        vertical-align: top;\n",
       "    }\n",
       "\n",
       "    .dataframe thead th {\n",
       "        text-align: right;\n",
       "    }\n",
       "</style>\n",
       "<table border=\"1\" class=\"dataframe\">\n",
       "  <thead>\n",
       "    <tr style=\"text-align: right;\">\n",
       "      <th></th>\n",
       "      <th>ID</th>\n",
       "      <th>est</th>\n",
       "    </tr>\n",
       "  </thead>\n",
       "  <tbody>\n",
       "    <tr>\n",
       "      <th>0</th>\n",
       "      <td>1_2011</td>\n",
       "      <td>3.508660</td>\n",
       "    </tr>\n",
       "    <tr>\n",
       "      <th>1</th>\n",
       "      <td>1_4144</td>\n",
       "      <td>3.740557</td>\n",
       "    </tr>\n",
       "    <tr>\n",
       "      <th>2</th>\n",
       "      <td>1_5767</td>\n",
       "      <td>3.740557</td>\n",
       "    </tr>\n",
       "    <tr>\n",
       "      <th>3</th>\n",
       "      <td>1_6711</td>\n",
       "      <td>3.740557</td>\n",
       "    </tr>\n",
       "    <tr>\n",
       "      <th>4</th>\n",
       "      <td>1_7318</td>\n",
       "      <td>3.740557</td>\n",
       "    </tr>\n",
       "  </tbody>\n",
       "</table>\n",
       "</div>"
      ],
      "text/plain": [
       "       ID       est\n",
       "0  1_2011  3.508660\n",
       "1  1_4144  3.740557\n",
       "2  1_5767  3.740557\n",
       "3  1_6711  3.740557\n",
       "4  1_7318  3.740557"
      ]
     },
     "execution_count": 40,
     "metadata": {},
     "output_type": "execute_result"
    }
   ],
   "source": [
    "#Predicting the rating for each user and movie\n",
    "ratings=[]\n",
    "for x,y in test.itertuples(index=False):\n",
    "    output=blo.predict(x,y)\n",
    "    ratings.append(output)\n",
    "    \n",
    "output_df=pd.DataFrame(ratings)[['uid','iid','est']]\n",
    "output_df['ID']=output_df['uid'].astype(str) + '_' + output_df['iid'].astype(str)\n",
    "output_df=output_df[['ID','est']]\n",
    "output_df.head()"
   ]
  },
  {
   "cell_type": "code",
   "execution_count": 41,
   "id": "6cb0e4ba",
   "metadata": {},
   "outputs": [],
   "source": [
    "#Creating the \"results\" dataframe and convert to csv\n",
    "results = pd.DataFrame({\"Id\":output_df['ID'],\"rating\": output_df['est']})\n",
    "results.to_csv(\"blo.csv\", index=False)"
   ]
  },
  {
   "cell_type": "markdown",
   "id": "2388c0df",
   "metadata": {},
   "source": [
    "Now that we have hypertuned the above models  we will now plot a bar graph that will help us compare the rmse results. "
   ]
  },
  {
   "cell_type": "code",
   "execution_count": 42,
   "id": "c02de79f",
   "metadata": {},
   "outputs": [
    {
     "data": {
      "image/png": "[encoded data removed]",
      "text/plain": [
       "<Figure size 576x360 with 1 Axes>"
      ]
     },
     "metadata": {
      "needs_background": "light"
     },
     "output_type": "display_data"
    }
   ],
   "source": [
    "# Compare RMSE values between models that have been inproved with hypararameters \n",
    "fig,axis = plt.subplots(figsize=(8, 5))\n",
    "rmse_x = ['SVD','SVDpp','BaselineOnly']\n",
    "rmse_y = [rsme_svd,rsme_svdpp,rsme_baseline]\n",
    "ax = sns.barplot(x=rmse_x, y=rmse_y,color='blue',edgecolor='black')\n",
    "plt.title('RMSE Value of models with hyperparameters',fontsize=14)\n",
    "plt.xticks(rotation=90)\n",
    "plt.ylabel('RMSE')\n",
    "for p in ax.patches:\n",
    "    ax.text(p.get_x() + p.get_width()/2, p.get_y() + p.get_height(), round(p.get_height(),2), fontsize=12, ha=\"center\", va='bottom')\n",
    "    \n",
    "plt.show()"
   ]
  },
  {
   "cell_type": "code",
   "execution_count": 43,
   "id": "39277106",
   "metadata": {},
   "outputs": [],
   "source": [
    "#Creating the \"results\" dataframe and convert to csv file for kaggle submission\n",
    "results = pd.DataFrame({\"Id\":output_df['ID'],\"rating\": output_df['est']})\n",
    "results.to_csv(\"blo.csv\", index=False)"
   ]
  },
  {
   "cell_type": "markdown",
   "id": "1ea3396e",
   "metadata": {
    "tags": []
   },
   "source": [
    "## Hyperparameter Tuning\n",
    "\n",
    "Hyperparameter tuning is the process of determining the right combination of hyperparameters that allows the model to maximize model performance. Setting the correct combination of hyperparameters is the only way to extract the maximum performance out of models.\n",
    "\n",
    "We decided to  use grid search method to hypertune the SVD algorithm model, which was the best performing amongst the top three algorithm (since it had the lowest RMSE value)."
   ]
  },
  {
   "cell_type": "code",
   "execution_count": null,
   "id": "2c019094",
   "metadata": {},
   "outputs": [],
   "source": [
    "param_grid = {'n_epochs':[40], #[30,40,50],\n",
    "              'n_factors':[400], #[100,200,300,400],\n",
    "              'init_std_dev':[0.005], #[0.001,0.005,0.05,0.1],\n",
    "              'random_state':[42]} \n",
    "grid_SVD = GridSearchCV(SVD, cv=5, measures=['rmse'], param_grid=param_grid)\n",
    "grid_SVD.fit(data)\n",
    "print('***Best score:***')\n",
    "print(grid_SVD.best_score['rmse'])\n",
    "print('***Best parameters:***')\n",
    "print(grid_SVD.best_params['rmse'])"
   ]
  },
  {
   "cell_type": "markdown",
   "id": "f88c3058",
   "metadata": {},
   "source": [
    " Now that we have discoverd the optimal values for our hyperparameters we input those in our model and try to test the model on all the data available for a final submission on kaggle."
   ]
  },
  {
   "cell_type": "markdown",
   "id": "b922ed84",
   "metadata": {},
   "source": [
    "### Final Kaggle submission"
   ]
  },
  {
   "cell_type": "code",
   "execution_count": 4,
   "id": "8cdab6a7",
   "metadata": {},
   "outputs": [
    {
     "ename": "NameError",
     "evalue": "name 'new_train1' is not defined",
     "output_type": "error",
     "traceback": [
      "\u001b[0;31m---------------------------------------------------------------------------\u001b[0m",
      "\u001b[0;31mNameError\u001b[0m                                 Traceback (most recent call last)",
      "\u001b[0;32m/tmp/ipykernel_308/1470090384.py\u001b[0m in \u001b[0;36m<module>\u001b[0;34m\u001b[0m\n\u001b[1;32m      1\u001b[0m \u001b[0;31m# Train model on whole dataset\u001b[0m\u001b[0;34m\u001b[0m\u001b[0;34m\u001b[0m\u001b[0m\n\u001b[0;32m----> 2\u001b[0;31m \u001b[0mrd\u001b[0m \u001b[0;34m=\u001b[0m \u001b[0mReader\u001b[0m\u001b[0;34m(\u001b[0m\u001b[0mrating_scale\u001b[0m\u001b[0;34m=\u001b[0m\u001b[0;34m(\u001b[0m\u001b[0mnew_train1\u001b[0m\u001b[0;34m[\u001b[0m\u001b[0;34m'rating'\u001b[0m\u001b[0;34m]\u001b[0m\u001b[0;34m.\u001b[0m\u001b[0mmin\u001b[0m\u001b[0;34m(\u001b[0m\u001b[0;34m)\u001b[0m\u001b[0;34m,\u001b[0m \u001b[0mnew_train1\u001b[0m\u001b[0;34m[\u001b[0m\u001b[0;34m'rating'\u001b[0m\u001b[0;34m]\u001b[0m\u001b[0;34m.\u001b[0m\u001b[0mmax\u001b[0m\u001b[0;34m(\u001b[0m\u001b[0;34m)\u001b[0m\u001b[0;34m)\u001b[0m\u001b[0;34m)\u001b[0m\u001b[0;34m\u001b[0m\u001b[0;34m\u001b[0m\u001b[0m\n\u001b[0m\u001b[1;32m      3\u001b[0m \u001b[0mdata\u001b[0m \u001b[0;34m=\u001b[0m \u001b[0mDataset\u001b[0m\u001b[0;34m.\u001b[0m\u001b[0mload_from_df\u001b[0m\u001b[0;34m(\u001b[0m\u001b[0mnew_train1\u001b[0m\u001b[0;34m[\u001b[0m\u001b[0;34m[\u001b[0m\u001b[0;34m'userId'\u001b[0m\u001b[0;34m,\u001b[0m \u001b[0;34m'movieId'\u001b[0m\u001b[0;34m,\u001b[0m \u001b[0;34m'rating'\u001b[0m\u001b[0;34m]\u001b[0m\u001b[0;34m]\u001b[0m\u001b[0;34m,\u001b[0m \u001b[0mrd\u001b[0m\u001b[0;34m)\u001b[0m\u001b[0;34m\u001b[0m\u001b[0;34m\u001b[0m\u001b[0m\n\u001b[1;32m      4\u001b[0m \u001b[0mtrainset\u001b[0m \u001b[0;34m=\u001b[0m \u001b[0mdata\u001b[0m\u001b[0;34m.\u001b[0m\u001b[0mbuild_full_trainset\u001b[0m\u001b[0;34m(\u001b[0m\u001b[0;34m)\u001b[0m\u001b[0;34m\u001b[0m\u001b[0;34m\u001b[0m\u001b[0m\n\u001b[1;32m      5\u001b[0m \u001b[0msvd\u001b[0m \u001b[0;34m=\u001b[0m \u001b[0mSVD\u001b[0m\u001b[0;34m(\u001b[0m\u001b[0mn_epochs\u001b[0m \u001b[0;34m=\u001b[0m \u001b[0;36m40\u001b[0m\u001b[0;34m,\u001b[0m \u001b[0mn_factors\u001b[0m \u001b[0;34m=\u001b[0m \u001b[0;36m400\u001b[0m\u001b[0;34m,\u001b[0m \u001b[0minit_std_dev\u001b[0m \u001b[0;34m=\u001b[0m \u001b[0;36m0.005\u001b[0m\u001b[0;34m,\u001b[0m \u001b[0mrandom_state\u001b[0m\u001b[0;34m=\u001b[0m\u001b[0;36m42\u001b[0m\u001b[0;34m,\u001b[0m \u001b[0mverbose\u001b[0m\u001b[0;34m=\u001b[0m\u001b[0;32mTrue\u001b[0m\u001b[0;34m)\u001b[0m\u001b[0;34m\u001b[0m\u001b[0;34m\u001b[0m\u001b[0m\n",
      "\u001b[0;31mNameError\u001b[0m: name 'new_train1' is not defined"
     ]
    }
   ],
   "source": [
    "# Train model on whole dataset\n",
    "rd = Reader(rating_scale=(new_train1['rating'].min(), new_train1['rating'].max()))\n",
    "data = Dataset.load_from_df(new_train1[['userId', 'movieId', 'rating']], rd)\n",
    "trainset = data.build_full_trainset()\n",
    "svd = SVD(n_epochs = 40, n_factors = 400, init_std_dev = 0.005, random_state=42, verbose=True)\n",
    "svd.fit(trainset)\n",
    "\n",
    "# Create Kaggle submission file\n",
    "predictions = []\n",
    "for i, row in test_df.iterrows():\n",
    "    x = (svd.predict(row.userId, row.movieId))\n",
    "    pred = x[3]\n",
    "    predictions.append(pred)\n",
    "test_df['Id'] = test_df['userId'].map(str) +'_'+ test_df['movieId'].map(str)\n",
    "results = pd.DataFrame({\"Id\":test_df['Id'],\"rating\": predictions})\n",
    "results.to_csv(\"SVD_FINAL.csv\", index=False)"
   ]
  },
  {
   "cell_type": "markdown",
   "id": "a493c7a8",
   "metadata": {
    "tags": []
   },
   "source": [
    "\n",
    "# Conclusion\n",
    "\n",
    "In this project we have managed to create a collaborative and content based filtering recommender system for our DSTV streaming service.Collaborative filtering algorithm aims to make automatic predictions (filtering) about the interests of a user by collecting preferences or taste information from many users (collaborating).Content-Based recommender system tries to guess the features or behavior of a user given the item’s features, he/she reacts positively to. Both these solutions have their advantages and disadvantages. The main disadvantage of a collaborative filtering model is the cold start problem. If there are a few or no ratings from a user the algorithm performs fails to recommend a movie. Content based does not have this problem because it uses features to recommend but it tends to over-specialize. Content_based algorithm they will recommend items similar to those already consumed, with a tendency of creating a “filter bubble”. Users will only get recommendations related to their preferences in their profile, and the recommender engine may never recommend any item with other characteristics. People are constantly changing and their preferences may change over time and this algorithm does not accommodate for such flexibility. A hybrid recommender system is a solution to this problem. Hybrid balances the algorithm by offsetting the shortcomings of this problem. Hybrid model was not implemented because it's not the project scope and we have low computational power.  \n",
    "\n",
    "In this project, the large dataset provided posed a challenge in computing from our local machine. The solution was to compute using a smaller representative dataset subset of 2 0000 movies. The final model is however trained on all the data before submission on kaggle.  \n",
    "\n",
    "In this project we computed  collaborative based models using basic algorithms, KNN algorithms and Matrix factorisation algorithms. Eleven models were used namely,Singular Vector Decomposition( SVD),SVDpp,Non-negative matrix factorization(NMF),SlopeOne ,Co_clustering,KNN basics, KNN with mean.After hyperparameter tuning the SVD performed the best with a kaggle score of 0.7. On top of that it has a low train and test time. This makes it an ideal solution for our client. The famous SVD algorithm, as popularized by Simon Funk during the Netflix Prize isn't a surprising choice for collaborative based recommendation. \n",
    "\n",
    "\n",
    "\n",
    "\n"
   ]
  },
  {
   "cell_type": "markdown",
   "id": "51c9cfa3-b428-4f7a-83db-8496613d492e",
   "metadata": {},
   "source": [
    "# comet.ml\n",
    "Now we have reached the end of our experiment therefore we  need to set up the comet experiment so it logs the metrics and saves the experiment. "
   ]
  },
  {
   "cell_type": "code",
   "execution_count": null,
   "id": "e2610ad3-5483-4bca-ba05-058454a1d3d3",
   "metadata": {
    "tags": []
   },
   "outputs": [],
   "source": [
    "# Saving each metric to add to a dictionary for logging\n",
    "\n",
    "rmse = accuracy.rmse(test_pred,\n",
    "                             verbose=True)\n"
   ]
  },
  {
   "cell_type": "code",
   "execution_count": null,
   "id": "6a1ce03b-e9c7-43cf-ac65-8b7e3464a0c9",
   "metadata": {},
   "outputs": [],
   "source": [
    "# Create dictionaries for the data we want to log\n",
    "\n",
    "params = {\"random_state\": 42,\n",
    "          \"model_type\": \"SVD\",\n",
    "          \"model_type\": \"SVDpp\",\n",
    "          \"model_type\": \"blo\",\n",
    "          \"model_type': \"algo\",\n",
    "          \"scaler\": \"standard scaler\",\n",
    "          \"param_grid\": str(param_grid),\n",
    "          \"stratify\": True\n",
    "          }\n",
    "metrics = {\"rmse\": rmse,\n",
    "           }"
   ]
  },
  {
   "cell_type": "code",
   "execution_count": null,
   "id": "e6a63d02-7bd9-4c87-a625-3d86d20ba79f",
   "metadata": {},
   "outputs": [],
   "source": [
    "# Log our parameters and results\n",
    "experiment.log_parameters(params)\n",
    "experiment.log_metrics(metrics)"
   ]
  },
  {
   "cell_type": "code",
   "execution_count": null,
   "id": "d324053d-91e9-4ece-bfad-3b889d4963d3",
   "metadata": {},
   "outputs": [],
   "source": [
    "experiment.display()"
   ]
  },
  {
   "cell_type": "code",
   "execution_count": null,
   "id": "10c05f53",
   "metadata": {},
   "outputs": [],
   "source": [
    "experiment.end()"
   ]
  },
  {
   "cell_type": "markdown",
   "id": "47a8c856-6384-4e0f-81c0-c01ea739092b",
   "metadata": {
    "tags": []
   },
   "source": [
    "References \n",
    "\n",
    "*https://arxiv.org/ftp/arxiv/papers/1503/1503.07475.pdf\n",
    "*https://www.xpertup.com/downloads/movie-recommender-system/\n",
    "* https://www.sciencedirect.com/science/article/pii/S1110866515000341#:~:text=Recommender%20system%20has%20the%20ability,online%20shopping%20environment%20%5B4%5D\n",
    "* https://realpython.com/build-recommendation-engine-collaborative-filtering/\n",
    "* https://surprise.readthedocs.io/en/stable/getting_started.html \n",
    "* http://surpriselib.com/#:~:text=Surprise%20is%20a%20Python%20scikit,perfect%20control%20over%20their%20experiments\n",
    "* https://towardsdatascience.com/building-and-testing-recommender-systems-with-surprise-step-by-step-d4ba702ef80b\n",
    "* https://neptune.ai/blog/hyperparameter-tuning-in-python-a-complete-guide-2020\n",
    "\n",
    "\n"
   ]
  },
  {
   "cell_type": "markdown",
   "id": "44ee1123-1c0d-4f2b-aea4-9aea8400fd86",
   "metadata": {
    "tags": []
   },
   "source": [
    " # THANK YOU FOR READING OUR PROJECT"
   ]
  },
  {
   "cell_type": "code",
   "execution_count": null,
   "id": "3a1761b5-e2dc-43d0-a34e-48c07ed7bd35",
   "metadata": {},
   "outputs": [],
   "source": [
    "<img src = \"https://t3.ftcdn.net/jpg/02/92/36/76/360_F_292367633_TwzHFo2XLSSbcihgxESm2sKcQ0NlwrIG.jpg\" align = \"centre\">"
   ]
  },
  {
   "cell_type": "code",
   "execution_count": null,
   "id": "bf936017-3964-45ed-bcaa-c7a361188442",
   "metadata": {},
   "outputs": [],
   "source": []
  }
 ],
 "metadata": {
  "kernelspec": {
   "display_name": "default:Python",
   "language": "python",
   "name": "conda-env-default-py"
  },
  "language_info": {
   "codemirror_mode": {
    "name": "ipython",
    "version": 3
   },
   "file_extension": ".py",
   "mimetype": "text/x-python",
   "name": "python",
   "nbconvert_exporter": "python",
   "pygments_lexer": "ipython3",
   "version": "3.9.10"
  },
  "toc": {
   "base_numbering": 1,
   "nav_menu": {},
   "number_sections": true,
   "sideBar": true,
   "skip_h1_title": false,
   "title_cell": "Table of Contents",
   "title_sidebar": "Contents",
   "toc_cell": true,
   "toc_position": {},
   "toc_section_display": true,
   "toc_window_display": true
  }
 },
 "nbformat": 4,
 "nbformat_minor": 5
}
