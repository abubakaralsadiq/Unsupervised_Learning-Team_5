{
 "cells": [
  {
   "cell_type": "markdown",
   "id": "18487705",
   "metadata": {},
   "source": [
    "# <a id='0'>Team_5:Movies Recommender System  Solution</a>"
   ]
  },
  {
   "cell_type": "markdown",
   "id": "4b723352",
   "metadata": {
    "toc": true
   },
   "source": [
    "<h1>Table of Contents<span class=\"tocSkip\"></span></h1>\n",
    "<div class=\"toc\"><ul class=\"toc-item\"><li><span><a href=\"#Team_5:Movies-Recommender-System--Solution\" data-toc-modified-id=\"Team_5:Movies-Recommender-System--Solution-1\"><span class=\"toc-item-num\">1&nbsp;&nbsp;</span><a id=\"0\">Team_5:Movies Recommender System  Solution</a></a></span></li><li><span><a href=\"#Introduction\" data-toc-modified-id=\"Introduction-2\"><span class=\"toc-item-num\">2&nbsp;&nbsp;</span>Introduction</a></span><ul class=\"toc-item\"><li><span><a href=\"#Overview\" data-toc-modified-id=\"Overview-2.1\"><span class=\"toc-item-num\">2.1&nbsp;&nbsp;</span>Overview</a></span></li><li><span><a href=\"#Problem-Statement\" data-toc-modified-id=\"Problem-Statement-2.2\"><span class=\"toc-item-num\">2.2&nbsp;&nbsp;</span>Problem Statement</a></span></li></ul></li><li><span><a href=\"#Comet-Experiment\" data-toc-modified-id=\"Comet-Experiment-3\"><span class=\"toc-item-num\">3&nbsp;&nbsp;</span>Comet Experiment</a></span></li><li><span><a href=\"#Loading-Dependencies\" data-toc-modified-id=\"Loading-Dependencies-4\"><span class=\"toc-item-num\">4&nbsp;&nbsp;</span>Loading Dependencies</a></span><ul class=\"toc-item\"><li><span><a href=\"#Import-the-libraries\" data-toc-modified-id=\"Import-the-libraries-4.1\"><span class=\"toc-item-num\">4.1&nbsp;&nbsp;</span>Import the libraries</a></span></li><li><span><a href=\"#Loading-the-data\" data-toc-modified-id=\"Loading-the-data-4.2\"><span class=\"toc-item-num\">4.2&nbsp;&nbsp;</span>Loading the data</a></span></li><li><span><a href=\"#Data-description\" data-toc-modified-id=\"Data-description-4.3\"><span class=\"toc-item-num\">4.3&nbsp;&nbsp;</span>Data description</a></span></li></ul></li><li><span><a href=\"#Exploratory-Data-Analysis\" data-toc-modified-id=\"Exploratory-Data-Analysis-5\"><span class=\"toc-item-num\">5&nbsp;&nbsp;</span>Exploratory Data Analysis</a></span></li><li><span><a href=\"#Data-Preprocessing\" data-toc-modified-id=\"Data-Preprocessing-6\"><span class=\"toc-item-num\">6&nbsp;&nbsp;</span>Data Preprocessing</a></span></li><li><span><a href=\"#Modelling\" data-toc-modified-id=\"Modelling-7\"><span class=\"toc-item-num\">7&nbsp;&nbsp;</span>Modelling</a></span></li><li><span><a href=\"#Conclusion\" data-toc-modified-id=\"Conclusion-8\"><span class=\"toc-item-num\">8&nbsp;&nbsp;</span>Conclusion</a></span></li><li><span><a href=\"#References\" data-toc-modified-id=\"References-9\"><span class=\"toc-item-num\">9&nbsp;&nbsp;</span>References</a></span></li></ul></div>"
   ]
  },
  {
   "cell_type": "markdown",
   "id": "7b0abbd2",
   "metadata": {},
   "source": [
    "# Introduction"
   ]
  },
  {
   "cell_type": "markdown",
   "id": "a8c6e152",
   "metadata": {},
   "source": [
    "## Overview"
   ]
  },
  {
   "cell_type": "markdown",
   "id": "285c64c3",
   "metadata": {},
   "source": [
    "On the internet, where the number of choices is overwhelming, there is a need to filter, prioritize and efficiently deliver relevant information in order to reduce the problem of information overload, which has created a potential problem to many Internet users. Recommender systems solve this problem by searching through large volume of dynamically generated information to provide users with personalized content and services.\n",
    "\n",
    "Recommender systems are information filtering systems that deal with the problem of information overload by filtering vital information fragment out of large amount of dynamically generated information according to user’s preferences, interest, or observed behaviour about item. Recommender system has the ability to predict whether a particular user would prefer an item or not based on the user’s profile.\n",
    "\n",
    "Recommender systems are beneficial to both service providers and users. They reduce transaction costs of finding and selecting items in an online shopping environment. Recommendation systems have also proved to improve decision making process and quality."
   ]
  },
  {
   "cell_type": "markdown",
   "id": "b6acb282",
   "metadata": {},
   "source": [
    "## Problem Statement\n",
    "\n",
    "The aim of this project is to create a recomenderrecommendation algorithm based on content or collaborative filtering, capable of accurately predicting how a user will rate a movie they have not yet viewed based on their historical preferences."
   ]
  },
  {
   "cell_type": "markdown",
   "id": "6eab765f",
   "metadata": {},
   "source": [
    "# Comet Experiment"
   ]
  },
  {
   "cell_type": "code",
   "execution_count": 1,
   "id": "e728acd7",
   "metadata": {},
   "outputs": [
    {
     "name": "stderr",
     "output_type": "stream",
     "text": [
      "COMET WARNING: As you are running in a Jupyter environment, you will need to call `experiment.end()` when finished to ensure all metrics and code are logged before exiting.\n",
      "COMET WARNING: Failed to check backend version at URL: 'https://www.comet-ml.com/clientlib/isAlive/ver'\n",
      "COMET INFO: Couldn't find a Git repository in 'C:\\\\Users\\\\HP\\\\Documents\\\\team5\\\\edsa-movie-recommendation-2022' nor in any parent directory. You can override where Comet is looking for a Git Patch by setting the configuration `COMET_GIT_DIRECTORY`\n",
      "COMET INFO: Experiment is live on comet.ml https://www.comet.ml/tsikaapp/team-5-unsupervised-ml/65cbfda20cc149f280b941997b726a17\n",
      "\n"
     ]
    }
   ],
   "source": [
    "# import comet_ml at the top of your file\n",
    "from comet_ml import Experiment\n",
    "\n",
    "# Create an experiment with your api key\n",
    "experiment = Experiment(\n",
    "    api_key=\"rhxOl6OrextNazWTBlB2j8YNW\",\n",
    "    project_name=\"team-5-unsupervised-ml\",\n",
    "    workspace=\"tsikaapp\",\n",
    ")"
   ]
  },
  {
   "cell_type": "markdown",
   "id": "231c99f8",
   "metadata": {},
   "source": [
    "# Loading Dependencies"
   ]
  },
  {
   "cell_type": "markdown",
   "id": "bd59993e",
   "metadata": {},
   "source": [
    "## Import the libraries"
   ]
  },
  {
   "cell_type": "code",
   "execution_count": 2,
   "id": "636ff52c",
   "metadata": {},
   "outputs": [],
   "source": [
    "import numpy as np\n",
    "import pandas as pd\n",
    "import matplotlib.pyplot as plt\n",
    "import seaborn as sns\n",
    "\n",
    "\n",
    "from sklearn.cluster import KMeans\n",
    "from scipy.cluster.hierarchy import linkage,dendrogram\n",
    "from sklearn.pipeline import make_pipeline\n",
    "from sklearn.preprocessing import StandardScaler\n",
    "from sklearn.preprocessing import Normalizer\n",
    "from sklearn.decomposition import PCA, NMF\n",
    "from sklearn.manifold import TSNE\n",
    "from sklearn.feature_extraction.text import TfidfVectorizer\n",
    "#from yellowbrick.cluster import KElbowVisualizer\n",
    "\n",
    "from surprise.reader import Reader\n",
    "from surprise.dataset import Dataset\n",
    "from surprise import SVD, SVDpp, SlopeOne, NMF, NormalPredictor\n",
    "from surprise import KNNBaseline, KNNBasic, KNNWithMeans, KNNWithZScore\n",
    "from surprise import BaselineOnly, CoClustering\n",
    "from surprise.model_selection import cross_validate, train_test_split, GridSearchCV\n",
    "from surprise import accuracy\n",
    "\n",
    "import scipy as sp \n",
    "\n",
    "\n",
    "from datetime import datetime\n",
    "from sklearn.metrics.pairwise import cosine_similarity, linear_kernel\n",
    "from sklearn.feature_extraction.text import TfidfVectorizer\n",
    "import cufflinks as cf\n",
    "\n",
    "import operator \n",
    "import heapq \n",
    "#import xgboost as xgb\n",
    "\n",
    "#other libraries\n",
    "from IPython.core.display import HTML\n",
    "from IPython.display import YouTubeVideo\n",
    "from collections import defaultdict\n",
    "\n",
    "import re\n",
    "# from IPython.display import display_html\n",
    "\n",
    "import warnings\n",
    "warnings.filterwarnings('ignore')"
   ]
  },
  {
   "cell_type": "markdown",
   "id": "7c147e3f",
   "metadata": {},
   "source": [
    "## Loading the data"
   ]
  },
  {
   "cell_type": "code",
   "execution_count": 3,
   "id": "e278aaa8",
   "metadata": {},
   "outputs": [],
   "source": [
    "genome_scores = pd.read_csv('genome_scores.csv')\n",
    "genome_tags = pd.read_csv('genome_tags.csv')\n",
    "imdb = pd.read_csv('imdb_data.csv')\n",
    "links = pd.read_csv('links.csv')\n",
    "movies = pd.read_csv('movies.csv')\n",
    "tags = pd.read_csv('tags.csv')\n",
    "test = pd.read_csv('test.csv')\n",
    "train = pd.read_csv('train.csv')\n",
    "sample_submission = pd.read_csv('sample_submission.csv')"
   ]
  },
  {
   "cell_type": "markdown",
   "id": "2c36b143",
   "metadata": {},
   "source": [
    "## Data description\n",
    "\n",
    "* genome_scores.csv - a score mapping the strength between movies and tag-related properties.\n",
    "* genome_tags.csv - user assigned tags for genome-related scores.\n",
    "* imdb_data.csv - Additional movie metadata scraped from IMDB using the links.csv file.\n",
    "* links.csv - File providing a mapping between a MovieLens ID and associated IMDB and TMDB IDs.\n",
    "* sample_submission.csv - Sample of the submission format for the hackathon.\n",
    "* tags.csv - User assigned for the movies within the dataset.\n",
    "* test.csv - The test split of the dataset. Contains user and movie IDs with no rating data.\n",
    "* train.csv - The training split of the dataset. Contains user and movie IDs with associated rating data."
   ]
  },
  {
   "cell_type": "markdown",
   "id": "548e2085",
   "metadata": {},
   "source": [
    "# Exploratory Data Analysis"
   ]
  },
  {
   "cell_type": "code",
   "execution_count": 4,
   "id": "0f0f6639",
   "metadata": {},
   "outputs": [
    {
     "name": "stdout",
     "output_type": "stream",
     "text": [
      "(10000038, 4)\n",
      "<class 'pandas.core.frame.DataFrame'>\n",
      "RangeIndex: 10000038 entries, 0 to 10000037\n",
      "Data columns (total 4 columns):\n",
      " #   Column     Dtype  \n",
      "---  ------     -----  \n",
      " 0   userId     int64  \n",
      " 1   movieId    int64  \n",
      " 2   rating     float64\n",
      " 3   timestamp  int64  \n",
      "dtypes: float64(1), int64(3)\n",
      "memory usage: 305.2 MB\n"
     ]
    }
   ],
   "source": [
    "print(train.shape)\n",
    "train.info()"
   ]
  },
  {
   "cell_type": "code",
   "execution_count": 5,
   "id": "b5835e52",
   "metadata": {},
   "outputs": [
    {
     "name": "stdout",
     "output_type": "stream",
     "text": [
      "(5000019, 2)\n",
      "<class 'pandas.core.frame.DataFrame'>\n",
      "RangeIndex: 5000019 entries, 0 to 5000018\n",
      "Data columns (total 2 columns):\n",
      " #   Column   Dtype\n",
      "---  ------   -----\n",
      " 0   userId   int64\n",
      " 1   movieId  int64\n",
      "dtypes: int64(2)\n",
      "memory usage: 76.3 MB\n"
     ]
    }
   ],
   "source": [
    "print(test.shape)\n",
    "test.info()"
   ]
  },
  {
   "cell_type": "code",
   "execution_count": 6,
   "id": "9a63d2ec",
   "metadata": {},
   "outputs": [
    {
     "name": "stdout",
     "output_type": "stream",
     "text": [
      "(62423, 3)\n",
      "<class 'pandas.core.frame.DataFrame'>\n",
      "RangeIndex: 62423 entries, 0 to 62422\n",
      "Data columns (total 3 columns):\n",
      " #   Column   Non-Null Count  Dtype \n",
      "---  ------   --------------  ----- \n",
      " 0   movieId  62423 non-null  int64 \n",
      " 1   title    62423 non-null  object\n",
      " 2   genres   62423 non-null  object\n",
      "dtypes: int64(1), object(2)\n",
      "memory usage: 1.4+ MB\n"
     ]
    }
   ],
   "source": [
    "print(movies.shape)\n",
    "movies.info()"
   ]
  },
  {
   "cell_type": "code",
   "execution_count": 7,
   "id": "8ad004bf",
   "metadata": {},
   "outputs": [
    {
     "name": "stdout",
     "output_type": "stream",
     "text": [
      "(27278, 6)\n",
      "<class 'pandas.core.frame.DataFrame'>\n",
      "RangeIndex: 27278 entries, 0 to 27277\n",
      "Data columns (total 6 columns):\n",
      " #   Column         Non-Null Count  Dtype  \n",
      "---  ------         --------------  -----  \n",
      " 0   movieId        27278 non-null  int64  \n",
      " 1   title_cast     17210 non-null  object \n",
      " 2   director       17404 non-null  object \n",
      " 3   runtime        15189 non-null  float64\n",
      " 4   budget         7906 non-null   object \n",
      " 5   plot_keywords  16200 non-null  object \n",
      "dtypes: float64(1), int64(1), object(4)\n",
      "memory usage: 1.2+ MB\n"
     ]
    }
   ],
   "source": [
    "print(imdb.shape)\n",
    "imdb.info()"
   ]
  },
  {
   "cell_type": "code",
   "execution_count": 8,
   "id": "0fa628c7",
   "metadata": {},
   "outputs": [
    {
     "name": "stdout",
     "output_type": "stream",
     "text": [
      "(62423, 3)\n",
      "<class 'pandas.core.frame.DataFrame'>\n",
      "RangeIndex: 62423 entries, 0 to 62422\n",
      "Data columns (total 3 columns):\n",
      " #   Column   Non-Null Count  Dtype  \n",
      "---  ------   --------------  -----  \n",
      " 0   movieId  62423 non-null  int64  \n",
      " 1   imdbId   62423 non-null  int64  \n",
      " 2   tmdbId   62316 non-null  float64\n",
      "dtypes: float64(1), int64(2)\n",
      "memory usage: 1.4 MB\n"
     ]
    }
   ],
   "source": [
    "print(links.shape)\n",
    "links.info()"
   ]
  },
  {
   "cell_type": "code",
   "execution_count": 9,
   "id": "678161a6",
   "metadata": {
    "scrolled": true
   },
   "outputs": [
    {
     "name": "stdout",
     "output_type": "stream",
     "text": [
      "(1093360, 4)\n",
      "<class 'pandas.core.frame.DataFrame'>\n",
      "RangeIndex: 1093360 entries, 0 to 1093359\n",
      "Data columns (total 4 columns):\n",
      " #   Column     Non-Null Count    Dtype \n",
      "---  ------     --------------    ----- \n",
      " 0   userId     1093360 non-null  int64 \n",
      " 1   movieId    1093360 non-null  int64 \n",
      " 2   tag        1093344 non-null  object\n",
      " 3   timestamp  1093360 non-null  int64 \n",
      "dtypes: int64(3), object(1)\n",
      "memory usage: 33.4+ MB\n"
     ]
    }
   ],
   "source": [
    "print(tags.shape)\n",
    "tags.info()"
   ]
  },
  {
   "cell_type": "code",
   "execution_count": 10,
   "id": "200f7c10",
   "metadata": {},
   "outputs": [
    {
     "data": {
      "text/html": [
       "<div>\n",
       "<style scoped>\n",
       "    .dataframe tbody tr th:only-of-type {\n",
       "        vertical-align: middle;\n",
       "    }\n",
       "\n",
       "    .dataframe tbody tr th {\n",
       "        vertical-align: top;\n",
       "    }\n",
       "\n",
       "    .dataframe thead th {\n",
       "        text-align: right;\n",
       "    }\n",
       "</style>\n",
       "<table border=\"1\" class=\"dataframe\">\n",
       "  <thead>\n",
       "    <tr style=\"text-align: right;\">\n",
       "      <th></th>\n",
       "      <th>userId</th>\n",
       "      <th>movieId</th>\n",
       "      <th>rating</th>\n",
       "      <th>timestamp</th>\n",
       "    </tr>\n",
       "  </thead>\n",
       "  <tbody>\n",
       "    <tr>\n",
       "      <th>0</th>\n",
       "      <td>5163</td>\n",
       "      <td>57669</td>\n",
       "      <td>4.0</td>\n",
       "      <td>1518349992</td>\n",
       "    </tr>\n",
       "    <tr>\n",
       "      <th>1</th>\n",
       "      <td>106343</td>\n",
       "      <td>5</td>\n",
       "      <td>4.5</td>\n",
       "      <td>1206238739</td>\n",
       "    </tr>\n",
       "    <tr>\n",
       "      <th>2</th>\n",
       "      <td>146790</td>\n",
       "      <td>5459</td>\n",
       "      <td>5.0</td>\n",
       "      <td>1076215539</td>\n",
       "    </tr>\n",
       "    <tr>\n",
       "      <th>3</th>\n",
       "      <td>106362</td>\n",
       "      <td>32296</td>\n",
       "      <td>2.0</td>\n",
       "      <td>1423042565</td>\n",
       "    </tr>\n",
       "    <tr>\n",
       "      <th>4</th>\n",
       "      <td>9041</td>\n",
       "      <td>366</td>\n",
       "      <td>3.0</td>\n",
       "      <td>833375837</td>\n",
       "    </tr>\n",
       "  </tbody>\n",
       "</table>\n",
       "</div>"
      ],
      "text/plain": [
       "   userId  movieId  rating   timestamp\n",
       "0    5163    57669     4.0  1518349992\n",
       "1  106343        5     4.5  1206238739\n",
       "2  146790     5459     5.0  1076215539\n",
       "3  106362    32296     2.0  1423042565\n",
       "4    9041      366     3.0   833375837"
      ]
     },
     "execution_count": 10,
     "metadata": {},
     "output_type": "execute_result"
    }
   ],
   "source": [
    "train.head()\n"
   ]
  },
  {
   "cell_type": "code",
   "execution_count": 11,
   "id": "bd13144c",
   "metadata": {},
   "outputs": [
    {
     "data": {
      "text/plain": [
       "userId       0\n",
       "movieId      0\n",
       "rating       0\n",
       "timestamp    0\n",
       "dtype: int64"
      ]
     },
     "execution_count": 11,
     "metadata": {},
     "output_type": "execute_result"
    }
   ],
   "source": [
    "train.isnull().sum()"
   ]
  },
  {
   "cell_type": "code",
   "execution_count": 12,
   "id": "969d15fe",
   "metadata": {},
   "outputs": [
    {
     "data": {
      "text/html": [
       "<div>\n",
       "<style scoped>\n",
       "    .dataframe tbody tr th:only-of-type {\n",
       "        vertical-align: middle;\n",
       "    }\n",
       "\n",
       "    .dataframe tbody tr th {\n",
       "        vertical-align: top;\n",
       "    }\n",
       "\n",
       "    .dataframe thead th {\n",
       "        text-align: right;\n",
       "    }\n",
       "</style>\n",
       "<table border=\"1\" class=\"dataframe\">\n",
       "  <thead>\n",
       "    <tr style=\"text-align: right;\">\n",
       "      <th></th>\n",
       "      <th>movieId</th>\n",
       "      <th>title</th>\n",
       "      <th>genres</th>\n",
       "    </tr>\n",
       "  </thead>\n",
       "  <tbody>\n",
       "    <tr>\n",
       "      <th>0</th>\n",
       "      <td>1</td>\n",
       "      <td>Toy Story (1995)</td>\n",
       "      <td>Adventure|Animation|Children|Comedy|Fantasy</td>\n",
       "    </tr>\n",
       "    <tr>\n",
       "      <th>1</th>\n",
       "      <td>2</td>\n",
       "      <td>Jumanji (1995)</td>\n",
       "      <td>Adventure|Children|Fantasy</td>\n",
       "    </tr>\n",
       "    <tr>\n",
       "      <th>2</th>\n",
       "      <td>3</td>\n",
       "      <td>Grumpier Old Men (1995)</td>\n",
       "      <td>Comedy|Romance</td>\n",
       "    </tr>\n",
       "    <tr>\n",
       "      <th>3</th>\n",
       "      <td>4</td>\n",
       "      <td>Waiting to Exhale (1995)</td>\n",
       "      <td>Comedy|Drama|Romance</td>\n",
       "    </tr>\n",
       "    <tr>\n",
       "      <th>4</th>\n",
       "      <td>5</td>\n",
       "      <td>Father of the Bride Part II (1995)</td>\n",
       "      <td>Comedy</td>\n",
       "    </tr>\n",
       "  </tbody>\n",
       "</table>\n",
       "</div>"
      ],
      "text/plain": [
       "   movieId                               title  \\\n",
       "0        1                    Toy Story (1995)   \n",
       "1        2                      Jumanji (1995)   \n",
       "2        3             Grumpier Old Men (1995)   \n",
       "3        4            Waiting to Exhale (1995)   \n",
       "4        5  Father of the Bride Part II (1995)   \n",
       "\n",
       "                                        genres  \n",
       "0  Adventure|Animation|Children|Comedy|Fantasy  \n",
       "1                   Adventure|Children|Fantasy  \n",
       "2                               Comedy|Romance  \n",
       "3                         Comedy|Drama|Romance  \n",
       "4                                       Comedy  "
      ]
     },
     "execution_count": 12,
     "metadata": {},
     "output_type": "execute_result"
    }
   ],
   "source": [
    "movies.head()"
   ]
  },
  {
   "cell_type": "code",
   "execution_count": 13,
   "id": "83013c33",
   "metadata": {},
   "outputs": [
    {
     "data": {
      "text/html": [
       "<div>\n",
       "<style scoped>\n",
       "    .dataframe tbody tr th:only-of-type {\n",
       "        vertical-align: middle;\n",
       "    }\n",
       "\n",
       "    .dataframe tbody tr th {\n",
       "        vertical-align: top;\n",
       "    }\n",
       "\n",
       "    .dataframe thead th {\n",
       "        text-align: right;\n",
       "    }\n",
       "</style>\n",
       "<table border=\"1\" class=\"dataframe\">\n",
       "  <thead>\n",
       "    <tr style=\"text-align: right;\">\n",
       "      <th></th>\n",
       "      <th>movieId</th>\n",
       "      <th>tagId</th>\n",
       "      <th>relevance</th>\n",
       "    </tr>\n",
       "  </thead>\n",
       "  <tbody>\n",
       "    <tr>\n",
       "      <th>0</th>\n",
       "      <td>1</td>\n",
       "      <td>1</td>\n",
       "      <td>0.02875</td>\n",
       "    </tr>\n",
       "    <tr>\n",
       "      <th>1</th>\n",
       "      <td>1</td>\n",
       "      <td>2</td>\n",
       "      <td>0.02375</td>\n",
       "    </tr>\n",
       "    <tr>\n",
       "      <th>2</th>\n",
       "      <td>1</td>\n",
       "      <td>3</td>\n",
       "      <td>0.06250</td>\n",
       "    </tr>\n",
       "    <tr>\n",
       "      <th>3</th>\n",
       "      <td>1</td>\n",
       "      <td>4</td>\n",
       "      <td>0.07575</td>\n",
       "    </tr>\n",
       "    <tr>\n",
       "      <th>4</th>\n",
       "      <td>1</td>\n",
       "      <td>5</td>\n",
       "      <td>0.14075</td>\n",
       "    </tr>\n",
       "  </tbody>\n",
       "</table>\n",
       "</div>"
      ],
      "text/plain": [
       "   movieId  tagId  relevance\n",
       "0        1      1    0.02875\n",
       "1        1      2    0.02375\n",
       "2        1      3    0.06250\n",
       "3        1      4    0.07575\n",
       "4        1      5    0.14075"
      ]
     },
     "execution_count": 13,
     "metadata": {},
     "output_type": "execute_result"
    }
   ],
   "source": [
    "genome_scores.head()"
   ]
  },
  {
   "cell_type": "code",
   "execution_count": 14,
   "id": "6a7eadec",
   "metadata": {},
   "outputs": [
    {
     "data": {
      "text/plain": [
       "movieId      0\n",
       "tagId        0\n",
       "relevance    0\n",
       "dtype: int64"
      ]
     },
     "execution_count": 14,
     "metadata": {},
     "output_type": "execute_result"
    }
   ],
   "source": [
    "genome_scores.isnull().sum()"
   ]
  },
  {
   "cell_type": "code",
   "execution_count": 15,
   "id": "2707a6ab",
   "metadata": {
    "scrolled": true
   },
   "outputs": [
    {
     "data": {
      "text/html": [
       "<div>\n",
       "<style scoped>\n",
       "    .dataframe tbody tr th:only-of-type {\n",
       "        vertical-align: middle;\n",
       "    }\n",
       "\n",
       "    .dataframe tbody tr th {\n",
       "        vertical-align: top;\n",
       "    }\n",
       "\n",
       "    .dataframe thead th {\n",
       "        text-align: right;\n",
       "    }\n",
       "</style>\n",
       "<table border=\"1\" class=\"dataframe\">\n",
       "  <thead>\n",
       "    <tr style=\"text-align: right;\">\n",
       "      <th></th>\n",
       "      <th>tagId</th>\n",
       "      <th>tag</th>\n",
       "    </tr>\n",
       "  </thead>\n",
       "  <tbody>\n",
       "    <tr>\n",
       "      <th>0</th>\n",
       "      <td>1</td>\n",
       "      <td>007</td>\n",
       "    </tr>\n",
       "    <tr>\n",
       "      <th>1</th>\n",
       "      <td>2</td>\n",
       "      <td>007 (series)</td>\n",
       "    </tr>\n",
       "    <tr>\n",
       "      <th>2</th>\n",
       "      <td>3</td>\n",
       "      <td>18th century</td>\n",
       "    </tr>\n",
       "    <tr>\n",
       "      <th>3</th>\n",
       "      <td>4</td>\n",
       "      <td>1920s</td>\n",
       "    </tr>\n",
       "    <tr>\n",
       "      <th>4</th>\n",
       "      <td>5</td>\n",
       "      <td>1930s</td>\n",
       "    </tr>\n",
       "  </tbody>\n",
       "</table>\n",
       "</div>"
      ],
      "text/plain": [
       "   tagId           tag\n",
       "0      1           007\n",
       "1      2  007 (series)\n",
       "2      3  18th century\n",
       "3      4         1920s\n",
       "4      5         1930s"
      ]
     },
     "execution_count": 15,
     "metadata": {},
     "output_type": "execute_result"
    }
   ],
   "source": [
    "genome_tags.head()"
   ]
  },
  {
   "cell_type": "code",
   "execution_count": 16,
   "id": "89b72b33",
   "metadata": {
    "scrolled": true
   },
   "outputs": [
    {
     "name": "stdout",
     "output_type": "stream",
     "text": [
      "Total Train Data:\n",
      "Total number of movie ratings in Train data = 10000038\n",
      "Number of unique users in Train data = 162541\n",
      "Number of unique movies in Train data = 48213\n",
      "Highest value of a User ID = 162541\n",
      "Highest value of a Movie ID = 209171\n"
     ]
    }
   ],
   "source": [
    "# We analysing the train set\n",
    "print(\"Total Train Data:\")\n",
    "print(\"Total number of movie ratings in Train data = \"+str(train.shape[0]))\n",
    "print(\"Number of unique users in Train data = \"+str(len(np.unique(train[\"userId\"]))))\n",
    "print(\"Number of unique movies in Train data = \"+str(len(np.unique(train[\"movieId\"]))))\n",
    "print(\"Highest value of a User ID = \"+str(max(train[\"userId\"].values)))\n",
    "print(\"Highest value of a Movie ID = \"+str(max(train[\"movieId\"].values)))"
   ]
  },
  {
   "cell_type": "markdown",
   "id": "b55c4e2d-d60e-4dd9-a09b-6035e1e647ec",
   "metadata": {
    "colab_type": "text",
    "id": "qEh0iZUFvTgN"
   },
   "source": [
    "### Ratings"
   ]
  },
  {
   "cell_type": "code",
   "execution_count": 17,
   "id": "db5ddd7e",
   "metadata": {},
   "outputs": [
    {
     "name": "stdout",
     "output_type": "stream",
     "text": [
      "Combined number of ratings:\t 38970 \n",
      "Total number of movies:\t\t 48213\n"
     ]
    },
    {
     "data": {
      "image/png": "[encoded data removed]",
      "text/plain": [
       "<Figure size 576x432 with 1 Axes>"
      ]
     },
     "metadata": {
      "needs_background": "light"
     },
     "output_type": "display_data"
    }
   ],
   "source": [
    "plt.figure(figsize=(8,6))\n",
    "data = train['userId'].value_counts().head(10)\n",
    "ax = sns.barplot(x = data.index, y = data, order= data.index, palette='brg', edgecolor=\"black\")\n",
    "for p in ax.patches:\n",
    "    ax.text(p.get_x() + p.get_width()/2., p.get_height(), '%d' % int(p.get_height()), fontsize=11, ha='center', va='bottom')\n",
    "plt.title(f'Top {10} Users by Number of Ratings', fontsize=14)\n",
    "plt.xlabel('User ID')\n",
    "plt.ylabel('Number of Ratings')\n",
    "print(\"Combined number of ratings:\\t\",train['userId'].value_counts().head(10).sum(),\n",
    "     \"\\nTotal number of movies:\\t\\t\", train['movieId'].nunique())\n",
    "plt.show()"
   ]
  },
  {
   "cell_type": "markdown",
   "id": "26a70c93-d8f7-41aa-bddf-db3aa2e0825c",
   "metadata": {
    "colab_type": "text",
    "id": "kjV-QVRnWPvw"
   },
   "source": [
    "Q: How do users tend to rate movies?"
   ]
  },
  {
   "cell_type": "code",
   "execution_count": 18,
   "id": "994c5202",
   "metadata": {},
   "outputs": [
    {
     "data": {
      "image/png": "[encoded data removed]",
      "text/plain": [
       "<Figure size 576x432 with 1 Axes>"
      ]
     },
     "metadata": {
      "needs_background": "light"
     },
     "output_type": "display_data"
    }
   ],
   "source": [
    "plt.figure(figsize=(8,6))\n",
    "ax = sns.distplot(train['rating'],bins=10, kde=False, hist_kws=dict(alpha=0.6),color=\"#009383\")\n",
    "mean = train['rating'].mean()\n",
    "median = train['rating'].median()\n",
    "plt.axvline(x=mean, label = f'mean {round(mean,2)}' , color='#4D17A0', lw=3, ls = '--')\n",
    "plt.axvline(x=median, label = f'median {median}' , color='#4DA017', lw=3, ls = '--')\n",
    "plt.xlim((0.5,5))\n",
    "plt.ylim((0,2500000))\n",
    "plt.title(f'Distribution of Ratings', fontsize=14)\n",
    "plt.xlabel('Rating')\n",
    "plt.ylabel('Frequency')\n",
    "plt.legend()\n",
    "plt.show()"
   ]
  },
  {
   "cell_type": "markdown",
   "id": "25efda67",
   "metadata": {},
   "source": [
    "# Data Preprocessing"
   ]
  },
  {
   "cell_type": "markdown",
   "id": "769a80ba",
   "metadata": {},
   "source": [
    "## Merging Datasets"
   ]
  },
  {
   "cell_type": "code",
   "execution_count": 19,
   "id": "42c3745a-bf14-4a14-afab-2ce261bc42d9",
   "metadata": {
    "tags": []
   },
   "outputs": [],
   "source": [
    "# Merging the train and movies data on the movieId column\n",
    "new_train = train.merge(movies, on='movieId')"
   ]
  },
  {
   "cell_type": "code",
   "execution_count": 20,
   "id": "d83908c8",
   "metadata": {},
   "outputs": [
    {
     "data": {
      "text/plain": [
       "(10000038, 6)"
      ]
     },
     "execution_count": 20,
     "metadata": {},
     "output_type": "execute_result"
    }
   ],
   "source": [
    "new_train.shape"
   ]
  },
  {
   "cell_type": "code",
   "execution_count": 21,
   "id": "19704cbf",
   "metadata": {},
   "outputs": [
    {
     "data": {
      "text/html": [
       "<div>\n",
       "<style scoped>\n",
       "    .dataframe tbody tr th:only-of-type {\n",
       "        vertical-align: middle;\n",
       "    }\n",
       "\n",
       "    .dataframe tbody tr th {\n",
       "        vertical-align: top;\n",
       "    }\n",
       "\n",
       "    .dataframe thead th {\n",
       "        text-align: right;\n",
       "    }\n",
       "</style>\n",
       "<table border=\"1\" class=\"dataframe\">\n",
       "  <thead>\n",
       "    <tr style=\"text-align: right;\">\n",
       "      <th></th>\n",
       "      <th>userId</th>\n",
       "      <th>movieId</th>\n",
       "      <th>rating</th>\n",
       "      <th>timestamp</th>\n",
       "      <th>title</th>\n",
       "      <th>genres</th>\n",
       "    </tr>\n",
       "  </thead>\n",
       "  <tbody>\n",
       "    <tr>\n",
       "      <th>0</th>\n",
       "      <td>5163</td>\n",
       "      <td>57669</td>\n",
       "      <td>4.0</td>\n",
       "      <td>1518349992</td>\n",
       "      <td>In Bruges (2008)</td>\n",
       "      <td>Comedy|Crime|Drama|Thriller</td>\n",
       "    </tr>\n",
       "    <tr>\n",
       "      <th>1</th>\n",
       "      <td>87388</td>\n",
       "      <td>57669</td>\n",
       "      <td>3.5</td>\n",
       "      <td>1237455297</td>\n",
       "      <td>In Bruges (2008)</td>\n",
       "      <td>Comedy|Crime|Drama|Thriller</td>\n",
       "    </tr>\n",
       "    <tr>\n",
       "      <th>2</th>\n",
       "      <td>137050</td>\n",
       "      <td>57669</td>\n",
       "      <td>4.0</td>\n",
       "      <td>1425631854</td>\n",
       "      <td>In Bruges (2008)</td>\n",
       "      <td>Comedy|Crime|Drama|Thriller</td>\n",
       "    </tr>\n",
       "    <tr>\n",
       "      <th>3</th>\n",
       "      <td>120490</td>\n",
       "      <td>57669</td>\n",
       "      <td>4.5</td>\n",
       "      <td>1408228517</td>\n",
       "      <td>In Bruges (2008)</td>\n",
       "      <td>Comedy|Crime|Drama|Thriller</td>\n",
       "    </tr>\n",
       "    <tr>\n",
       "      <th>4</th>\n",
       "      <td>50616</td>\n",
       "      <td>57669</td>\n",
       "      <td>4.5</td>\n",
       "      <td>1446941640</td>\n",
       "      <td>In Bruges (2008)</td>\n",
       "      <td>Comedy|Crime|Drama|Thriller</td>\n",
       "    </tr>\n",
       "  </tbody>\n",
       "</table>\n",
       "</div>"
      ],
      "text/plain": [
       "   userId  movieId  rating   timestamp             title  \\\n",
       "0    5163    57669     4.0  1518349992  In Bruges (2008)   \n",
       "1   87388    57669     3.5  1237455297  In Bruges (2008)   \n",
       "2  137050    57669     4.0  1425631854  In Bruges (2008)   \n",
       "3  120490    57669     4.5  1408228517  In Bruges (2008)   \n",
       "4   50616    57669     4.5  1446941640  In Bruges (2008)   \n",
       "\n",
       "                        genres  \n",
       "0  Comedy|Crime|Drama|Thriller  \n",
       "1  Comedy|Crime|Drama|Thriller  \n",
       "2  Comedy|Crime|Drama|Thriller  \n",
       "3  Comedy|Crime|Drama|Thriller  \n",
       "4  Comedy|Crime|Drama|Thriller  "
      ]
     },
     "execution_count": 21,
     "metadata": {},
     "output_type": "execute_result"
    }
   ],
   "source": [
    "new_train.head()"
   ]
  },
  {
   "cell_type": "code",
   "execution_count": 22,
   "id": "5a7e9eb7",
   "metadata": {},
   "outputs": [],
   "source": [
    "# Convert timestamp to year column representing the year the rating was made on merged dataframe\n",
    "new_train['rating_year'] = new_train['timestamp'].apply(lambda timestamp: datetime.fromtimestamp(timestamp).year)\n",
    "new_train.drop('timestamp', axis=1, inplace=True)"
   ]
  },
  {
   "cell_type": "code",
   "execution_count": 24,
   "id": "efb4dff3",
   "metadata": {},
   "outputs": [
    {
     "data": {
      "text/html": [
       "<div>\n",
       "<style scoped>\n",
       "    .dataframe tbody tr th:only-of-type {\n",
       "        vertical-align: middle;\n",
       "    }\n",
       "\n",
       "    .dataframe tbody tr th {\n",
       "        vertical-align: top;\n",
       "    }\n",
       "\n",
       "    .dataframe thead th {\n",
       "        text-align: right;\n",
       "    }\n",
       "</style>\n",
       "<table border=\"1\" class=\"dataframe\">\n",
       "  <thead>\n",
       "    <tr style=\"text-align: right;\">\n",
       "      <th></th>\n",
       "      <th>userId</th>\n",
       "      <th>movieId</th>\n",
       "      <th>rating</th>\n",
       "      <th>title</th>\n",
       "      <th>genres</th>\n",
       "      <th>rating_year</th>\n",
       "      <th>release_year</th>\n",
       "    </tr>\n",
       "  </thead>\n",
       "  <tbody>\n",
       "    <tr>\n",
       "      <th>0</th>\n",
       "      <td>5163</td>\n",
       "      <td>57669</td>\n",
       "      <td>4.0</td>\n",
       "      <td>In Bruges (2008)</td>\n",
       "      <td>Comedy|Crime|Drama|Thriller</td>\n",
       "      <td>2018</td>\n",
       "      <td>2008</td>\n",
       "    </tr>\n",
       "    <tr>\n",
       "      <th>1</th>\n",
       "      <td>87388</td>\n",
       "      <td>57669</td>\n",
       "      <td>3.5</td>\n",
       "      <td>In Bruges (2008)</td>\n",
       "      <td>Comedy|Crime|Drama|Thriller</td>\n",
       "      <td>2009</td>\n",
       "      <td>2008</td>\n",
       "    </tr>\n",
       "    <tr>\n",
       "      <th>2</th>\n",
       "      <td>137050</td>\n",
       "      <td>57669</td>\n",
       "      <td>4.0</td>\n",
       "      <td>In Bruges (2008)</td>\n",
       "      <td>Comedy|Crime|Drama|Thriller</td>\n",
       "      <td>2015</td>\n",
       "      <td>2008</td>\n",
       "    </tr>\n",
       "    <tr>\n",
       "      <th>3</th>\n",
       "      <td>120490</td>\n",
       "      <td>57669</td>\n",
       "      <td>4.5</td>\n",
       "      <td>In Bruges (2008)</td>\n",
       "      <td>Comedy|Crime|Drama|Thriller</td>\n",
       "      <td>2014</td>\n",
       "      <td>2008</td>\n",
       "    </tr>\n",
       "    <tr>\n",
       "      <th>4</th>\n",
       "      <td>50616</td>\n",
       "      <td>57669</td>\n",
       "      <td>4.5</td>\n",
       "      <td>In Bruges (2008)</td>\n",
       "      <td>Comedy|Crime|Drama|Thriller</td>\n",
       "      <td>2015</td>\n",
       "      <td>2008</td>\n",
       "    </tr>\n",
       "  </tbody>\n",
       "</table>\n",
       "</div>"
      ],
      "text/plain": [
       "   userId  movieId  rating             title                       genres  \\\n",
       "0    5163    57669     4.0  In Bruges (2008)  Comedy|Crime|Drama|Thriller   \n",
       "1   87388    57669     3.5  In Bruges (2008)  Comedy|Crime|Drama|Thriller   \n",
       "2  137050    57669     4.0  In Bruges (2008)  Comedy|Crime|Drama|Thriller   \n",
       "3  120490    57669     4.5  In Bruges (2008)  Comedy|Crime|Drama|Thriller   \n",
       "4   50616    57669     4.5  In Bruges (2008)  Comedy|Crime|Drama|Thriller   \n",
       "\n",
       "   rating_year release_year  \n",
       "0         2018         2008  \n",
       "1         2009         2008  \n",
       "2         2015         2008  \n",
       "3         2014         2008  \n",
       "4         2015         2008  "
      ]
     },
     "execution_count": 24,
     "metadata": {},
     "output_type": "execute_result"
    }
   ],
   "source": [
    "new_train.head()"
   ]
  },
  {
   "cell_type": "code",
   "execution_count": 25,
   "id": "2e35a66c",
   "metadata": {},
   "outputs": [
    {
     "data": {
      "text/plain": [
       "(1995, 2019)"
      ]
     },
     "execution_count": 25,
     "metadata": {},
     "output_type": "execute_result"
    }
   ],
   "source": [
    "# Checking the earliest and most recent ratings years \n",
    "new_train['rating_year'].min(), new_train['rating_year'].max()"
   ]
  },
  {
   "cell_type": "code",
   "execution_count": 26,
   "id": "21d6744f",
   "metadata": {},
   "outputs": [],
   "source": [
    "def get_release_dates(title):\n",
    "    \n",
    "    sub = title[-5:-1]\n",
    "    year = int(sub) if sub.isdigit() else 9999    \n",
    "    return year\n",
    "\n",
    "def get_releases_by_year(df, release_years):\n",
    "    \n",
    "    mask = df[(df['release_year'] >= release_years[0]) & (df['release_year'] <= release_years[-1])]\n",
    "    return [mask[mask['release_year'] == year]['movieId'].nunique() for year in release_years]"
   ]
  },
  {
   "cell_type": "code",
   "execution_count": 27,
   "id": "2edd0d59",
   "metadata": {},
   "outputs": [],
   "source": [
    "# Creating the release year by extracting the release year from the movie title\n",
    "new_train['release_year'] = new_train['title'].apply(get_release_dates)"
   ]
  },
  {
   "cell_type": "code",
   "execution_count": 28,
   "id": "c3e25d83",
   "metadata": {},
   "outputs": [
    {
     "data": {
      "text/plain": [
       "(136, 6, 9999)"
      ]
     },
     "execution_count": 28,
     "metadata": {},
     "output_type": "execute_result"
    }
   ],
   "source": [
    "# Checking number of distinct years for movie releases, including the ealrliest and most recent year\n",
    "new_train['release_year'].nunique(), new_train['release_year'].min(), new_train['release_year'].max()"
   ]
  },
  {
   "cell_type": "code",
   "execution_count": 29,
   "id": "e4baa872",
   "metadata": {},
   "outputs": [
    {
     "data": {
      "text/plain": [
       "(1874, 2019)"
      ]
     },
     "execution_count": 29,
     "metadata": {},
     "output_type": "execute_result"
    }
   ],
   "source": [
    "new_train[new_train['release_year'] != 6]['release_year'].min(), new_train[new_train['release_year'] != 9999]['release_year'].max()"
   ]
  },
  {
   "cell_type": "markdown",
   "id": "aff2a2bc",
   "metadata": {},
   "source": [
    "The 9999 is returned by the <a>get_release_dates</a> function, for rows where the movie title does not specify the the release date. The 6 represents instances where the date was in all probability specified incorrectly as 6. The years from 1874 to 2019 represent a 145 year period, while there are 134 distinct years not including 6 and 9999 instances. As such it cannot be concluded that there are 11 years in which no movies were released in this 145 year period, given the above observations."
   ]
  },
  {
   "cell_type": "code",
   "execution_count": 30,
   "id": "50842934",
   "metadata": {},
   "outputs": [
    {
     "data": {
      "image/png": "[encoded data removed]",
      "text/plain": [
       "<Figure size 864x432 with 1 Axes>"
      ]
     },
     "metadata": {
      "needs_background": "light"
     },
     "output_type": "display_data"
    }
   ],
   "source": [
    "fig, ax = plt.subplots(1, 1, figsize = (12, 6))\n",
    "ax1 = new_train.groupby('rating_year')['rating'].count().plot(kind='bar', title='Ratings by year', color='#31384D')\n",
    "fig.tight_layout()"
   ]
  },
  {
   "cell_type": "markdown",
   "id": "219e5bab",
   "metadata": {},
   "source": [
    "The ratings for the movies span a period of 25 years, from 1995 all the way to 2019, with the last 5 years accumalatively having had the most ratings in comparison to any othe other 5 year interval. From 2006 to 2014 there is decline in user engagement when it comes to rating movies. Prior to 2006 there are 3 good years with ratings above 500000 ratings for the year, 3 more years at 400000 ratings and 3 below 300000 ratings for the year. it would be of interest to the spending behaviour of users for each of these years, as that would tell the complete story."
   ]
  },
  {
   "cell_type": "code",
   "execution_count": 31,
   "id": "751e3112",
   "metadata": {},
   "outputs": [],
   "source": [
    "# Creating a genre count column, for the number of genres a movie belongs to\n",
    "new_train['genre_count'] = new_train['genres'].apply(lambda genres: len(genres.split('|')))"
   ]
  },
  {
   "cell_type": "code",
   "execution_count": 32,
   "id": "c4d22da4",
   "metadata": {},
   "outputs": [],
   "source": [
    "# Creating a list of all the genres \n",
    "movie_genres = []\n",
    "new_train['genres'].apply(lambda genres: movie_genres.extend(genres.split('|')))\n",
    "movie_genres = sorted(set(movie_genres))"
   ]
  },
  {
   "cell_type": "code",
   "execution_count": 33,
   "id": "5e85e7e3",
   "metadata": {},
   "outputs": [],
   "source": [
    "new_train['genre_list'] = new_train['genres'].str.split('|')\n"
   ]
  },
  {
   "cell_type": "code",
   "execution_count": 34,
   "id": "a2c1c447",
   "metadata": {},
   "outputs": [],
   "source": [
    "new_train.drop('genres', axis=1,inplace=True)"
   ]
  },
  {
   "cell_type": "code",
   "execution_count": 35,
   "id": "60f849e8",
   "metadata": {},
   "outputs": [
    {
     "data": {
      "text/html": [
       "<div>\n",
       "<style scoped>\n",
       "    .dataframe tbody tr th:only-of-type {\n",
       "        vertical-align: middle;\n",
       "    }\n",
       "\n",
       "    .dataframe tbody tr th {\n",
       "        vertical-align: top;\n",
       "    }\n",
       "\n",
       "    .dataframe thead th {\n",
       "        text-align: right;\n",
       "    }\n",
       "</style>\n",
       "<table border=\"1\" class=\"dataframe\">\n",
       "  <thead>\n",
       "    <tr style=\"text-align: right;\">\n",
       "      <th></th>\n",
       "      <th>title</th>\n",
       "      <th>totalRatingCount</th>\n",
       "    </tr>\n",
       "  </thead>\n",
       "  <tbody>\n",
       "    <tr>\n",
       "      <th>0</th>\n",
       "      <td>\"BLOW THE NIGHT!\" Let's Spend the Night Togeth...</td>\n",
       "      <td>1</td>\n",
       "    </tr>\n",
       "    <tr>\n",
       "      <th>1</th>\n",
       "      <td>\"Great Performances\" Cats (1998)</td>\n",
       "      <td>67</td>\n",
       "    </tr>\n",
       "    <tr>\n",
       "      <th>2</th>\n",
       "      <td>#1 Cheerleader Camp (2010)</td>\n",
       "      <td>5</td>\n",
       "    </tr>\n",
       "    <tr>\n",
       "      <th>3</th>\n",
       "      <td>#Female Pleasure (2018)</td>\n",
       "      <td>1</td>\n",
       "    </tr>\n",
       "    <tr>\n",
       "      <th>4</th>\n",
       "      <td>#FollowMe (2019)</td>\n",
       "      <td>5</td>\n",
       "    </tr>\n",
       "  </tbody>\n",
       "</table>\n",
       "</div>"
      ],
      "text/plain": [
       "                                               title  totalRatingCount\n",
       "0  \"BLOW THE NIGHT!\" Let's Spend the Night Togeth...                 1\n",
       "1                   \"Great Performances\" Cats (1998)                67\n",
       "2                         #1 Cheerleader Camp (2010)                 5\n",
       "3                            #Female Pleasure (2018)                 1\n",
       "4                                   #FollowMe (2019)                 5"
      ]
     },
     "execution_count": 35,
     "metadata": {},
     "output_type": "execute_result"
    }
   ],
   "source": [
    "combine_movie_rating = new_train.dropna(axis = 0, subset = ['title'])\n",
    "movie_ratingCount = (combine_movie_rating.\n",
    "     groupby(by = ['title'])['rating'].\n",
    "     count().\n",
    "     reset_index().\n",
    "     rename(columns = {'rating': 'totalRatingCount'})\n",
    "     [['title', 'totalRatingCount']]\n",
    "    )\n",
    "movie_ratingCount.head()"
   ]
  },
  {
   "cell_type": "code",
   "execution_count": 36,
   "id": "d387f637",
   "metadata": {},
   "outputs": [
    {
     "data": {
      "text/html": [
       "<div>\n",
       "<style scoped>\n",
       "    .dataframe tbody tr th:only-of-type {\n",
       "        vertical-align: middle;\n",
       "    }\n",
       "\n",
       "    .dataframe tbody tr th {\n",
       "        vertical-align: top;\n",
       "    }\n",
       "\n",
       "    .dataframe thead th {\n",
       "        text-align: right;\n",
       "    }\n",
       "</style>\n",
       "<table border=\"1\" class=\"dataframe\">\n",
       "  <thead>\n",
       "    <tr style=\"text-align: right;\">\n",
       "      <th></th>\n",
       "      <th>userId</th>\n",
       "      <th>movieId</th>\n",
       "      <th>rating</th>\n",
       "      <th>title</th>\n",
       "      <th>rating_year</th>\n",
       "      <th>release_year</th>\n",
       "      <th>genre_count</th>\n",
       "      <th>genre_list</th>\n",
       "      <th>totalRatingCount</th>\n",
       "    </tr>\n",
       "  </thead>\n",
       "  <tbody>\n",
       "    <tr>\n",
       "      <th>0</th>\n",
       "      <td>5163</td>\n",
       "      <td>57669</td>\n",
       "      <td>4.0</td>\n",
       "      <td>In Bruges (2008)</td>\n",
       "      <td>2018</td>\n",
       "      <td>2008</td>\n",
       "      <td>4</td>\n",
       "      <td>[Comedy, Crime, Drama, Thriller]</td>\n",
       "      <td>4253</td>\n",
       "    </tr>\n",
       "    <tr>\n",
       "      <th>1</th>\n",
       "      <td>87388</td>\n",
       "      <td>57669</td>\n",
       "      <td>3.5</td>\n",
       "      <td>In Bruges (2008)</td>\n",
       "      <td>2009</td>\n",
       "      <td>2008</td>\n",
       "      <td>4</td>\n",
       "      <td>[Comedy, Crime, Drama, Thriller]</td>\n",
       "      <td>4253</td>\n",
       "    </tr>\n",
       "    <tr>\n",
       "      <th>2</th>\n",
       "      <td>137050</td>\n",
       "      <td>57669</td>\n",
       "      <td>4.0</td>\n",
       "      <td>In Bruges (2008)</td>\n",
       "      <td>2015</td>\n",
       "      <td>2008</td>\n",
       "      <td>4</td>\n",
       "      <td>[Comedy, Crime, Drama, Thriller]</td>\n",
       "      <td>4253</td>\n",
       "    </tr>\n",
       "    <tr>\n",
       "      <th>3</th>\n",
       "      <td>120490</td>\n",
       "      <td>57669</td>\n",
       "      <td>4.5</td>\n",
       "      <td>In Bruges (2008)</td>\n",
       "      <td>2014</td>\n",
       "      <td>2008</td>\n",
       "      <td>4</td>\n",
       "      <td>[Comedy, Crime, Drama, Thriller]</td>\n",
       "      <td>4253</td>\n",
       "    </tr>\n",
       "    <tr>\n",
       "      <th>4</th>\n",
       "      <td>50616</td>\n",
       "      <td>57669</td>\n",
       "      <td>4.5</td>\n",
       "      <td>In Bruges (2008)</td>\n",
       "      <td>2015</td>\n",
       "      <td>2008</td>\n",
       "      <td>4</td>\n",
       "      <td>[Comedy, Crime, Drama, Thriller]</td>\n",
       "      <td>4253</td>\n",
       "    </tr>\n",
       "  </tbody>\n",
       "</table>\n",
       "</div>"
      ],
      "text/plain": [
       "   userId  movieId  rating             title  rating_year  release_year  \\\n",
       "0    5163    57669     4.0  In Bruges (2008)         2018          2008   \n",
       "1   87388    57669     3.5  In Bruges (2008)         2009          2008   \n",
       "2  137050    57669     4.0  In Bruges (2008)         2015          2008   \n",
       "3  120490    57669     4.5  In Bruges (2008)         2014          2008   \n",
       "4   50616    57669     4.5  In Bruges (2008)         2015          2008   \n",
       "\n",
       "   genre_count                        genre_list  totalRatingCount  \n",
       "0            4  [Comedy, Crime, Drama, Thriller]              4253  \n",
       "1            4  [Comedy, Crime, Drama, Thriller]              4253  \n",
       "2            4  [Comedy, Crime, Drama, Thriller]              4253  \n",
       "3            4  [Comedy, Crime, Drama, Thriller]              4253  \n",
       "4            4  [Comedy, Crime, Drama, Thriller]              4253  "
      ]
     },
     "execution_count": 36,
     "metadata": {},
     "output_type": "execute_result"
    }
   ],
   "source": [
    "new_train = combine_movie_rating.merge(movie_ratingCount, left_on = 'title', right_on = 'title', how = 'left')\n",
    "new_train.head()"
   ]
  },
  {
   "cell_type": "code",
   "execution_count": 44,
   "id": "dc50115d",
   "metadata": {},
   "outputs": [
    {
     "data": {
      "text/plain": [
       "(7805929, 9)"
      ]
     },
     "execution_count": 44,
     "metadata": {},
     "output_type": "execute_result"
    }
   ],
   "source": [
    "new_train.shape"
   ]
  },
  {
   "cell_type": "code",
   "execution_count": 43,
   "id": "a3bcfe11",
   "metadata": {},
   "outputs": [
    {
     "data": {
      "text/html": [
       "<div>\n",
       "<style scoped>\n",
       "    .dataframe tbody tr th:only-of-type {\n",
       "        vertical-align: middle;\n",
       "    }\n",
       "\n",
       "    .dataframe tbody tr th {\n",
       "        vertical-align: top;\n",
       "    }\n",
       "\n",
       "    .dataframe thead th {\n",
       "        text-align: right;\n",
       "    }\n",
       "</style>\n",
       "<table border=\"1\" class=\"dataframe\">\n",
       "  <thead>\n",
       "    <tr style=\"text-align: right;\">\n",
       "      <th></th>\n",
       "      <th>userId</th>\n",
       "      <th>movieId</th>\n",
       "      <th>rating</th>\n",
       "      <th>title</th>\n",
       "      <th>rating_year</th>\n",
       "      <th>release_year</th>\n",
       "      <th>genre_count</th>\n",
       "      <th>genre_list</th>\n",
       "      <th>totalRatingCount</th>\n",
       "    </tr>\n",
       "  </thead>\n",
       "  <tbody>\n",
       "    <tr>\n",
       "      <th>0</th>\n",
       "      <td>5163</td>\n",
       "      <td>57669</td>\n",
       "      <td>4.0</td>\n",
       "      <td>In Bruges (2008)</td>\n",
       "      <td>2018</td>\n",
       "      <td>2008</td>\n",
       "      <td>4</td>\n",
       "      <td>[Comedy, Crime, Drama, Thriller]</td>\n",
       "      <td>4253</td>\n",
       "    </tr>\n",
       "    <tr>\n",
       "      <th>1</th>\n",
       "      <td>87388</td>\n",
       "      <td>57669</td>\n",
       "      <td>3.5</td>\n",
       "      <td>In Bruges (2008)</td>\n",
       "      <td>2009</td>\n",
       "      <td>2008</td>\n",
       "      <td>4</td>\n",
       "      <td>[Comedy, Crime, Drama, Thriller]</td>\n",
       "      <td>4253</td>\n",
       "    </tr>\n",
       "    <tr>\n",
       "      <th>2</th>\n",
       "      <td>137050</td>\n",
       "      <td>57669</td>\n",
       "      <td>4.0</td>\n",
       "      <td>In Bruges (2008)</td>\n",
       "      <td>2015</td>\n",
       "      <td>2008</td>\n",
       "      <td>4</td>\n",
       "      <td>[Comedy, Crime, Drama, Thriller]</td>\n",
       "      <td>4253</td>\n",
       "    </tr>\n",
       "    <tr>\n",
       "      <th>3</th>\n",
       "      <td>120490</td>\n",
       "      <td>57669</td>\n",
       "      <td>4.5</td>\n",
       "      <td>In Bruges (2008)</td>\n",
       "      <td>2014</td>\n",
       "      <td>2008</td>\n",
       "      <td>4</td>\n",
       "      <td>[Comedy, Crime, Drama, Thriller]</td>\n",
       "      <td>4253</td>\n",
       "    </tr>\n",
       "    <tr>\n",
       "      <th>4</th>\n",
       "      <td>50616</td>\n",
       "      <td>57669</td>\n",
       "      <td>4.5</td>\n",
       "      <td>In Bruges (2008)</td>\n",
       "      <td>2015</td>\n",
       "      <td>2008</td>\n",
       "      <td>4</td>\n",
       "      <td>[Comedy, Crime, Drama, Thriller]</td>\n",
       "      <td>4253</td>\n",
       "    </tr>\n",
       "  </tbody>\n",
       "</table>\n",
       "</div>"
      ],
      "text/plain": [
       "   userId  movieId  rating             title  rating_year  release_year  \\\n",
       "0    5163    57669     4.0  In Bruges (2008)         2018          2008   \n",
       "1   87388    57669     3.5  In Bruges (2008)         2009          2008   \n",
       "2  137050    57669     4.0  In Bruges (2008)         2015          2008   \n",
       "3  120490    57669     4.5  In Bruges (2008)         2014          2008   \n",
       "4   50616    57669     4.5  In Bruges (2008)         2015          2008   \n",
       "\n",
       "   genre_count                        genre_list  totalRatingCount  \n",
       "0            4  [Comedy, Crime, Drama, Thriller]              4253  \n",
       "1            4  [Comedy, Crime, Drama, Thriller]              4253  \n",
       "2            4  [Comedy, Crime, Drama, Thriller]              4253  \n",
       "3            4  [Comedy, Crime, Drama, Thriller]              4253  \n",
       "4            4  [Comedy, Crime, Drama, Thriller]              4253  "
      ]
     },
     "execution_count": 43,
     "metadata": {},
     "output_type": "execute_result"
    }
   ],
   "source": [
    "popularity_threshold = 1000\n",
    "new_train = new_train.query('totalRatingCount >= @popularity_threshold')\n",
    "new_train.head()"
   ]
  },
  {
   "cell_type": "code",
   "execution_count": 45,
   "id": "e64baa53",
   "metadata": {},
   "outputs": [
    {
     "data": {
      "text/plain": [
       "(1000, 32831)"
      ]
     },
     "execution_count": 45,
     "metadata": {},
     "output_type": "execute_result"
    }
   ],
   "source": [
    "new_train['totalRatingCount'].min(), new_train['totalRatingCount'].max()"
   ]
  },
  {
   "cell_type": "code",
   "execution_count": 46,
   "id": "8a1533b4",
   "metadata": {},
   "outputs": [
    {
     "data": {
      "image/png": "[encoded data removed]",
      "text/plain": [
       "<Figure size 864x432 with 1 Axes>"
      ]
     },
     "metadata": {
      "needs_background": "light"
     },
     "output_type": "display_data"
    }
   ],
   "source": [
    "fig, ax = plt.subplots(1, 1, figsize = (12, 6))\n",
    "\n",
    "ax1 = new_train.groupby('genre_count')['rating'].count().plot(kind='bar', title='Number of genres', color = '#31384D')\n",
    "\n",
    "fig.tight_layout()"
   ]
  },
  {
   "cell_type": "code",
   "execution_count": 120,
   "id": "6dbabd68",
   "metadata": {},
   "outputs": [
    {
     "name": "stdout",
     "output_type": "stream",
     "text": [
      "Index(['Shawshank Redemption, The (1994)', 'Forrest Gump (1994)',\n",
      "       'Pulp Fiction (1994)', 'Silence of the Lambs, The (1991)',\n",
      "       'Matrix, The (1999)', 'Star Wars: Episode IV - A New Hope (1977)',\n",
      "       'Jurassic Park (1993)', 'Schindler's List (1993)', 'Braveheart (1995)',\n",
      "       'Fight Club (1999)',\n",
      "       ...\n",
      "       'Star Wars: Episode VII - The Force Awakens (2015)',\n",
      "       'My Big Fat Greek Wedding (2002)', 'You've Got Mail (1998)',\n",
      "       'Magnolia (1999)', 'Bridge on the River Kwai, The (1957)',\n",
      "       'Spaceballs (1987)', 'Ex Machina (2015)', 'Pinocchio (1940)',\n",
      "       'Chronicles of Narnia: The Lion, the Witch and the Wardrobe, The (2005)',\n",
      "       'Chocolat (2000)'],\n",
      "      dtype='object', length=424)\n"
     ]
    }
   ],
   "source": [
    "# Create a list of only the frequently watched movies\n",
    "movie_popularity = new_train[\"title\"].value_counts()\n",
    "popular_movies = movie_popularity[movie_popularity > 5000].index\n",
    "\n",
    "print(popular_movies)"
   ]
  },
  {
   "cell_type": "code",
   "execution_count": 121,
   "id": "9e948281",
   "metadata": {},
   "outputs": [],
   "source": [
    "new_train = new_train[new_train['title'].isin(popular_movies)]"
   ]
  },
  {
   "cell_type": "code",
   "execution_count": 47,
   "id": "c5873802",
   "metadata": {},
   "outputs": [
    {
     "data": {
      "text/plain": [
       "(7805929, 9)"
      ]
     },
     "execution_count": 47,
     "metadata": {},
     "output_type": "execute_result"
    }
   ],
   "source": [
    "new_train.shape"
   ]
  },
  {
   "cell_type": "code",
   "execution_count": 48,
   "id": "be3911d8",
   "metadata": {},
   "outputs": [
    {
     "data": {
      "text/html": [
       "<div>\n",
       "<style scoped>\n",
       "    .dataframe tbody tr th:only-of-type {\n",
       "        vertical-align: middle;\n",
       "    }\n",
       "\n",
       "    .dataframe tbody tr th {\n",
       "        vertical-align: top;\n",
       "    }\n",
       "\n",
       "    .dataframe thead th {\n",
       "        text-align: right;\n",
       "    }\n",
       "</style>\n",
       "<table border=\"1\" class=\"dataframe\">\n",
       "  <thead>\n",
       "    <tr style=\"text-align: right;\">\n",
       "      <th>userId</th>\n",
       "      <th>1</th>\n",
       "      <th>2</th>\n",
       "      <th>3</th>\n",
       "      <th>4</th>\n",
       "      <th>5</th>\n",
       "      <th>6</th>\n",
       "      <th>7</th>\n",
       "      <th>8</th>\n",
       "      <th>9</th>\n",
       "      <th>10</th>\n",
       "      <th>...</th>\n",
       "      <th>162532</th>\n",
       "      <th>162533</th>\n",
       "      <th>162534</th>\n",
       "      <th>162535</th>\n",
       "      <th>162536</th>\n",
       "      <th>162537</th>\n",
       "      <th>162538</th>\n",
       "      <th>162539</th>\n",
       "      <th>162540</th>\n",
       "      <th>162541</th>\n",
       "    </tr>\n",
       "    <tr>\n",
       "      <th>title</th>\n",
       "      <th></th>\n",
       "      <th></th>\n",
       "      <th></th>\n",
       "      <th></th>\n",
       "      <th></th>\n",
       "      <th></th>\n",
       "      <th></th>\n",
       "      <th></th>\n",
       "      <th></th>\n",
       "      <th></th>\n",
       "      <th></th>\n",
       "      <th></th>\n",
       "      <th></th>\n",
       "      <th></th>\n",
       "      <th></th>\n",
       "      <th></th>\n",
       "      <th></th>\n",
       "      <th></th>\n",
       "      <th></th>\n",
       "      <th></th>\n",
       "      <th></th>\n",
       "    </tr>\n",
       "  </thead>\n",
       "  <tbody>\n",
       "    <tr>\n",
       "      <th>'burbs, The (1989)</th>\n",
       "      <td>0.0</td>\n",
       "      <td>0.0</td>\n",
       "      <td>0.0</td>\n",
       "      <td>0.0</td>\n",
       "      <td>0.0</td>\n",
       "      <td>0.0</td>\n",
       "      <td>0.0</td>\n",
       "      <td>0.0</td>\n",
       "      <td>0.0</td>\n",
       "      <td>0.0</td>\n",
       "      <td>...</td>\n",
       "      <td>0.0</td>\n",
       "      <td>0.0</td>\n",
       "      <td>0.0</td>\n",
       "      <td>0.0</td>\n",
       "      <td>0.0</td>\n",
       "      <td>0.0</td>\n",
       "      <td>0.0</td>\n",
       "      <td>0.0</td>\n",
       "      <td>0.0</td>\n",
       "      <td>0.0</td>\n",
       "    </tr>\n",
       "    <tr>\n",
       "      <th>(500) Days of Summer (2009)</th>\n",
       "      <td>0.0</td>\n",
       "      <td>0.0</td>\n",
       "      <td>0.0</td>\n",
       "      <td>0.0</td>\n",
       "      <td>0.0</td>\n",
       "      <td>0.0</td>\n",
       "      <td>0.0</td>\n",
       "      <td>0.0</td>\n",
       "      <td>0.0</td>\n",
       "      <td>0.0</td>\n",
       "      <td>...</td>\n",
       "      <td>0.0</td>\n",
       "      <td>0.0</td>\n",
       "      <td>0.0</td>\n",
       "      <td>0.0</td>\n",
       "      <td>0.0</td>\n",
       "      <td>0.0</td>\n",
       "      <td>4.5</td>\n",
       "      <td>0.0</td>\n",
       "      <td>0.0</td>\n",
       "      <td>0.0</td>\n",
       "    </tr>\n",
       "    <tr>\n",
       "      <th>10 Cloverfield Lane (2016)</th>\n",
       "      <td>0.0</td>\n",
       "      <td>0.0</td>\n",
       "      <td>0.0</td>\n",
       "      <td>0.0</td>\n",
       "      <td>0.0</td>\n",
       "      <td>0.0</td>\n",
       "      <td>0.0</td>\n",
       "      <td>0.0</td>\n",
       "      <td>0.0</td>\n",
       "      <td>0.0</td>\n",
       "      <td>...</td>\n",
       "      <td>0.0</td>\n",
       "      <td>0.0</td>\n",
       "      <td>0.0</td>\n",
       "      <td>0.0</td>\n",
       "      <td>0.0</td>\n",
       "      <td>0.0</td>\n",
       "      <td>0.0</td>\n",
       "      <td>0.0</td>\n",
       "      <td>0.0</td>\n",
       "      <td>0.0</td>\n",
       "    </tr>\n",
       "    <tr>\n",
       "      <th>10 Things I Hate About You (1999)</th>\n",
       "      <td>0.0</td>\n",
       "      <td>0.0</td>\n",
       "      <td>0.0</td>\n",
       "      <td>0.0</td>\n",
       "      <td>0.0</td>\n",
       "      <td>0.0</td>\n",
       "      <td>0.0</td>\n",
       "      <td>0.0</td>\n",
       "      <td>0.0</td>\n",
       "      <td>0.0</td>\n",
       "      <td>...</td>\n",
       "      <td>0.0</td>\n",
       "      <td>2.5</td>\n",
       "      <td>0.0</td>\n",
       "      <td>0.0</td>\n",
       "      <td>0.0</td>\n",
       "      <td>0.0</td>\n",
       "      <td>4.5</td>\n",
       "      <td>0.0</td>\n",
       "      <td>0.0</td>\n",
       "      <td>0.0</td>\n",
       "    </tr>\n",
       "    <tr>\n",
       "      <th>101 Dalmatians (1996)</th>\n",
       "      <td>0.0</td>\n",
       "      <td>0.0</td>\n",
       "      <td>0.0</td>\n",
       "      <td>0.0</td>\n",
       "      <td>0.0</td>\n",
       "      <td>0.0</td>\n",
       "      <td>0.0</td>\n",
       "      <td>0.0</td>\n",
       "      <td>5.0</td>\n",
       "      <td>0.0</td>\n",
       "      <td>...</td>\n",
       "      <td>0.0</td>\n",
       "      <td>0.0</td>\n",
       "      <td>0.0</td>\n",
       "      <td>0.0</td>\n",
       "      <td>0.0</td>\n",
       "      <td>0.0</td>\n",
       "      <td>0.0</td>\n",
       "      <td>0.0</td>\n",
       "      <td>0.0</td>\n",
       "      <td>3.0</td>\n",
       "    </tr>\n",
       "  </tbody>\n",
       "</table>\n",
       "<p>5 rows × 162516 columns</p>\n",
       "</div>"
      ],
      "text/plain": [
       "userId                             1       2       3       4       5       \\\n",
       "title                                                                       \n",
       "'burbs, The (1989)                    0.0     0.0     0.0     0.0     0.0   \n",
       "(500) Days of Summer (2009)           0.0     0.0     0.0     0.0     0.0   \n",
       "10 Cloverfield Lane (2016)            0.0     0.0     0.0     0.0     0.0   \n",
       "10 Things I Hate About You (1999)     0.0     0.0     0.0     0.0     0.0   \n",
       "101 Dalmatians (1996)                 0.0     0.0     0.0     0.0     0.0   \n",
       "\n",
       "userId                             6       7       8       9       10      \\\n",
       "title                                                                       \n",
       "'burbs, The (1989)                    0.0     0.0     0.0     0.0     0.0   \n",
       "(500) Days of Summer (2009)           0.0     0.0     0.0     0.0     0.0   \n",
       "10 Cloverfield Lane (2016)            0.0     0.0     0.0     0.0     0.0   \n",
       "10 Things I Hate About You (1999)     0.0     0.0     0.0     0.0     0.0   \n",
       "101 Dalmatians (1996)                 0.0     0.0     0.0     5.0     0.0   \n",
       "\n",
       "userId                             ...  162532  162533  162534  162535  \\\n",
       "title                              ...                                   \n",
       "'burbs, The (1989)                 ...     0.0     0.0     0.0     0.0   \n",
       "(500) Days of Summer (2009)        ...     0.0     0.0     0.0     0.0   \n",
       "10 Cloverfield Lane (2016)         ...     0.0     0.0     0.0     0.0   \n",
       "10 Things I Hate About You (1999)  ...     0.0     2.5     0.0     0.0   \n",
       "101 Dalmatians (1996)              ...     0.0     0.0     0.0     0.0   \n",
       "\n",
       "userId                             162536  162537  162538  162539  162540  \\\n",
       "title                                                                       \n",
       "'burbs, The (1989)                    0.0     0.0     0.0     0.0     0.0   \n",
       "(500) Days of Summer (2009)           0.0     0.0     4.5     0.0     0.0   \n",
       "10 Cloverfield Lane (2016)            0.0     0.0     0.0     0.0     0.0   \n",
       "10 Things I Hate About You (1999)     0.0     0.0     4.5     0.0     0.0   \n",
       "101 Dalmatians (1996)                 0.0     0.0     0.0     0.0     0.0   \n",
       "\n",
       "userId                             162541  \n",
       "title                                      \n",
       "'burbs, The (1989)                    0.0  \n",
       "(500) Days of Summer (2009)           0.0  \n",
       "10 Cloverfield Lane (2016)            0.0  \n",
       "10 Things I Hate About You (1999)     0.0  \n",
       "101 Dalmatians (1996)                 3.0  \n",
       "\n",
       "[5 rows x 162516 columns]"
      ]
     },
     "execution_count": 48,
     "metadata": {},
     "output_type": "execute_result"
    }
   ],
   "source": [
    "import os\n",
    "movie_features_df= new_train.pivot_table(index='title',columns='userId',values='rating').fillna(0)\n",
    "movie_features_df.head()\n"
   ]
  },
  {
   "cell_type": "code",
   "execution_count": null,
   "id": "c4deeaee",
   "metadata": {},
   "outputs": [],
   "source": []
  },
  {
   "cell_type": "code",
   "execution_count": null,
   "id": "af49b385",
   "metadata": {},
   "outputs": [],
   "source": []
  },
  {
   "cell_type": "code",
   "execution_count": 13,
   "id": "ac3c674a-c608-4bfe-b683-fd09b1fde22a",
   "metadata": {
    "colab": {},
    "colab_type": "code",
    "id": "whaHVhWzWPyD"
   },
   "outputs": [],
   "source": [
    "# # Load the 100k dataset\n",
    "# train_subset = train[:100000]\n",
    "# reader = Reader(rating_scale=(train_subset['rating'].min(), train_subset['rating'].max()))\n",
    "# data = Dataset.load_from_df(train_subset[['userId', 'movieId', 'rating']], reader)\n",
    "# trainset, testset = train_test_split(data, test_size=.25, random_state=42)"
   ]
  },
  {
   "cell_type": "markdown",
   "id": "140f766a",
   "metadata": {},
   "source": [
    "# Modelling"
   ]
  },
  {
   "cell_type": "markdown",
   "id": "3d65b3da",
   "metadata": {},
   "source": [
    "Content Based"
   ]
  },
  {
   "cell_type": "code",
   "execution_count": 49,
   "id": "a7737bb1",
   "metadata": {},
   "outputs": [],
   "source": [
    "from scipy.sparse import csr_matrix\n",
    "movie_features_df_matrix = csr_matrix(movie_features_df.values)"
   ]
  },
  {
   "cell_type": "code",
   "execution_count": 50,
   "id": "75fdd8bc",
   "metadata": {},
   "outputs": [
    {
     "data": {
      "text/plain": [
       "NearestNeighbors(algorithm='brute', metric='cosine')"
      ]
     },
     "execution_count": 50,
     "metadata": {},
     "output_type": "execute_result"
    }
   ],
   "source": [
    "from sklearn.neighbors import NearestNeighbors\n",
    "\n",
    "\n",
    "model_knn = NearestNeighbors(metric = 'cosine', algorithm = 'brute')\n",
    "model_knn.fit(movie_features_df_matrix)"
   ]
  },
  {
   "cell_type": "code",
   "execution_count": 51,
   "id": "3bafde05",
   "metadata": {},
   "outputs": [
    {
     "data": {
      "text/plain": [
       "(2118, 162516)"
      ]
     },
     "execution_count": 51,
     "metadata": {},
     "output_type": "execute_result"
    }
   ],
   "source": [
    "movie_features_df.shape"
   ]
  },
  {
   "cell_type": "code",
   "execution_count": 57,
   "id": "bf44d24d",
   "metadata": {},
   "outputs": [
    {
     "name": "stdout",
     "output_type": "stream",
     "text": [
      "1746\n"
     ]
    }
   ],
   "source": [
    "query_index = np.random.choice(movie_features_df.shape[0])\n",
    "print(query_index)\n",
    "# query_index =5"
   ]
  },
  {
   "cell_type": "code",
   "execution_count": 59,
   "id": "ffa5a7c2",
   "metadata": {},
   "outputs": [],
   "source": [
    "distances, indices = model_knn.kneighbors(movie_features_df.iloc[query_index,:].values.reshape(1, -1), n_neighbors = 8)"
   ]
  },
  {
   "cell_type": "code",
   "execution_count": 60,
   "id": "22d2b517",
   "metadata": {},
   "outputs": [
    {
     "data": {
      "text/html": [
       "<div>\n",
       "<style scoped>\n",
       "    .dataframe tbody tr th:only-of-type {\n",
       "        vertical-align: middle;\n",
       "    }\n",
       "\n",
       "    .dataframe tbody tr th {\n",
       "        vertical-align: top;\n",
       "    }\n",
       "\n",
       "    .dataframe thead th {\n",
       "        text-align: right;\n",
       "    }\n",
       "</style>\n",
       "<table border=\"1\" class=\"dataframe\">\n",
       "  <thead>\n",
       "    <tr style=\"text-align: right;\">\n",
       "      <th>userId</th>\n",
       "      <th>1</th>\n",
       "      <th>2</th>\n",
       "      <th>3</th>\n",
       "      <th>4</th>\n",
       "      <th>5</th>\n",
       "      <th>6</th>\n",
       "      <th>7</th>\n",
       "      <th>8</th>\n",
       "      <th>9</th>\n",
       "      <th>10</th>\n",
       "      <th>...</th>\n",
       "      <th>162532</th>\n",
       "      <th>162533</th>\n",
       "      <th>162534</th>\n",
       "      <th>162535</th>\n",
       "      <th>162536</th>\n",
       "      <th>162537</th>\n",
       "      <th>162538</th>\n",
       "      <th>162539</th>\n",
       "      <th>162540</th>\n",
       "      <th>162541</th>\n",
       "    </tr>\n",
       "    <tr>\n",
       "      <th>title</th>\n",
       "      <th></th>\n",
       "      <th></th>\n",
       "      <th></th>\n",
       "      <th></th>\n",
       "      <th></th>\n",
       "      <th></th>\n",
       "      <th></th>\n",
       "      <th></th>\n",
       "      <th></th>\n",
       "      <th></th>\n",
       "      <th></th>\n",
       "      <th></th>\n",
       "      <th></th>\n",
       "      <th></th>\n",
       "      <th></th>\n",
       "      <th></th>\n",
       "      <th></th>\n",
       "      <th></th>\n",
       "      <th></th>\n",
       "      <th></th>\n",
       "      <th></th>\n",
       "    </tr>\n",
       "  </thead>\n",
       "  <tbody>\n",
       "    <tr>\n",
       "      <th>'burbs, The (1989)</th>\n",
       "      <td>0.0</td>\n",
       "      <td>0.0</td>\n",
       "      <td>0.0</td>\n",
       "      <td>0.0</td>\n",
       "      <td>0.0</td>\n",
       "      <td>0.0</td>\n",
       "      <td>0.0</td>\n",
       "      <td>0.0</td>\n",
       "      <td>0.0</td>\n",
       "      <td>0.0</td>\n",
       "      <td>...</td>\n",
       "      <td>0.0</td>\n",
       "      <td>0.0</td>\n",
       "      <td>0.0</td>\n",
       "      <td>0.0</td>\n",
       "      <td>0.0</td>\n",
       "      <td>0.0</td>\n",
       "      <td>0.0</td>\n",
       "      <td>0.0</td>\n",
       "      <td>0.0</td>\n",
       "      <td>0.0</td>\n",
       "    </tr>\n",
       "    <tr>\n",
       "      <th>(500) Days of Summer (2009)</th>\n",
       "      <td>0.0</td>\n",
       "      <td>0.0</td>\n",
       "      <td>0.0</td>\n",
       "      <td>0.0</td>\n",
       "      <td>0.0</td>\n",
       "      <td>0.0</td>\n",
       "      <td>0.0</td>\n",
       "      <td>0.0</td>\n",
       "      <td>0.0</td>\n",
       "      <td>0.0</td>\n",
       "      <td>...</td>\n",
       "      <td>0.0</td>\n",
       "      <td>0.0</td>\n",
       "      <td>0.0</td>\n",
       "      <td>0.0</td>\n",
       "      <td>0.0</td>\n",
       "      <td>0.0</td>\n",
       "      <td>4.5</td>\n",
       "      <td>0.0</td>\n",
       "      <td>0.0</td>\n",
       "      <td>0.0</td>\n",
       "    </tr>\n",
       "    <tr>\n",
       "      <th>10 Cloverfield Lane (2016)</th>\n",
       "      <td>0.0</td>\n",
       "      <td>0.0</td>\n",
       "      <td>0.0</td>\n",
       "      <td>0.0</td>\n",
       "      <td>0.0</td>\n",
       "      <td>0.0</td>\n",
       "      <td>0.0</td>\n",
       "      <td>0.0</td>\n",
       "      <td>0.0</td>\n",
       "      <td>0.0</td>\n",
       "      <td>...</td>\n",
       "      <td>0.0</td>\n",
       "      <td>0.0</td>\n",
       "      <td>0.0</td>\n",
       "      <td>0.0</td>\n",
       "      <td>0.0</td>\n",
       "      <td>0.0</td>\n",
       "      <td>0.0</td>\n",
       "      <td>0.0</td>\n",
       "      <td>0.0</td>\n",
       "      <td>0.0</td>\n",
       "    </tr>\n",
       "    <tr>\n",
       "      <th>10 Things I Hate About You (1999)</th>\n",
       "      <td>0.0</td>\n",
       "      <td>0.0</td>\n",
       "      <td>0.0</td>\n",
       "      <td>0.0</td>\n",
       "      <td>0.0</td>\n",
       "      <td>0.0</td>\n",
       "      <td>0.0</td>\n",
       "      <td>0.0</td>\n",
       "      <td>0.0</td>\n",
       "      <td>0.0</td>\n",
       "      <td>...</td>\n",
       "      <td>0.0</td>\n",
       "      <td>2.5</td>\n",
       "      <td>0.0</td>\n",
       "      <td>0.0</td>\n",
       "      <td>0.0</td>\n",
       "      <td>0.0</td>\n",
       "      <td>4.5</td>\n",
       "      <td>0.0</td>\n",
       "      <td>0.0</td>\n",
       "      <td>0.0</td>\n",
       "    </tr>\n",
       "    <tr>\n",
       "      <th>101 Dalmatians (1996)</th>\n",
       "      <td>0.0</td>\n",
       "      <td>0.0</td>\n",
       "      <td>0.0</td>\n",
       "      <td>0.0</td>\n",
       "      <td>0.0</td>\n",
       "      <td>0.0</td>\n",
       "      <td>0.0</td>\n",
       "      <td>0.0</td>\n",
       "      <td>5.0</td>\n",
       "      <td>0.0</td>\n",
       "      <td>...</td>\n",
       "      <td>0.0</td>\n",
       "      <td>0.0</td>\n",
       "      <td>0.0</td>\n",
       "      <td>0.0</td>\n",
       "      <td>0.0</td>\n",
       "      <td>0.0</td>\n",
       "      <td>0.0</td>\n",
       "      <td>0.0</td>\n",
       "      <td>0.0</td>\n",
       "      <td>3.0</td>\n",
       "    </tr>\n",
       "  </tbody>\n",
       "</table>\n",
       "<p>5 rows × 162516 columns</p>\n",
       "</div>"
      ],
      "text/plain": [
       "userId                             1       2       3       4       5       \\\n",
       "title                                                                       \n",
       "'burbs, The (1989)                    0.0     0.0     0.0     0.0     0.0   \n",
       "(500) Days of Summer (2009)           0.0     0.0     0.0     0.0     0.0   \n",
       "10 Cloverfield Lane (2016)            0.0     0.0     0.0     0.0     0.0   \n",
       "10 Things I Hate About You (1999)     0.0     0.0     0.0     0.0     0.0   \n",
       "101 Dalmatians (1996)                 0.0     0.0     0.0     0.0     0.0   \n",
       "\n",
       "userId                             6       7       8       9       10      \\\n",
       "title                                                                       \n",
       "'burbs, The (1989)                    0.0     0.0     0.0     0.0     0.0   \n",
       "(500) Days of Summer (2009)           0.0     0.0     0.0     0.0     0.0   \n",
       "10 Cloverfield Lane (2016)            0.0     0.0     0.0     0.0     0.0   \n",
       "10 Things I Hate About You (1999)     0.0     0.0     0.0     0.0     0.0   \n",
       "101 Dalmatians (1996)                 0.0     0.0     0.0     5.0     0.0   \n",
       "\n",
       "userId                             ...  162532  162533  162534  162535  \\\n",
       "title                              ...                                   \n",
       "'burbs, The (1989)                 ...     0.0     0.0     0.0     0.0   \n",
       "(500) Days of Summer (2009)        ...     0.0     0.0     0.0     0.0   \n",
       "10 Cloverfield Lane (2016)         ...     0.0     0.0     0.0     0.0   \n",
       "10 Things I Hate About You (1999)  ...     0.0     2.5     0.0     0.0   \n",
       "101 Dalmatians (1996)              ...     0.0     0.0     0.0     0.0   \n",
       "\n",
       "userId                             162536  162537  162538  162539  162540  \\\n",
       "title                                                                       \n",
       "'burbs, The (1989)                    0.0     0.0     0.0     0.0     0.0   \n",
       "(500) Days of Summer (2009)           0.0     0.0     4.5     0.0     0.0   \n",
       "10 Cloverfield Lane (2016)            0.0     0.0     0.0     0.0     0.0   \n",
       "10 Things I Hate About You (1999)     0.0     0.0     4.5     0.0     0.0   \n",
       "101 Dalmatians (1996)                 0.0     0.0     0.0     0.0     0.0   \n",
       "\n",
       "userId                             162541  \n",
       "title                                      \n",
       "'burbs, The (1989)                    0.0  \n",
       "(500) Days of Summer (2009)           0.0  \n",
       "10 Cloverfield Lane (2016)            0.0  \n",
       "10 Things I Hate About You (1999)     0.0  \n",
       "101 Dalmatians (1996)                 3.0  \n",
       "\n",
       "[5 rows x 162516 columns]"
      ]
     },
     "execution_count": 60,
     "metadata": {},
     "output_type": "execute_result"
    }
   ],
   "source": [
    "movie_features_df.head()"
   ]
  },
  {
   "cell_type": "code",
   "execution_count": 61,
   "id": "42a25264",
   "metadata": {},
   "outputs": [
    {
     "name": "stdout",
     "output_type": "stream",
     "text": [
      "Recommendations for Spanish Prisoner, The (1997):\n",
      "\n",
      "1: Simple Plan, A (1998), with distance of 0.8581426687665761:\n",
      "2: Player, The (1992), with distance of 0.8609448678077176:\n",
      "3: Sweet Hereafter, The (1997), with distance of 0.8618938349419247:\n",
      "4: Big Night (1996), with distance of 0.8726348589345555:\n",
      "5: Ice Storm, The (1997), with distance of 0.875694565938467:\n",
      "6: Grifters, The (1990), with distance of 0.8762566425107067:\n",
      "7: L.A. Confidential (1997), with distance of 0.87756582446565:\n"
     ]
    }
   ],
   "source": [
    "for i in range(0, len(distances.flatten())):\n",
    "    if i == 0:\n",
    "        print('Recommendations for {0}:\\n'.format(movie_features_df.index[query_index]))\n",
    "    else:\n",
    "        print('{0}: {1}, with distance of {2}:'.format(i, movie_features_df.index[indices.flatten()[i]], distances.flatten()[i]))"
   ]
  },
  {
   "cell_type": "code",
   "execution_count": null,
   "id": "eaf7ada2",
   "metadata": {},
   "outputs": [],
   "source": []
  },
  {
   "cell_type": "code",
   "execution_count": null,
   "id": "b86af55e",
   "metadata": {},
   "outputs": [],
   "source": []
  },
  {
   "cell_type": "code",
   "execution_count": null,
   "id": "fdab63e7",
   "metadata": {},
   "outputs": [],
   "source": []
  },
  {
   "cell_type": "code",
   "execution_count": null,
   "id": "0b4878a5",
   "metadata": {},
   "outputs": [],
   "source": []
  },
  {
   "cell_type": "markdown",
   "id": "e6cfab8a-2f98-40c2-8d5b-cc9eaebf60c6",
   "metadata": {
    "colab_type": "text",
    "id": "zbe96XXoWPyF",
    "tags": []
   },
   "source": [
    "### Collaborative Filtering\n",
    "\n",
    "Collaborative filtering is a technique that can filter out items that a user might like on the basis of reactions by similar users. It works by searching a large group of people and finding a smaller set of users with tastes similar to a particular user [[5]](#ref5).\n",
    "\n",
    "#### SVD\n",
    "\n",
    "The Singular Value Decomposition algorithm is a matrix factorization technique which reduces the number of features of a dataset and was popularized by Simon Funk during the [Neflix Prize](https://en.wikipedia.org/wiki/Netflix_Prize) contest [[6]](#ref6). In the matrix structure, each row represents a user and each column represents a movie. The matrix elements are ratings that are given to movies by users."
   ]
  },
  {
   "cell_type": "code",
   "execution_count": null,
   "id": "122c05e0",
   "metadata": {},
   "outputs": [],
   "source": []
  },
  {
   "cell_type": "code",
   "execution_count": 62,
   "id": "51ddaa4d",
   "metadata": {},
   "outputs": [],
   "source": [
    "reader = Reader(rating_scale=(new_train['rating'].min(), new_train['rating'].max()))"
   ]
  },
  {
   "cell_type": "code",
   "execution_count": 63,
   "id": "8e1ac1bd",
   "metadata": {},
   "outputs": [],
   "source": [
    "data = Dataset.load_from_df(new_train[['userId', 'movieId', 'rating']].head(2000000), reader)"
   ]
  },
  {
   "cell_type": "code",
   "execution_count": 64,
   "id": "5f2c4cea",
   "metadata": {},
   "outputs": [],
   "source": [
    "trainset, testset = train_test_split(data, test_size=.25, random_state=42)"
   ]
  },
  {
   "cell_type": "code",
   "execution_count": 149,
   "id": "6b39fd14",
   "metadata": {},
   "outputs": [],
   "source": [
    "# #Implement an algorithm\n",
    "# algo = [SVD(), SVDpp(), SlopeOne(), NMF(), NormalPredictor(), KNNBaseline(), \n",
    "#                   KNNBasic(), KNNWithMeans(), KNNWithZScore(), BaselineOnly(), CoClustering()]\n",
    "\n",
    "# #Read 10000 dataset\n",
    "# # data2 = Dataset.load_from_df(train[['userId', 'movieId', 'rating']].head(10000), Reader())\n",
    "\n",
    "# #Implementing algorithm for RMSE\n",
    "# algo_rmse=[]\n",
    "# for a in algo:\n",
    "    \n",
    "#     cross_valid=cross_validate(a, data, measures=['RMSE'], cv = 3)\n",
    "#     output=pd.DataFrame.from_dict(cross_valid).mean(axis=0)\n",
    "#     output=output.append(pd.Series([str(a).split(' ')[0].split('.')[-1]], index=['Algorithm']))\n",
    "#     algo_rmse.append(output)\n",
    "\n",
    "# algo_rmse\n",
    "# surprise_results = pd.DataFrame(algo_rmse).set_index('Algorithm').sort_values('test_rmse')\n",
    "# surprise_results"
   ]
  },
  {
   "cell_type": "code",
   "execution_count": null,
   "id": "d91d2c45",
   "metadata": {},
   "outputs": [],
   "source": []
  },
  {
   "cell_type": "code",
   "execution_count": null,
   "id": "a64d7368",
   "metadata": {},
   "outputs": [],
   "source": []
  },
  {
   "cell_type": "code",
   "execution_count": null,
   "id": "7f018b3c",
   "metadata": {},
   "outputs": [],
   "source": []
  },
  {
   "cell_type": "code",
   "execution_count": null,
   "id": "ad909084",
   "metadata": {},
   "outputs": [],
   "source": []
  },
  {
   "cell_type": "code",
   "execution_count": null,
   "id": "8b8b18a2",
   "metadata": {},
   "outputs": [],
   "source": []
  },
  {
   "cell_type": "code",
   "execution_count": 65,
   "id": "7c33d065-133e-4ef7-a17d-3741610f564c",
   "metadata": {
    "colab": {},
    "colab_type": "code",
    "id": "NFKprc2IWPyG",
    "outputId": "3b7844eb-f2aa-45be-cfbf-c5319bbb10ed"
   },
   "outputs": [
    {
     "name": "stdout",
     "output_type": "stream",
     "text": [
      "RMSE: 0.8640\n"
     ]
    }
   ],
   "source": [
    "svd_test = SVD(n_epochs = 30, n_factors = 2000, init_std_dev = 0.05, random_state=42, verbose=True)\n",
    "svd_test.fit(trainset)\n",
    "predictions = svd_test.test(testset)\n",
    "# Calculate RMSE\n",
    "svd_rmse = accuracy.rmse(predictions)"
   ]
  },
  {
   "cell_type": "markdown",
   "id": "47ebfcb4-af04-470d-8440-bf02b2ddec90",
   "metadata": {
    "colab_type": "text",
    "id": "3_x-FhLNWPyI"
   },
   "source": [
    "#### NormalPredictor  \n",
    "The Normal Predictor algorithm predicts a random rating for each movie based on the distribution of the training set, which is assumed to be normal."
   ]
  },
  {
   "cell_type": "code",
   "execution_count": 66,
   "id": "b1182394-e2b9-4e01-9027-5e3caecc01e7",
   "metadata": {
    "colab": {},
    "colab_type": "code",
    "id": "pG2PARN5WPyI",
    "outputId": "12e482e2-4a8c-4360-d661-0c98532f1b23"
   },
   "outputs": [
    {
     "name": "stdout",
     "output_type": "stream",
     "text": [
      "RMSE: 1.3893\n"
     ]
    }
   ],
   "source": [
    "np_test = NormalPredictor()\n",
    "np_test.fit(trainset)\n",
    "predictions = np_test.test(testset)\n",
    "# Calculate RMSE\n",
    "np_rmse = accuracy.rmse(predictions)"
   ]
  },
  {
   "cell_type": "markdown",
   "id": "4cc1606b-3fb0-43ab-b096-639289b2ad23",
   "metadata": {
    "colab_type": "text",
    "id": "ONPKskgFWPyK"
   },
   "source": [
    "#### BaselineOnly  \n",
    "The Baseline Only algorithm predicts the baseline estimate for a given user and movie. A baseline is calculated using either Stochastic Gradient Descent (SGD) or Alternating Least Squares (ALS)."
   ]
  },
  {
   "cell_type": "code",
   "execution_count": 67,
   "id": "325885fd-c9e7-457a-a08c-fe16c3545430",
   "metadata": {
    "colab": {},
    "colab_type": "code",
    "id": "B__DCfvfWPyK",
    "outputId": "96162adb-d01a-47b1-8fe2-5f4fb0e89aea"
   },
   "outputs": [
    {
     "name": "stdout",
     "output_type": "stream",
     "text": [
      "Estimating biases using sgd...\n",
      "RMSE: 0.8791\n"
     ]
    }
   ],
   "source": [
    "bsl_options = {'method': 'sgd','n_epochs': 30}\n",
    "blo_test = BaselineOnly(bsl_options=bsl_options, verbose=True)\n",
    "blo_test.fit(trainset)\n",
    "predictions = blo_test.test(testset)\n",
    "# Calculate RMSE\n",
    "blo_rmse = accuracy.rmse(predictions)"
   ]
  },
  {
   "cell_type": "markdown",
   "id": "a320d35a-be18-4891-b1fe-4dd853b9bb81",
   "metadata": {
    "colab_type": "text",
    "id": "T0hdUFg0WPyL"
   },
   "source": [
    "#### NMF  \n",
    "NMF is a collaborative filtering algorithm based on Non-negative Matrix Factorization. The optimization procedure is a (regularized) stochastic gradient descent with a specific choice of step size that ensures non-negativity of factors, provided that their initial values are also positive."
   ]
  },
  {
   "cell_type": "code",
   "execution_count": 68,
   "id": "bcc8aa7e-2b6c-46b3-b646-088ca2fbb4c3",
   "metadata": {
    "colab": {},
    "colab_type": "code",
    "id": "21IiVZyOWPyM",
    "outputId": "d157eef4-3a6c-4691-82c6-e77a6051460a",
    "scrolled": true
   },
   "outputs": [
    {
     "name": "stdout",
     "output_type": "stream",
     "text": [
      "Processing epoch 0\n",
      "Processing epoch 1\n",
      "Processing epoch 2\n",
      "Processing epoch 3\n",
      "Processing epoch 4\n",
      "Processing epoch 5\n",
      "Processing epoch 6\n",
      "Processing epoch 7\n",
      "Processing epoch 8\n",
      "Processing epoch 9\n",
      "Processing epoch 10\n",
      "Processing epoch 11\n",
      "Processing epoch 12\n",
      "Processing epoch 13\n",
      "Processing epoch 14\n",
      "Processing epoch 15\n",
      "Processing epoch 16\n",
      "Processing epoch 17\n",
      "Processing epoch 18\n",
      "Processing epoch 19\n",
      "Processing epoch 20\n",
      "Processing epoch 21\n",
      "Processing epoch 22\n",
      "Processing epoch 23\n",
      "Processing epoch 24\n",
      "Processing epoch 25\n",
      "Processing epoch 26\n",
      "Processing epoch 27\n",
      "Processing epoch 28\n",
      "Processing epoch 29\n",
      "Processing epoch 30\n",
      "Processing epoch 31\n",
      "Processing epoch 32\n",
      "Processing epoch 33\n",
      "Processing epoch 34\n",
      "Processing epoch 35\n",
      "Processing epoch 36\n",
      "Processing epoch 37\n",
      "Processing epoch 38\n",
      "Processing epoch 39\n",
      "Processing epoch 40\n",
      "Processing epoch 41\n",
      "Processing epoch 42\n",
      "Processing epoch 43\n",
      "Processing epoch 44\n",
      "Processing epoch 45\n",
      "Processing epoch 46\n",
      "Processing epoch 47\n",
      "Processing epoch 48\n",
      "Processing epoch 49\n",
      "RMSE: 0.9483\n"
     ]
    }
   ],
   "source": [
    "nmf_test = NMF(verbose=True)\n",
    "nmf_test.fit(trainset)\n",
    "predictions = nmf_test.test(testset)\n",
    "# Calculate RMSE\n",
    "nmf_rmse = accuracy.rmse(predictions)"
   ]
  },
  {
   "cell_type": "code",
   "execution_count": 69,
   "id": "b25635d5",
   "metadata": {},
   "outputs": [
    {
     "name": "stdout",
     "output_type": "stream",
     "text": [
      "Computing the msd similarity matrix...\n"
     ]
    },
    {
     "ename": "MemoryError",
     "evalue": "Unable to allocate 180. GiB for an array with shape (155555, 155555) and data type float64",
     "output_type": "error",
     "traceback": [
      "\u001b[1;31m---------------------------------------------------------------------------\u001b[0m",
      "\u001b[1;31mMemoryError\u001b[0m                               Traceback (most recent call last)",
      "\u001b[1;32m~\\AppData\\Local\\Temp/ipykernel_4600/2221212989.py\u001b[0m in \u001b[0;36m<module>\u001b[1;34m\u001b[0m\n\u001b[0;32m      1\u001b[0m \u001b[0mknn_basic\u001b[0m \u001b[1;33m=\u001b[0m \u001b[0mKNNBasic\u001b[0m\u001b[1;33m(\u001b[0m\u001b[0mverbose\u001b[0m\u001b[1;33m=\u001b[0m\u001b[1;32mTrue\u001b[0m\u001b[1;33m)\u001b[0m\u001b[1;33m\u001b[0m\u001b[1;33m\u001b[0m\u001b[0m\n\u001b[1;32m----> 2\u001b[1;33m \u001b[0mknn_basic\u001b[0m\u001b[1;33m.\u001b[0m\u001b[0mfit\u001b[0m\u001b[1;33m(\u001b[0m\u001b[0mtrainset\u001b[0m\u001b[1;33m)\u001b[0m\u001b[1;33m\u001b[0m\u001b[1;33m\u001b[0m\u001b[0m\n\u001b[0m\u001b[0;32m      3\u001b[0m \u001b[0mpredictions\u001b[0m \u001b[1;33m=\u001b[0m \u001b[0mnmf_test\u001b[0m\u001b[1;33m.\u001b[0m\u001b[0mtest\u001b[0m\u001b[1;33m(\u001b[0m\u001b[0mtestset\u001b[0m\u001b[1;33m)\u001b[0m\u001b[1;33m\u001b[0m\u001b[1;33m\u001b[0m\u001b[0m\n\u001b[0;32m      4\u001b[0m \u001b[1;31m# Calculate RMSE\u001b[0m\u001b[1;33m\u001b[0m\u001b[1;33m\u001b[0m\u001b[0m\n\u001b[0;32m      5\u001b[0m \u001b[0mknn_b_rmse\u001b[0m \u001b[1;33m=\u001b[0m \u001b[0maccuracy\u001b[0m\u001b[1;33m.\u001b[0m\u001b[0mrmse\u001b[0m\u001b[1;33m(\u001b[0m\u001b[0mpredictions\u001b[0m\u001b[1;33m)\u001b[0m\u001b[1;33m\u001b[0m\u001b[1;33m\u001b[0m\u001b[0m\n",
      "\u001b[1;32m~\\anaconda3\\lib\\site-packages\\surprise\\prediction_algorithms\\knns.py\u001b[0m in \u001b[0;36mfit\u001b[1;34m(self, trainset)\u001b[0m\n\u001b[0;32m     97\u001b[0m \u001b[1;33m\u001b[0m\u001b[0m\n\u001b[0;32m     98\u001b[0m         \u001b[0mSymmetricAlgo\u001b[0m\u001b[1;33m.\u001b[0m\u001b[0mfit\u001b[0m\u001b[1;33m(\u001b[0m\u001b[0mself\u001b[0m\u001b[1;33m,\u001b[0m \u001b[0mtrainset\u001b[0m\u001b[1;33m)\u001b[0m\u001b[1;33m\u001b[0m\u001b[1;33m\u001b[0m\u001b[0m\n\u001b[1;32m---> 99\u001b[1;33m         \u001b[0mself\u001b[0m\u001b[1;33m.\u001b[0m\u001b[0msim\u001b[0m \u001b[1;33m=\u001b[0m \u001b[0mself\u001b[0m\u001b[1;33m.\u001b[0m\u001b[0mcompute_similarities\u001b[0m\u001b[1;33m(\u001b[0m\u001b[1;33m)\u001b[0m\u001b[1;33m\u001b[0m\u001b[1;33m\u001b[0m\u001b[0m\n\u001b[0m\u001b[0;32m    100\u001b[0m \u001b[1;33m\u001b[0m\u001b[0m\n\u001b[0;32m    101\u001b[0m         \u001b[1;32mreturn\u001b[0m \u001b[0mself\u001b[0m\u001b[1;33m\u001b[0m\u001b[1;33m\u001b[0m\u001b[0m\n",
      "\u001b[1;32m~\\anaconda3\\lib\\site-packages\\surprise\\prediction_algorithms\\algo_base.py\u001b[0m in \u001b[0;36mcompute_similarities\u001b[1;34m(self)\u001b[0m\n\u001b[0;32m    247\u001b[0m             \u001b[1;32mif\u001b[0m \u001b[0mgetattr\u001b[0m\u001b[1;33m(\u001b[0m\u001b[0mself\u001b[0m\u001b[1;33m,\u001b[0m \u001b[1;34m'verbose'\u001b[0m\u001b[1;33m,\u001b[0m \u001b[1;32mFalse\u001b[0m\u001b[1;33m)\u001b[0m\u001b[1;33m:\u001b[0m\u001b[1;33m\u001b[0m\u001b[1;33m\u001b[0m\u001b[0m\n\u001b[0;32m    248\u001b[0m                 \u001b[0mprint\u001b[0m\u001b[1;33m(\u001b[0m\u001b[1;34m'Computing the {0} similarity matrix...'\u001b[0m\u001b[1;33m.\u001b[0m\u001b[0mformat\u001b[0m\u001b[1;33m(\u001b[0m\u001b[0mname\u001b[0m\u001b[1;33m)\u001b[0m\u001b[1;33m)\u001b[0m\u001b[1;33m\u001b[0m\u001b[1;33m\u001b[0m\u001b[0m\n\u001b[1;32m--> 249\u001b[1;33m             \u001b[0msim\u001b[0m \u001b[1;33m=\u001b[0m \u001b[0mconstruction_func\u001b[0m\u001b[1;33m[\u001b[0m\u001b[0mname\u001b[0m\u001b[1;33m]\u001b[0m\u001b[1;33m(\u001b[0m\u001b[1;33m*\u001b[0m\u001b[0margs\u001b[0m\u001b[1;33m)\u001b[0m\u001b[1;33m\u001b[0m\u001b[1;33m\u001b[0m\u001b[0m\n\u001b[0m\u001b[0;32m    250\u001b[0m             \u001b[1;32mif\u001b[0m \u001b[0mgetattr\u001b[0m\u001b[1;33m(\u001b[0m\u001b[0mself\u001b[0m\u001b[1;33m,\u001b[0m \u001b[1;34m'verbose'\u001b[0m\u001b[1;33m,\u001b[0m \u001b[1;32mFalse\u001b[0m\u001b[1;33m)\u001b[0m\u001b[1;33m:\u001b[0m\u001b[1;33m\u001b[0m\u001b[1;33m\u001b[0m\u001b[0m\n\u001b[0;32m    251\u001b[0m                 \u001b[0mprint\u001b[0m\u001b[1;33m(\u001b[0m\u001b[1;34m'Done computing similarity matrix.'\u001b[0m\u001b[1;33m)\u001b[0m\u001b[1;33m\u001b[0m\u001b[1;33m\u001b[0m\u001b[0m\n",
      "\u001b[1;32m~\\anaconda3\\lib\\site-packages\\surprise\\similarities.pyx\u001b[0m in \u001b[0;36msurprise.similarities.msd\u001b[1;34m()\u001b[0m\n",
      "\u001b[1;31mMemoryError\u001b[0m: Unable to allocate 180. GiB for an array with shape (155555, 155555) and data type float64"
     ]
    }
   ],
   "source": [
    "knn_basic = KNNBasic(verbose=True)\n",
    "knn_basic.fit(trainset)\n",
    "predictions = nmf_test.test(testset)\n",
    "# Calculate RMSE\n",
    "knn_b_rmse = accuracy.rmse(predictions)"
   ]
  },
  {
   "cell_type": "markdown",
   "id": "f8155b69-e740-4121-9e98-66a2774e6a7f",
   "metadata": {
    "colab_type": "text",
    "id": "0rKRlHmDWPyN"
   },
   "source": [
    "#### SlopeOne  \n",
    "The SlopeOne algorithm is a simple yet accurate collaborative filtering algorithm that uses a simple linear regression model to solve the data sparisity problem. "
   ]
  },
  {
   "cell_type": "code",
   "execution_count": 70,
   "id": "88915b3b-3dd0-41e4-8609-bec0053c9533",
   "metadata": {
    "colab": {},
    "colab_type": "code",
    "id": "I_meia6EWPyN",
    "outputId": "6acf4137-ca89-4c01-f3b0-705811b3e443"
   },
   "outputs": [
    {
     "name": "stdout",
     "output_type": "stream",
     "text": [
      "RMSE: 0.8938\n"
     ]
    }
   ],
   "source": [
    "slo_test = SlopeOne()\n",
    "slo_test.fit(trainset)\n",
    "predictions = slo_test.test(testset)\n",
    "# Calculate RMSE\n",
    "slo_rmse = accuracy.rmse(predictions)"
   ]
  },
  {
   "cell_type": "markdown",
   "id": "ba0eccc5-3d16-4dfe-a31d-c8041f60b358",
   "metadata": {
    "colab_type": "text",
    "id": "XvlEikIiWPyO"
   },
   "source": [
    "#### CoClustering  \n",
    "The Co-clustering algorithm assigns clusters using a straightforward optimization method, much like k-means."
   ]
  },
  {
   "cell_type": "code",
   "execution_count": 71,
   "id": "4c73fd69-c105-42a9-bebe-c2d77536332b",
   "metadata": {
    "colab": {},
    "colab_type": "code",
    "id": "-AmTtK0NWPyP",
    "outputId": "caca6344-c5f2-4fe4-f6ad-c8b01e0ec3fc"
   },
   "outputs": [
    {
     "name": "stdout",
     "output_type": "stream",
     "text": [
      "RMSE: 0.9515\n"
     ]
    }
   ],
   "source": [
    "cc_test = CoClustering(random_state=42)\n",
    "cc_test.fit(trainset)\n",
    "predictions = cc_test.test(testset)\n",
    "# Calculate RMSE\n",
    "cc_rmse = accuracy.rmse(predictions)"
   ]
  },
  {
   "cell_type": "code",
   "execution_count": null,
   "id": "d1a19c0e-51c8-4bef-bad9-85609589f3f8",
   "metadata": {},
   "outputs": [],
   "source": []
  },
  {
   "cell_type": "markdown",
   "id": "1ba25492",
   "metadata": {},
   "source": [
    "# Conclusion "
   ]
  },
  {
   "cell_type": "code",
   "execution_count": null,
   "id": "db4a30ad",
   "metadata": {},
   "outputs": [],
   "source": []
  },
  {
   "cell_type": "code",
   "execution_count": null,
   "id": "f65673eb",
   "metadata": {},
   "outputs": [],
   "source": []
  },
  {
   "cell_type": "markdown",
   "id": "59f297b1",
   "metadata": {},
   "source": [
    "KAGGLE SUBMISSION FILE"
   ]
  },
  {
   "cell_type": "code",
   "execution_count": 73,
   "id": "f33c2500",
   "metadata": {},
   "outputs": [
    {
     "name": "stdout",
     "output_type": "stream",
     "text": [
      "Processing epoch 0\n",
      "Processing epoch 1\n",
      "Processing epoch 2\n",
      "Processing epoch 3\n",
      "Processing epoch 4\n",
      "Processing epoch 5\n",
      "Processing epoch 6\n",
      "Processing epoch 7\n",
      "Processing epoch 8\n",
      "Processing epoch 9\n",
      "Processing epoch 10\n",
      "Processing epoch 11\n",
      "Processing epoch 12\n",
      "Processing epoch 13\n",
      "Processing epoch 14\n",
      "Processing epoch 15\n",
      "Processing epoch 16\n",
      "Processing epoch 17\n",
      "Processing epoch 18\n",
      "Processing epoch 19\n",
      "Processing epoch 20\n",
      "Processing epoch 21\n",
      "Processing epoch 22\n",
      "Processing epoch 23\n",
      "Processing epoch 24\n",
      "Processing epoch 25\n",
      "Processing epoch 26\n",
      "Processing epoch 27\n",
      "Processing epoch 28\n",
      "Processing epoch 29\n",
      "Processing epoch 30\n",
      "Processing epoch 31\n",
      "Processing epoch 32\n",
      "Processing epoch 33\n",
      "Processing epoch 34\n",
      "Processing epoch 35\n",
      "Processing epoch 36\n",
      "Processing epoch 37\n",
      "Processing epoch 38\n",
      "Processing epoch 39\n"
     ]
    }
   ],
   "source": [
    "# Train model on whole dataset\n",
    "reader = Reader(rating_scale=(train['rating'].min(), train['rating'].max()))\n",
    "data = Dataset.load_from_df(new_train[['userId', 'movieId', 'rating']], reader)\n",
    "trainset = data.build_full_trainset()\n",
    "svd = SVD(n_epochs = 40, n_factors = 400, init_std_dev = 0.005, random_state=42, verbose=True)\n",
    "svd.fit(trainset)\n",
    "\n",
    "# Create Kaggle submission file\n",
    "predictions = []\n",
    "for i, row in test.iterrows():\n",
    "    x = (svd.predict(row.userId, row.movieId))\n",
    "    pred = x[3]\n",
    "    predictions.append(pred)\n",
    "test['Id'] = test['userId'].map(str) +'_'+ test['movieId'].map(str)\n",
    "results = pd.DataFrame({\"Id\":test['Id'],\"rating\": predictions})\n",
    "results.to_csv(\"Team_5_svd.csv\", index=False)"
   ]
  },
  {
   "cell_type": "code",
   "execution_count": 74,
   "id": "8a9a441f",
   "metadata": {},
   "outputs": [
    {
     "name": "stdout",
     "output_type": "stream",
     "text": [
      "Estimating biases using als...\n",
      "Computing the msd similarity matrix...\n"
     ]
    },
    {
     "ename": "MemoryError",
     "evalue": "Unable to allocate 197. GiB for an array with shape (162516, 162516) and data type float64",
     "output_type": "error",
     "traceback": [
      "\u001b[1;31m---------------------------------------------------------------------------\u001b[0m",
      "\u001b[1;31mMemoryError\u001b[0m                               Traceback (most recent call last)",
      "\u001b[1;32m~\\AppData\\Local\\Temp/ipykernel_4600/1581446149.py\u001b[0m in \u001b[0;36m<module>\u001b[1;34m\u001b[0m\n\u001b[0;32m      1\u001b[0m \u001b[0mknn1\u001b[0m \u001b[1;33m=\u001b[0m \u001b[0mKNNBaseline\u001b[0m\u001b[1;33m(\u001b[0m\u001b[0mk\u001b[0m\u001b[1;33m=\u001b[0m\u001b[1;36m3\u001b[0m\u001b[1;33m)\u001b[0m\u001b[1;33m\u001b[0m\u001b[1;33m\u001b[0m\u001b[0m\n\u001b[1;32m----> 2\u001b[1;33m \u001b[0mknn1\u001b[0m\u001b[1;33m.\u001b[0m\u001b[0mfit\u001b[0m\u001b[1;33m(\u001b[0m\u001b[0mtrainset\u001b[0m\u001b[1;33m)\u001b[0m\u001b[1;33m\u001b[0m\u001b[1;33m\u001b[0m\u001b[0m\n\u001b[0m\u001b[0;32m      3\u001b[0m \u001b[1;33m\u001b[0m\u001b[0m\n\u001b[0;32m      4\u001b[0m \u001b[1;31m# Create Kaggle submission file\u001b[0m\u001b[1;33m\u001b[0m\u001b[1;33m\u001b[0m\u001b[0m\n\u001b[0;32m      5\u001b[0m \u001b[0mpredictions\u001b[0m \u001b[1;33m=\u001b[0m \u001b[1;33m[\u001b[0m\u001b[1;33m]\u001b[0m\u001b[1;33m\u001b[0m\u001b[1;33m\u001b[0m\u001b[0m\n",
      "\u001b[1;32m~\\anaconda3\\lib\\site-packages\\surprise\\prediction_algorithms\\knns.py\u001b[0m in \u001b[0;36mfit\u001b[1;34m(self, trainset)\u001b[0m\n\u001b[0;32m    279\u001b[0m         \u001b[0mself\u001b[0m\u001b[1;33m.\u001b[0m\u001b[0mbu\u001b[0m\u001b[1;33m,\u001b[0m \u001b[0mself\u001b[0m\u001b[1;33m.\u001b[0m\u001b[0mbi\u001b[0m \u001b[1;33m=\u001b[0m \u001b[0mself\u001b[0m\u001b[1;33m.\u001b[0m\u001b[0mcompute_baselines\u001b[0m\u001b[1;33m(\u001b[0m\u001b[1;33m)\u001b[0m\u001b[1;33m\u001b[0m\u001b[1;33m\u001b[0m\u001b[0m\n\u001b[0;32m    280\u001b[0m         \u001b[0mself\u001b[0m\u001b[1;33m.\u001b[0m\u001b[0mbx\u001b[0m\u001b[1;33m,\u001b[0m \u001b[0mself\u001b[0m\u001b[1;33m.\u001b[0m\u001b[0mby\u001b[0m \u001b[1;33m=\u001b[0m \u001b[0mself\u001b[0m\u001b[1;33m.\u001b[0m\u001b[0mswitch\u001b[0m\u001b[1;33m(\u001b[0m\u001b[0mself\u001b[0m\u001b[1;33m.\u001b[0m\u001b[0mbu\u001b[0m\u001b[1;33m,\u001b[0m \u001b[0mself\u001b[0m\u001b[1;33m.\u001b[0m\u001b[0mbi\u001b[0m\u001b[1;33m)\u001b[0m\u001b[1;33m\u001b[0m\u001b[1;33m\u001b[0m\u001b[0m\n\u001b[1;32m--> 281\u001b[1;33m         \u001b[0mself\u001b[0m\u001b[1;33m.\u001b[0m\u001b[0msim\u001b[0m \u001b[1;33m=\u001b[0m \u001b[0mself\u001b[0m\u001b[1;33m.\u001b[0m\u001b[0mcompute_similarities\u001b[0m\u001b[1;33m(\u001b[0m\u001b[1;33m)\u001b[0m\u001b[1;33m\u001b[0m\u001b[1;33m\u001b[0m\u001b[0m\n\u001b[0m\u001b[0;32m    282\u001b[0m \u001b[1;33m\u001b[0m\u001b[0m\n\u001b[0;32m    283\u001b[0m         \u001b[1;32mreturn\u001b[0m \u001b[0mself\u001b[0m\u001b[1;33m\u001b[0m\u001b[1;33m\u001b[0m\u001b[0m\n",
      "\u001b[1;32m~\\anaconda3\\lib\\site-packages\\surprise\\prediction_algorithms\\algo_base.py\u001b[0m in \u001b[0;36mcompute_similarities\u001b[1;34m(self)\u001b[0m\n\u001b[0;32m    247\u001b[0m             \u001b[1;32mif\u001b[0m \u001b[0mgetattr\u001b[0m\u001b[1;33m(\u001b[0m\u001b[0mself\u001b[0m\u001b[1;33m,\u001b[0m \u001b[1;34m'verbose'\u001b[0m\u001b[1;33m,\u001b[0m \u001b[1;32mFalse\u001b[0m\u001b[1;33m)\u001b[0m\u001b[1;33m:\u001b[0m\u001b[1;33m\u001b[0m\u001b[1;33m\u001b[0m\u001b[0m\n\u001b[0;32m    248\u001b[0m                 \u001b[0mprint\u001b[0m\u001b[1;33m(\u001b[0m\u001b[1;34m'Computing the {0} similarity matrix...'\u001b[0m\u001b[1;33m.\u001b[0m\u001b[0mformat\u001b[0m\u001b[1;33m(\u001b[0m\u001b[0mname\u001b[0m\u001b[1;33m)\u001b[0m\u001b[1;33m)\u001b[0m\u001b[1;33m\u001b[0m\u001b[1;33m\u001b[0m\u001b[0m\n\u001b[1;32m--> 249\u001b[1;33m             \u001b[0msim\u001b[0m \u001b[1;33m=\u001b[0m \u001b[0mconstruction_func\u001b[0m\u001b[1;33m[\u001b[0m\u001b[0mname\u001b[0m\u001b[1;33m]\u001b[0m\u001b[1;33m(\u001b[0m\u001b[1;33m*\u001b[0m\u001b[0margs\u001b[0m\u001b[1;33m)\u001b[0m\u001b[1;33m\u001b[0m\u001b[1;33m\u001b[0m\u001b[0m\n\u001b[0m\u001b[0;32m    250\u001b[0m             \u001b[1;32mif\u001b[0m \u001b[0mgetattr\u001b[0m\u001b[1;33m(\u001b[0m\u001b[0mself\u001b[0m\u001b[1;33m,\u001b[0m \u001b[1;34m'verbose'\u001b[0m\u001b[1;33m,\u001b[0m \u001b[1;32mFalse\u001b[0m\u001b[1;33m)\u001b[0m\u001b[1;33m:\u001b[0m\u001b[1;33m\u001b[0m\u001b[1;33m\u001b[0m\u001b[0m\n\u001b[0;32m    251\u001b[0m                 \u001b[0mprint\u001b[0m\u001b[1;33m(\u001b[0m\u001b[1;34m'Done computing similarity matrix.'\u001b[0m\u001b[1;33m)\u001b[0m\u001b[1;33m\u001b[0m\u001b[1;33m\u001b[0m\u001b[0m\n",
      "\u001b[1;32m~\\anaconda3\\lib\\site-packages\\surprise\\similarities.pyx\u001b[0m in \u001b[0;36msurprise.similarities.msd\u001b[1;34m()\u001b[0m\n",
      "\u001b[1;31mMemoryError\u001b[0m: Unable to allocate 197. GiB for an array with shape (162516, 162516) and data type float64"
     ]
    }
   ],
   "source": [
    "knn1 = KNNBaseline(k=3)\n",
    "knn1.fit(trainset)\n",
    "\n",
    "# Create Kaggle submission file\n",
    "predictions = []\n",
    "for i, row in test.iterrows():\n",
    "    x = (knn1.predict(row.userId, row.movieId))\n",
    "    pred = x[3]\n",
    "    predictions.append(pred)\n",
    "test['Id'] = test['userId'].map(str) +'_'+ test['movieId'].map(str)\n",
    "results = pd.DataFrame({\"Id\":test['Id'],\"rating\": predictions})\n",
    "results.to_csv(\"Team_5_knn1.csv\", index=False)"
   ]
  },
  {
   "cell_type": "code",
   "execution_count": 75,
   "id": "4e27c239",
   "metadata": {},
   "outputs": [
    {
     "name": "stdout",
     "output_type": "stream",
     "text": [
      "Estimating biases using sgd...\n"
     ]
    }
   ],
   "source": [
    "bsl_options = {'method': 'sgd','n_epochs': 30}\n",
    "blo_1 = BaselineOnly(bsl_options=bsl_options, verbose=True)\n",
    "blo_1.fit(trainset)\n",
    "# Create Kaggle submission file\n",
    "predictions = []\n",
    "for i, row in test.iterrows():\n",
    "    x = (blo_1.predict(row.userId, row.movieId))\n",
    "    pred = x[3]\n",
    "    predictions.append(pred)\n",
    "test['Id'] = test['userId'].map(str) +'_'+ test['movieId'].map(str)\n",
    "results = pd.DataFrame({\"Id\":test['Id'],\"rating\": predictions})\n",
    "results.to_csv(\"Team_5_bsl1.csv\", index=False)"
   ]
  },
  {
   "cell_type": "code",
   "execution_count": null,
   "id": "289da2ea",
   "metadata": {},
   "outputs": [
    {
     "name": "stderr",
     "output_type": "stream",
     "text": [
      "COMET INFO: ---------------------------\n",
      "COMET INFO: Comet.ml Experiment Summary\n",
      "COMET INFO: ---------------------------\n",
      "COMET INFO:   Data:\n",
      "COMET INFO:     display_summary_level : 1\n",
      "COMET INFO:     url                   : https://www.comet.ml/tsikaapp/team-5-unsupervised-ml/65cbfda20cc149f280b941997b726a17\n",
      "COMET INFO:   Parameters:\n",
      "COMET INFO:     algorithm     : brute\n",
      "COMET INFO:     leaf_size     : 30\n",
      "COMET INFO:     metric        : cosine\n",
      "COMET INFO:     metric_params : 1\n",
      "COMET INFO:     n_jobs        : 1\n",
      "COMET INFO:     n_neighbors   : 5\n",
      "COMET INFO:     p             : 2\n",
      "COMET INFO:     radius        : 1.0\n",
      "COMET INFO:   Uploads:\n",
      "COMET INFO:     conda-environment-definition : 1\n",
      "COMET INFO:     conda-info                   : 1\n",
      "COMET INFO:     conda-specification          : 1\n",
      "COMET INFO:     environment details          : 1\n",
      "COMET INFO:     filename                     : 1\n",
      "COMET INFO:     installed packages           : 1\n",
      "COMET INFO:     notebook                     : 1\n",
      "COMET INFO:     source_code                  : 1\n",
      "COMET INFO: ---------------------------\n",
      "COMET ERROR: Error sending a notification, make sure you have opted-in for notifications\n",
      "COMET INFO: Uploading metrics, params, and assets to Comet before program termination (may take several seconds)\n",
      "COMET INFO: The Python SDK has 3600 seconds to finish before aborting...\n",
      "COMET INFO: Uploading 3536 metrics, params and output messages\n",
      "COMET INFO: Uploading 3536 metrics, params and output messages\n",
      "COMET INFO: Uploading 3536 metrics, params and output messages\n",
      "COMET INFO: Uploading 3536 metrics, params and output messages\n",
      "COMET INFO: Uploading 3536 metrics, params and output messages\n",
      "COMET INFO: Uploading 3536 metrics, params and output messages\n",
      "COMET INFO: Uploading 3536 metrics, params and output messages\n",
      "COMET INFO: Uploading 3536 metrics, params and output messages\n",
      "COMET INFO: Uploading 3536 metrics, params and output messages\n",
      "COMET INFO: Uploading 3536 metrics, params and output messages\n",
      "COMET INFO: Uploading 3536 metrics, params and output messages\n",
      "COMET INFO: Uploading 3536 metrics, params and output messages\n",
      "COMET INFO: Uploading 3536 metrics, params and output messages\n",
      "COMET INFO: Uploading 3536 metrics, params and output messages\n",
      "COMET INFO: Uploading 3536 metrics, params and output messages\n",
      "COMET INFO: Uploading 3536 metrics, params and output messages\n",
      "COMET INFO: Uploading 3536 metrics, params and output messages\n",
      "COMET INFO: Uploading 3536 metrics, params and output messages\n",
      "COMET INFO: Uploading 3536 metrics, params and output messages\n",
      "COMET INFO: Uploading 3536 metrics, params and output messages\n",
      "COMET INFO: Uploading 3536 metrics, params and output messages\n",
      "COMET INFO: Uploading 3536 metrics, params and output messages\n",
      "COMET INFO: Uploading 3536 metrics, params and output messages\n",
      "COMET INFO: Uploading 3536 metrics, params and output messages\n",
      "COMET INFO: Uploading 3536 metrics, params and output messages\n",
      "COMET INFO: Uploading 3536 metrics, params and output messages\n",
      "COMET INFO: Uploading 3536 metrics, params and output messages\n",
      "COMET INFO: Uploading 3536 metrics, params and output messages\n",
      "COMET INFO: Uploading 3536 metrics, params and output messages\n",
      "COMET INFO: Uploading 3536 metrics, params and output messages\n",
      "COMET INFO: Uploading 3536 metrics, params and output messages\n",
      "COMET INFO: Uploading 3536 metrics, params and output messages\n",
      "COMET INFO: Uploading 3536 metrics, params and output messages\n",
      "COMET INFO: Uploading 3536 metrics, params and output messages\n",
      "COMET INFO: Uploading 3536 metrics, params and output messages\n",
      "COMET INFO: Uploading 3536 metrics, params and output messages\n",
      "COMET INFO: Uploading 3536 metrics, params and output messages\n",
      "COMET INFO: Uploading 3536 metrics, params and output messages\n",
      "COMET INFO: Uploading 3536 metrics, params and output messages\n",
      "COMET INFO: Uploading 3536 metrics, params and output messages\n",
      "COMET INFO: Uploading 3536 metrics, params and output messages\n",
      "COMET INFO: Uploading 3536 metrics, params and output messages\n",
      "COMET INFO: Uploading 3536 metrics, params and output messages\n",
      "COMET INFO: Uploading 3536 metrics, params and output messages\n",
      "COMET INFO: Uploading 3536 metrics, params and output messages\n",
      "COMET INFO: Uploading 3536 metrics, params and output messages\n",
      "COMET INFO: Uploading 3536 metrics, params and output messages\n",
      "COMET INFO: Uploading 3536 metrics, params and output messages\n",
      "COMET INFO: Uploading 3536 metrics, params and output messages\n",
      "COMET INFO: Uploading 3536 metrics, params and output messages\n",
      "COMET INFO: Uploading 3536 metrics, params and output messages\n",
      "COMET INFO: Uploading 3536 metrics, params and output messages\n",
      "COMET INFO: Uploading 3536 metrics, params and output messages\n",
      "COMET INFO: Uploading 3536 metrics, params and output messages\n",
      "COMET INFO: Uploading 3536 metrics, params and output messages\n",
      "COMET INFO: Uploading 3536 metrics, params and output messages\n",
      "COMET INFO: Uploading 3536 metrics, params and output messages\n",
      "COMET INFO: Uploading 3536 metrics, params and output messages\n",
      "COMET INFO: Uploading 3536 metrics, params and output messages\n",
      "COMET INFO: Uploading 3536 metrics, params and output messages\n",
      "COMET INFO: Uploading 3536 metrics, params and output messages\n",
      "COMET INFO: Uploading 3536 metrics, params and output messages\n",
      "COMET INFO: Uploading 3536 metrics, params and output messages\n",
      "COMET INFO: Uploading 3536 metrics, params and output messages\n",
      "COMET INFO: Uploading 3536 metrics, params and output messages\n",
      "COMET INFO: Uploading 3536 metrics, params and output messages\n",
      "COMET INFO: Uploading 3536 metrics, params and output messages\n",
      "COMET INFO: Uploading 3536 metrics, params and output messages\n",
      "COMET INFO: Uploading 3536 metrics, params and output messages\n",
      "COMET INFO: Uploading 3536 metrics, params and output messages\n",
      "COMET INFO: Uploading 3536 metrics, params and output messages\n",
      "COMET INFO: Uploading 3536 metrics, params and output messages\n",
      "COMET INFO: Uploading 3536 metrics, params and output messages\n",
      "COMET INFO: Uploading 3536 metrics, params and output messages\n",
      "COMET INFO: Uploading 3536 metrics, params and output messages\n",
      "COMET INFO: Uploading 3536 metrics, params and output messages\n",
      "COMET INFO: Uploading 3536 metrics, params and output messages\n",
      "COMET INFO: Uploading 3536 metrics, params and output messages\n",
      "COMET INFO: Uploading 3536 metrics, params and output messages\n",
      "COMET INFO: Uploading 3536 metrics, params and output messages\n",
      "COMET INFO: Uploading 3536 metrics, params and output messages\n",
      "COMET INFO: Uploading 3536 metrics, params and output messages\n",
      "COMET INFO: Uploading 3536 metrics, params and output messages\n",
      "COMET INFO: Uploading 3536 metrics, params and output messages\n",
      "COMET INFO: Uploading 3536 metrics, params and output messages\n",
      "COMET INFO: Uploading 3536 metrics, params and output messages\n",
      "COMET INFO: Uploading 3536 metrics, params and output messages\n",
      "COMET INFO: Uploading 3536 metrics, params and output messages\n",
      "COMET INFO: Uploading 3536 metrics, params and output messages\n",
      "COMET INFO: Uploading 3536 metrics, params and output messages\n",
      "COMET INFO: Uploading 3536 metrics, params and output messages\n",
      "COMET INFO: Uploading 3536 metrics, params and output messages\n",
      "COMET INFO: Uploading 3536 metrics, params and output messages\n",
      "COMET INFO: Uploading 3536 metrics, params and output messages\n",
      "COMET INFO: Uploading 3536 metrics, params and output messages\n",
      "COMET INFO: Uploading 3536 metrics, params and output messages\n",
      "COMET INFO: Uploading 3536 metrics, params and output messages\n",
      "COMET INFO: Uploading 3536 metrics, params and output messages\n",
      "COMET INFO: Uploading 3536 metrics, params and output messages\n",
      "COMET INFO: Uploading 3536 metrics, params and output messages\n",
      "COMET INFO: Uploading 3536 metrics, params and output messages\n",
      "COMET INFO: Uploading 3536 metrics, params and output messages\n",
      "COMET INFO: Uploading 3536 metrics, params and output messages\n",
      "COMET INFO: Uploading 3536 metrics, params and output messages\n",
      "COMET INFO: Uploading 3536 metrics, params and output messages\n",
      "COMET INFO: Uploading 3536 metrics, params and output messages\n",
      "COMET INFO: Uploading 3536 metrics, params and output messages\n",
      "COMET INFO: Uploading 3536 metrics, params and output messages\n",
      "COMET INFO: Uploading 3536 metrics, params and output messages\n"
     ]
    },
    {
     "name": "stderr",
     "output_type": "stream",
     "text": [
      "COMET INFO: Uploading 3536 metrics, params and output messages\n",
      "COMET INFO: Uploading 3536 metrics, params and output messages\n",
      "COMET INFO: Uploading 3536 metrics, params and output messages\n",
      "COMET INFO: Uploading 3536 metrics, params and output messages\n",
      "COMET INFO: Uploading 3536 metrics, params and output messages\n"
     ]
    }
   ],
   "source": [
    "\n",
    "experiment.end()"
   ]
  },
  {
   "cell_type": "markdown",
   "id": "5171572e",
   "metadata": {},
   "source": [
    "# References"
   ]
  }
 ],
 "metadata": {
  "kernelspec": {
   "display_name": "Python 3 (ipykernel)",
   "language": "python",
   "name": "python3"
  },
  "language_info": {
   "codemirror_mode": {
    "name": "ipython",
    "version": 3
   },
   "file_extension": ".py",
   "mimetype": "text/x-python",
   "name": "python",
   "nbconvert_exporter": "python",
   "pygments_lexer": "ipython3",
   "version": "3.9.7"
  },
  "toc": {
   "base_numbering": 1,
   "nav_menu": {},
   "number_sections": true,
   "sideBar": true,
   "skip_h1_title": false,
   "title_cell": "Table of Contents",
   "title_sidebar": "Contents",
   "toc_cell": true,
   "toc_position": {},
   "toc_section_display": true,
   "toc_window_display": true
  }
 },
 "nbformat": 4,
 "nbformat_minor": 5
}
