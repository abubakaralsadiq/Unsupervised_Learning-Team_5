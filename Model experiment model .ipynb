{
 "cells": [
  {
   "cell_type": "code",
   "execution_count": 71,
   "id": "6364741e-b92f-4b39-b85b-4e4b9714f72d",
   "metadata": {},
   "outputs": [
    {
     "data": {
      "text/html": [
       "        <script type=\"text/javascript\">\n",
       "        window.PlotlyConfig = {MathJaxConfig: 'local'};\n",
       "        if (window.MathJax) {MathJax.Hub.Config({SVG: {font: \"STIX-Web\"}});}\n",
       "        if (typeof require !== 'undefined') {\n",
       "        require.undef(\"plotly\");\n",
       "        requirejs.config({\n",
       "            paths: {\n",
       "                'plotly': ['https://cdn.plot.ly/plotly-2.11.1.min']\n",
       "            }\n",
       "        });\n",
       "        require(['plotly'], function(Plotly) {\n",
       "            window._Plotly = Plotly;\n",
       "        });\n",
       "        }\n",
       "        </script>\n",
       "        "
      ]
     },
     "metadata": {},
     "output_type": "display_data"
    }
   ],
   "source": [
    "# Ignore warnings\n",
    "import warnings\n",
    "warnings.simplefilter(action='ignore')\n",
    "\n",
    "# Install Prerequisites\n",
    "# import sys\n",
    "# !{sys.executable} -m pip install scikit-learn scikit-surprise\n",
    "# !pip install git+https://github.com/gbolmier/funk-svd\n",
    "\n",
    "# Exploratory Data Analysis\n",
    "import pickle\n",
    "import numpy as np\n",
    "import pandas as pd\n",
    "import seaborn as sns\n",
    "import matplotlib.pyplot as plt\n",
    "\n",
    "# Data Preprocessing\n",
    "import random\n",
    "from time import time\n",
    "import cufflinks as cf\n",
    "from sklearn.manifold import TSNE\n",
    "from sklearn.cluster import KMeans\n",
    "from sklearn.decomposition import PCA\n",
    "from mpl_toolkits.mplot3d import Axes3D\n",
    "from matplotlib.ticker import NullFormatter\n",
    "from sklearn.preprocessing import StandardScaler\n",
    "from plotly.offline import download_plotlyjs, init_notebook_mode, plot, iplot\n",
    "init_notebook_mode(connected=True)\n",
    "\n",
    "# Models\n",
    "from surprise import Reader, Dataset\n",
    "from surprise import SVD,SVDpp, NormalPredictor, BaselineOnly, NMF, SlopeOne, CoClustering\n",
    "from surprise import KNNBaseline, KNNBasic, KNNWithMeans, KNNWithZScore\n",
    "from sklearn.metrics.pairwise import cosine_similarity\n",
    "from sklearn.feature_extraction.text import CountVectorizer\n",
    "\n",
    "# Performance Evaluation\n",
    "from surprise import accuracy\n",
    "from sklearn.metrics import mean_squared_error\n",
    "from surprise.model_selection import GridSearchCV, cross_validate, train_test_split\n",
    "\n",
    "# Display\n",
    "%matplotlib inline\n",
    "sns.set(font_scale=1)\n",
    "sns.set_style(\"white\")\n",
    "pd.set_option('display.max_columns', 37)\n",
    "\n"
   ]
  },
  {
   "cell_type": "code",
   "execution_count": 72,
   "id": "897e6da8-df2c-4f13-a38c-3f9b1966f3a4",
   "metadata": {},
   "outputs": [],
   "source": [
    "train_df = pd.read_csv('train.csv')\n",
    "test_df = pd.read_csv('test.csv')\n"
   ]
  },
  {
   "cell_type": "code",
   "execution_count": 73,
   "id": "819a6c83-b45f-4c65-9707-7185e714cff5",
   "metadata": {},
   "outputs": [
    {
     "name": "stdout",
     "output_type": "stream",
     "text": [
      "(62423, 2) (27278, 5) (62423, 2) (15584448, 2) (1128, 1)\n"
     ]
    }
   ],
   "source": [
    "movies_df =  pd.read_csv('movies.csv', index_col='movieId')\n",
    "imdb_df =  pd.read_csv('imdb_data.csv', index_col='movieId')\n",
    "links_df =  pd.read_csv('links.csv', index_col='movieId')\n",
    "genome_scores =  pd.read_csv('genome_scores.csv', index_col='movieId')\n",
    "genome_tags =  pd.read_csv('genome_tags.csv', index_col='tagId')\n",
    "tags =  pd.read_csv('tags.csv')\n",
    "print(movies_df.shape, imdb_df.shape, links_df.shape, genome_scores.shape, genome_tags.shape)"
   ]
  },
  {
   "cell_type": "markdown",
   "id": "7fa49b60-61ba-4307-9d6a-36de0d3f8627",
   "metadata": {},
   "source": [
    "## Data Preprocessing"
   ]
  },
  {
   "cell_type": "code",
   "execution_count": 74,
   "id": "01f04f68-c8e6-4a93-8da4-0099b104c18d",
   "metadata": {
    "tags": []
   },
   "outputs": [],
   "source": [
    "# Load the 100k dataset\n",
    "# Load the 100k dataset\n",
    "train_df.drop('timestamp', axis=1, inplace=True)\n",
    "train_subset = train_df[:100000]\n",
    "reader = Reader(rating_scale=(train_subset['rating'].min(), train_subset['rating'].max()))\n",
    "data = Dataset.load_from_df(train_subset[['userId', 'movieId', 'rating']], reader)\n",
    "trainset, testset = train_test_split(data, test_size=.25, random_state=42)\n",
    "\n"
   ]
  },
  {
   "cell_type": "markdown",
   "id": "f0ae7f72-7e93-4ff7-bb1a-b0a062c72620",
   "metadata": {},
   "source": [
    "For the collaborative filtering model we are going to use the data from the train_csv file. In that file we are particularly interested in the userid, movieid and the rating. The timestamp will be dropped because it has a strong positive correlation with movieid and therefore dropping it won't affect the model as much. Secondly,we are going to use algorithms from the surprise library and it does not support implicit rating data (timestamp is implicit). Timestamp will also be dropped as . We are using the first 1000000 rows because our data is alot and it takes more computational power and time. To gather information about how the model is performing we use 1000000 thereafter we only train the best performing model with the best performing model. "
   ]
  },
  {
   "cell_type": "markdown",
   "id": "bd200590-d789-4dca-b729-3d0a99e654b3",
   "metadata": {},
   "source": [
    "# Building the models \n",
    "In this section we are going to build both collaborative and content-based filtering recommender systems. We begin with collaborative filtering which aims to predict the rating while the content-based  algorithm aims to predict the movie name. \n"
   ]
  },
  {
   "cell_type": "markdown",
   "id": "b053aca7-181a-47d8-b1bd-dad7601c2624",
   "metadata": {
    "tags": []
   },
   "source": [
    "\n",
    "# Collaborative filtering models \n",
    "\n",
    "Collaborative filtering algorithm aims to make automatic predictions (filtering) about the interests of a user by collecting preferences or taste information from many users (collaborating).\n",
    "\n",
    "######### insert a movie recomnder  picture \n",
    "\n",
    "The Collaborative Filtering (CF) technique can be classified into following categories namely: Memory based and model based. The **memory based** CF method uses user to user and item to item correlations based on rating behavior to predict ratings and recommend items for the users in future.  Unlike Memory-Based CF,**Model-based CF** does not use the whole dataset to compute predictions for real data. There are various model-based CF algorithms including Bayesian Networks, Clustering Models, and Latent Semantic Models such as Singular Value Decomposition (SVD), Principal Component Analysis (PCA) and Probabilistic Matrix Factorization for dimensionality reduction\n",
    "of rating matrix. In this notebook we focused on **model-based-CF** \n",
    "\n",
    "The main advantage of this algorithm is that it doesn’t need anything else except users’ historical preference on a set of items.Such data is readily and easier to collect. Making it a cheaper algorithm to use for quick results on this dataset but costly to companies as large recommendation services tend to have far more users than items in their databases. Their ratings also have to be constantly tracked to provide accurate predictions. Collaborative filtering also has a cold start problem where it can often become very difficult to make recommendations for users who have few or no ratings captured. However as time increases, systems which make use of collaborative filtering techniques get progressively better as they passively acquire richer rating data. \n",
    "\n",
    "## Our approach to Collaborative filtering models \n",
    "\n",
    "For collaborative filtering we are using eleven algorithms from the Surprise library.Surprise is a Python scikit for building and analyzing recommender systems that deal with explicit rating data. Explicit rating data is data  where the user directly provides ratings about an item(or movie in our case). The choice to use the surprise library meant that we had to drop the timestamp column. \n",
    "\n",
    "### Basic algorithms\n",
    "***NormalPredictor:*** This algorithm predicts a random rating based on the distribution of the training set, which is assumed to be normal.\n",
    "\n",
    "***BaselineOnly:*** This algorithm predicts the baseline estimate for a given user and item.\n",
    "\n",
    "### k-NN algorithms\n",
    "kNN is a machine learning algorithm to find clusters of similar users based on common book ratings, and make predictions using the average rating of top-k nearest neighbors.For example, in our data there is user id, movieid and ratings. The KNN will try to find the k item that has the most similar user engagement vectors.\n",
    "\n",
    "***KNNBasic:*** This is a basic collaborative filtering algorithm.\n",
    "\n",
    "***KNNWithMeans:*** This is a basic collaborative filtering algorithm, taking into account the mean ratings of each user.\n",
    "\n",
    "***KNNWithZScore:*** This is a basic collaborative filtering algorithm, taking into account the z-score normalization of each user.\n",
    "\n",
    "***KNNBaseline:*** is a basic collaborative filtering algorithm taking into account a baseline rating.\n",
    "\n",
    "### Matrix Factorization-based algorithms\n",
    "The Matrix Factorization techniques are usually more effective because they allow use to discover the latent features underlying the interactions between\n",
    "users and items. Matrix Factorization is simply a mathematical tool for playing around with matrices, and is therefore applicable in many domains where one would like to find out something hidden under the data. SVD and PCA are well known Matrix Factorization models for identifying latent factors in the field of Information Retrieval to deal with Collaborative Filtering challenges(2014). \n",
    "\n",
    "***SVD:*** This algorithm is equivalent to Probabilistic Matrix Factorization ( which makes use of data provided by users with similar preferences to offer recommendations to a particular user).\n",
    "\n",
    "***SVDpp:*** This algorithm is an extension of SVD that takes into account implicit ratings.\n",
    "\n",
    "***NMF:*** This is a collaborative filtering algorithm based on Non-negative Matrix Factorization. It is very similar to SVD.\n",
    "\n",
    "***SlopeOne:*** This is a straightforward implementation of the SlopeOne algorithm.\n",
    "\n",
    "***Co Clustering:*** is a collaborative filtering algorithm based on co-clustering.\n",
    "\n",
    "\n"
   ]
  },
  {
   "cell_type": "code",
   "execution_count": 75,
   "id": "4c231e6c-0f50-4a97-9cab-91803d506b67",
   "metadata": {
    "tags": []
   },
   "outputs": [
    {
     "name": "stdout",
     "output_type": "stream",
     "text": [
      "Estimating biases using als...\n",
      "Computing the msd similarity matrix...\n",
      "Done computing similarity matrix.\n",
      "Estimating biases using als...\n",
      "Computing the msd similarity matrix...\n",
      "Done computing similarity matrix.\n",
      "Estimating biases using als...\n",
      "Computing the msd similarity matrix...\n",
      "Done computing similarity matrix.\n",
      "Computing the msd similarity matrix...\n",
      "Done computing similarity matrix.\n",
      "Computing the msd similarity matrix...\n",
      "Done computing similarity matrix.\n",
      "Computing the msd similarity matrix...\n",
      "Done computing similarity matrix.\n",
      "Computing the msd similarity matrix...\n",
      "Done computing similarity matrix.\n",
      "Computing the msd similarity matrix...\n",
      "Done computing similarity matrix.\n",
      "Computing the msd similarity matrix...\n",
      "Done computing similarity matrix.\n",
      "Computing the msd similarity matrix...\n",
      "Done computing similarity matrix.\n",
      "Computing the msd similarity matrix...\n",
      "Done computing similarity matrix.\n",
      "Computing the msd similarity matrix...\n",
      "Done computing similarity matrix.\n",
      "Estimating biases using als...\n",
      "Estimating biases using als...\n",
      "Estimating biases using als...\n"
     ]
    },
    {
     "data": {
      "text/html": [
       "<div>\n",
       "<style scoped>\n",
       "    .dataframe tbody tr th:only-of-type {\n",
       "        vertical-align: middle;\n",
       "    }\n",
       "\n",
       "    .dataframe tbody tr th {\n",
       "        vertical-align: top;\n",
       "    }\n",
       "\n",
       "    .dataframe thead th {\n",
       "        text-align: right;\n",
       "    }\n",
       "</style>\n",
       "<table border=\"1\" class=\"dataframe\">\n",
       "  <thead>\n",
       "    <tr style=\"text-align: right;\">\n",
       "      <th></th>\n",
       "      <th>test_rmse</th>\n",
       "      <th>fit_time</th>\n",
       "      <th>test_time</th>\n",
       "    </tr>\n",
       "    <tr>\n",
       "      <th>Algorithm</th>\n",
       "      <th></th>\n",
       "      <th></th>\n",
       "      <th></th>\n",
       "    </tr>\n",
       "  </thead>\n",
       "  <tbody>\n",
       "    <tr>\n",
       "      <th>SVDpp</th>\n",
       "      <td>1.045370</td>\n",
       "      <td>0.561593</td>\n",
       "      <td>0.021106</td>\n",
       "    </tr>\n",
       "    <tr>\n",
       "      <th>SVD</th>\n",
       "      <td>1.047348</td>\n",
       "      <td>0.385430</td>\n",
       "      <td>0.019562</td>\n",
       "    </tr>\n",
       "    <tr>\n",
       "      <th>BaselineOnly</th>\n",
       "      <td>1.048290</td>\n",
       "      <td>0.025119</td>\n",
       "      <td>0.014255</td>\n",
       "    </tr>\n",
       "    <tr>\n",
       "      <th>KNNBaseline</th>\n",
       "      <td>1.048868</td>\n",
       "      <td>1.039796</td>\n",
       "      <td>0.019289</td>\n",
       "    </tr>\n",
       "    <tr>\n",
       "      <th>KNNBasic</th>\n",
       "      <td>1.076947</td>\n",
       "      <td>0.979373</td>\n",
       "      <td>0.021384</td>\n",
       "    </tr>\n",
       "    <tr>\n",
       "      <th>KNNWithZScore</th>\n",
       "      <td>1.099217</td>\n",
       "      <td>1.272994</td>\n",
       "      <td>0.020932</td>\n",
       "    </tr>\n",
       "    <tr>\n",
       "      <th>SlopeOne</th>\n",
       "      <td>1.102634</td>\n",
       "      <td>0.258356</td>\n",
       "      <td>0.018988</td>\n",
       "    </tr>\n",
       "    <tr>\n",
       "      <th>KNNWithMeans</th>\n",
       "      <td>1.104793</td>\n",
       "      <td>1.081202</td>\n",
       "      <td>0.021521</td>\n",
       "    </tr>\n",
       "    <tr>\n",
       "      <th>CoClustering</th>\n",
       "      <td>1.107829</td>\n",
       "      <td>0.729987</td>\n",
       "      <td>0.013329</td>\n",
       "    </tr>\n",
       "    <tr>\n",
       "      <th>NMF</th>\n",
       "      <td>1.109239</td>\n",
       "      <td>1.015597</td>\n",
       "      <td>0.019222</td>\n",
       "    </tr>\n",
       "    <tr>\n",
       "      <th>NormalPredictor</th>\n",
       "      <td>1.459423</td>\n",
       "      <td>0.007582</td>\n",
       "      <td>0.023168</td>\n",
       "    </tr>\n",
       "  </tbody>\n",
       "</table>\n",
       "</div>"
      ],
      "text/plain": [
       "                 test_rmse  fit_time  test_time\n",
       "Algorithm                                      \n",
       "SVDpp             1.045370  0.561593   0.021106\n",
       "SVD               1.047348  0.385430   0.019562\n",
       "BaselineOnly      1.048290  0.025119   0.014255\n",
       "KNNBaseline       1.048868  1.039796   0.019289\n",
       "KNNBasic          1.076947  0.979373   0.021384\n",
       "KNNWithZScore     1.099217  1.272994   0.020932\n",
       "SlopeOne          1.102634  0.258356   0.018988\n",
       "KNNWithMeans      1.104793  1.081202   0.021521\n",
       "CoClustering      1.107829  0.729987   0.013329\n",
       "NMF               1.109239  1.015597   0.019222\n",
       "NormalPredictor   1.459423  0.007582   0.023168"
      ]
     },
     "execution_count": 75,
     "metadata": {},
     "output_type": "execute_result"
    }
   ],
   "source": [
    "#Now let us implement the above mentioned algorithms  to train and test models \n",
    "algo = [SVD(), SVDpp(), SlopeOne(), NMF(), NormalPredictor(), KNNBaseline(), \n",
    "                  KNNBasic(), KNNWithMeans(), KNNWithZScore(), BaselineOnly(), CoClustering()]\n",
    "\n",
    "#Read 10000 dataset\n",
    "data2 = Dataset.load_from_df(train_df[['userId', 'movieId', 'rating']].head(10000), Reader())\n",
    "\n",
    "#Implementing algorithm for RMSE\n",
    "algo_rmse=[]\n",
    "for a in algo:\n",
    "    \n",
    "    cross_valid=cross_validate(a, data2, measures=['RMSE'], cv = 3)\n",
    "    output=pd.DataFrame.from_dict(cross_valid).mean(axis=0)\n",
    "    output=output.append(pd.Series([str(a).split(' ')[0].split('.')[-1]], index=['Algorithm']))\n",
    "    algo_rmse.append(output)\n",
    "\n",
    "algo_rmse\n",
    "surprise_results = pd.DataFrame(algo_rmse).set_index('Algorithm').sort_values('test_rmse')\n",
    "surprise_results\n",
    "\n"
   ]
  },
  {
   "cell_type": "markdown",
   "id": "a579a326-699e-4fbd-ac2d-4454396017c0",
   "metadata": {},
   "source": [
    "As you can see from above the SVDPP, KNN baseline and SVD are the best performing with the least training and testing time as well as rmse. We prefered to use rmse as our accuracy measurement metric as  The following section will look at these algorithms performance with hyperparamenters included to improve the model perfomance. We selected the three best perfoming models. Please note that we use the cross validation algorithm to help estimate how accurately a predictive model will perform in practice and decrease chances of overfitting.  "
   ]
  },
  {
   "cell_type": "code",
   "execution_count": null,
   "id": "41b510f6-a230-44a5-a933-08311adad771",
   "metadata": {},
   "outputs": [],
   "source": [
    "surprise_results[]"
   ]
  },
  {
   "cell_type": "code",
   "execution_count": 76,
   "id": "8d02bee7-2c03-4676-b733-33cb693c746b",
   "metadata": {
    "jupyter": {
     "source_hidden": true
    },
    "tags": []
   },
   "outputs": [
    {
     "data": {
      "image/png": "[encoded data removed]",
      "text/plain": [
       "<Figure size 1440x720 with 2 Axes>"
      ]
     },
     "metadata": {},
     "output_type": "display_data"
    }
   ],
   "source": [
    "# Now lets plot a graph to show the results \n",
    "width=.8\n",
    "surprise_results[['fit_time','test_time']].plot(kind='bar', width = width,figsize=(20,10), color = ['black','red','orange'] ) #to plot the bar graph\n",
    "surprise_results['test_rmse'].plot(secondary_y=True, color='orange', linestyle='--', marker='o')\n",
    "\n",
    "ax = plt.gca()\n",
    "plt.xlim([-width, len(surprise_results['test_time'])-width])\n",
    "ax.set_title('Model Perfomance ',fontsize=18)\n",
    "plt.xticks(size = 10, rotation=90)\n",
    "plt.yticks(size = 10)\n",
    "plt.legend(surprise_results[['test_rmse','fit_time','test_time']])\n",
    "plt.show()"
   ]
  },
  {
   "cell_type": "markdown",
   "id": "c541c9e2-5e1c-4930-ad81-762fd1eb044f",
   "metadata": {},
   "source": [
    "From the above graph we can see that the SVD,SVDpp and the KNNBaseline are the top three performing algorithms ( using RMSE as the unit of measurement). SVDpp and KNNBaseline scored the same RMSE but SVDpp takes less time to train and test. Due to this, we conclude that we will only try to improve the SVDpp algorithm. Baseline only model is intriguing as it has the lowest train and test time while its RMSE is significantly low(close to  KNNBaseline). As a result we decided to try to improve it because if it can be better it would be the cheapest solution for our client (DSTV). \n",
    "\n"
   ]
  },
  {
   "cell_type": "markdown",
   "id": "6d79b2d4-1e67-48c4-ac0a-d3f91e4ffee1",
   "metadata": {},
   "source": [
    "## Model Improvement"
   ]
  },
  {
   "cell_type": "markdown",
   "id": "292b70c9-9c93-4fb3-95f2-8b2d6882605e",
   "metadata": {},
   "source": [
    "## SVD  model\n",
    "The SVD model is the first model we will try to improve as it has the lowest RMSE score."
   ]
  },
  {
   "cell_type": "code",
   "execution_count": 87,
   "id": "8aaba7f9-a412-4d48-8eb4-f2409bbc350e",
   "metadata": {},
   "outputs": [
    {
     "name": "stdout",
     "output_type": "stream",
     "text": [
      "RMSE: 0.9739\n"
     ]
    }
   ],
   "source": [
    "#SVD model\n",
    "svd=SVD(n_epochs = 30, n_factors = 400, init_std_dev = 0.005, random_state=42)\n",
    "\n",
    "#Fitting the model\n",
    "svd.fit(trainset)\n",
    "\n",
    "# Making prediction on the validation dataset\n",
    "test_pred= svd.test(testset)\n",
    "\n",
    "#Evaluating model performance\n",
    "rsme_svd = accuracy.rmse(test_pred,\n",
    "                             verbose=True)"
   ]
  },
  {
   "cell_type": "code",
   "execution_count": 88,
   "id": "5be1511c-96eb-43cd-bbb7-5c83038f5248",
   "metadata": {},
   "outputs": [
    {
     "data": {
      "text/html": [
       "<div>\n",
       "<style scoped>\n",
       "    .dataframe tbody tr th:only-of-type {\n",
       "        vertical-align: middle;\n",
       "    }\n",
       "\n",
       "    .dataframe tbody tr th {\n",
       "        vertical-align: top;\n",
       "    }\n",
       "\n",
       "    .dataframe thead th {\n",
       "        text-align: right;\n",
       "    }\n",
       "</style>\n",
       "<table border=\"1\" class=\"dataframe\">\n",
       "  <thead>\n",
       "    <tr style=\"text-align: right;\">\n",
       "      <th></th>\n",
       "      <th>ID</th>\n",
       "      <th>est</th>\n",
       "    </tr>\n",
       "  </thead>\n",
       "  <tbody>\n",
       "    <tr>\n",
       "      <th>0</th>\n",
       "      <td>1_2011</td>\n",
       "      <td>3.496114</td>\n",
       "    </tr>\n",
       "    <tr>\n",
       "      <th>1</th>\n",
       "      <td>1_4144</td>\n",
       "      <td>3.882320</td>\n",
       "    </tr>\n",
       "    <tr>\n",
       "      <th>2</th>\n",
       "      <td>1_5767</td>\n",
       "      <td>3.535007</td>\n",
       "    </tr>\n",
       "    <tr>\n",
       "      <th>3</th>\n",
       "      <td>1_6711</td>\n",
       "      <td>3.934648</td>\n",
       "    </tr>\n",
       "    <tr>\n",
       "      <th>4</th>\n",
       "      <td>1_7318</td>\n",
       "      <td>2.673480</td>\n",
       "    </tr>\n",
       "  </tbody>\n",
       "</table>\n",
       "</div>"
      ],
      "text/plain": [
       "       ID       est\n",
       "0  1_2011  3.496114\n",
       "1  1_4144  3.882320\n",
       "2  1_5767  3.535007\n",
       "3  1_6711  3.934648\n",
       "4  1_7318  2.673480"
      ]
     },
     "execution_count": 88,
     "metadata": {},
     "output_type": "execute_result"
    }
   ],
   "source": [
    "#Predicting the rating for each user and movie\n",
    "ratings=[]\n",
    "for x,y in test_df.itertuples(index=False):\n",
    "    output=svd.predict(x,y)\n",
    "    ratings.append(output)\n",
    "    \n",
    "output_df=pd.DataFrame(ratings)[['uid','iid','est']]\n",
    "output_df['ID']=output_df['uid'].astype(str) + '_' + output_df['iid'].astype(str)\n",
    "output_df=output_df[['ID','est']]\n",
    "output_df.head()"
   ]
  },
  {
   "cell_type": "code",
   "execution_count": 89,
   "id": "d85025ce-fa37-47cd-a19b-948409200583",
   "metadata": {},
   "outputs": [],
   "source": [
    "#Creating the \"results\" dataframe and convert to csv\n",
    "results = pd.DataFrame({\"Id\":output_df['ID'],\"rating\": output_df['est']})\n",
    "results.to_csv(\"SVD1.csv\", index=False)"
   ]
  },
  {
   "cell_type": "markdown",
   "id": "e2910c4c-c732-4e98-a16b-c82593f34504",
   "metadata": {},
   "source": [
    "## SDVpp\n",
    "The next model we will try to improve is the SVDpp model as it had the second best RMSE score."
   ]
  },
  {
   "cell_type": "code",
   "execution_count": 90,
   "id": "33512342-e6c0-4bc4-8f03-1f8befe8a8b6",
   "metadata": {},
   "outputs": [
    {
     "name": "stdout",
     "output_type": "stream",
     "text": [
      "RMSE: 0.9912\n"
     ]
    }
   ],
   "source": [
    "#SVDpp model\n",
    "svdpp=SVDpp(n_epochs = 30, n_factors = 400, init_std_dev = 0.05, random_state=42)\n",
    "\n",
    "#Fitting the model\n",
    "svdpp.fit(trainset)\n",
    "\n",
    "# Making prediction on the validation dataset\n",
    "test_pred= svdpp.test(testset)\n",
    "\n",
    "#Evaluating model performance\n",
    "rsme_svdpp = accuracy.rmse(test_pred,\n",
    "                             verbose=True)"
   ]
  },
  {
   "cell_type": "code",
   "execution_count": 91,
   "id": "1271c494-08f7-4125-b429-4905c79a12f9",
   "metadata": {},
   "outputs": [
    {
     "data": {
      "text/html": [
       "<div>\n",
       "<style scoped>\n",
       "    .dataframe tbody tr th:only-of-type {\n",
       "        vertical-align: middle;\n",
       "    }\n",
       "\n",
       "    .dataframe tbody tr th {\n",
       "        vertical-align: top;\n",
       "    }\n",
       "\n",
       "    .dataframe thead th {\n",
       "        text-align: right;\n",
       "    }\n",
       "</style>\n",
       "<table border=\"1\" class=\"dataframe\">\n",
       "  <thead>\n",
       "    <tr style=\"text-align: right;\">\n",
       "      <th></th>\n",
       "      <th>ID</th>\n",
       "      <th>est</th>\n",
       "    </tr>\n",
       "  </thead>\n",
       "  <tbody>\n",
       "    <tr>\n",
       "      <th>0</th>\n",
       "      <td>1_2011</td>\n",
       "      <td>3.529787</td>\n",
       "    </tr>\n",
       "    <tr>\n",
       "      <th>1</th>\n",
       "      <td>1_4144</td>\n",
       "      <td>3.768790</td>\n",
       "    </tr>\n",
       "    <tr>\n",
       "      <th>2</th>\n",
       "      <td>1_5767</td>\n",
       "      <td>3.535007</td>\n",
       "    </tr>\n",
       "    <tr>\n",
       "      <th>3</th>\n",
       "      <td>1_6711</td>\n",
       "      <td>3.800580</td>\n",
       "    </tr>\n",
       "    <tr>\n",
       "      <th>4</th>\n",
       "      <td>1_7318</td>\n",
       "      <td>2.977684</td>\n",
       "    </tr>\n",
       "  </tbody>\n",
       "</table>\n",
       "</div>"
      ],
      "text/plain": [
       "       ID       est\n",
       "0  1_2011  3.529787\n",
       "1  1_4144  3.768790\n",
       "2  1_5767  3.535007\n",
       "3  1_6711  3.800580\n",
       "4  1_7318  2.977684"
      ]
     },
     "execution_count": 91,
     "metadata": {},
     "output_type": "execute_result"
    }
   ],
   "source": [
    "#Predicting the rating for each user and movie\n",
    "ratings=[]\n",
    "for x,y in test_df.itertuples(index=False):\n",
    "    output=svdpp.predict(x,y)\n",
    "    ratings.append(output)\n",
    "    \n",
    "output_df=pd.DataFrame(ratings)[['uid','iid','est']] # results into a table \n",
    "output_df['ID']=output_df['uid'].astype(str) + '_' + output_df['iid'].astype(str)\n",
    "output_df=output_df[['ID','est']]\n",
    "output_df.head()"
   ]
  },
  {
   "cell_type": "code",
   "execution_count": 92,
   "id": "ef8c22db-5a9f-4f41-ae4c-981f97657d41",
   "metadata": {},
   "outputs": [],
   "source": [
    "#Creating the \"results\" dataframe and convert to csv for kaggle submission\n",
    "results = pd.DataFrame({\"Id\":output_df['ID'],\"rating\": output_df['est']})\n",
    "results.to_csv(\"SVDpp.csv\", index=False)"
   ]
  },
  {
   "cell_type": "markdown",
   "id": "73ee902d-e8c8-40e6-aaea-85dd6394d163",
   "metadata": {},
   "source": [
    "## Baseline Only Model\n",
    "The baseline model will be hypertuned with the hopw that it performs better than SDV as it has a very low test and train time. If the Baseline performs well we will recomend it to our client as it will save on running costs while producing optimal results."
   ]
  },
  {
   "cell_type": "code",
   "execution_count": 93,
   "id": "17378903-1b9a-40a0-a18d-f38e8a2d9526",
   "metadata": {
    "tags": []
   },
   "outputs": [
    {
     "name": "stdout",
     "output_type": "stream",
     "text": [
      "Estimating biases using sgd...\n",
      "RMSE: 0.9739\n"
     ]
    }
   ],
   "source": [
    "#BaselineOnly model\n",
    "bsl_options = {'method': 'sgd','n_epochs': 30}\n",
    "blo=BaselineOnly(bsl_options=bsl_options)\n",
    "\n",
    "#Fitting the model\n",
    "blo.fit(trainset)\n",
    "\n",
    "# Making prediction on the validation dataset\n",
    "test_pred= blo.test(testset)\n",
    "\n",
    "#Evaluating model performance\n",
    "rsme_baseline = accuracy.rmse(test_pred,\n",
    "                             verbose=True)"
   ]
  },
  {
   "cell_type": "code",
   "execution_count": 94,
   "id": "adc5c5a5-6b2f-4af0-9967-62c22ee180ad",
   "metadata": {},
   "outputs": [
    {
     "data": {
      "text/html": [
       "<div>\n",
       "<style scoped>\n",
       "    .dataframe tbody tr th:only-of-type {\n",
       "        vertical-align: middle;\n",
       "    }\n",
       "\n",
       "    .dataframe tbody tr th {\n",
       "        vertical-align: top;\n",
       "    }\n",
       "\n",
       "    .dataframe thead th {\n",
       "        text-align: right;\n",
       "    }\n",
       "</style>\n",
       "<table border=\"1\" class=\"dataframe\">\n",
       "  <thead>\n",
       "    <tr style=\"text-align: right;\">\n",
       "      <th></th>\n",
       "      <th>ID</th>\n",
       "      <th>est</th>\n",
       "    </tr>\n",
       "  </thead>\n",
       "  <tbody>\n",
       "    <tr>\n",
       "      <th>0</th>\n",
       "      <td>1_2011</td>\n",
       "      <td>3.496168</td>\n",
       "    </tr>\n",
       "    <tr>\n",
       "      <th>1</th>\n",
       "      <td>1_4144</td>\n",
       "      <td>3.882676</td>\n",
       "    </tr>\n",
       "    <tr>\n",
       "      <th>2</th>\n",
       "      <td>1_5767</td>\n",
       "      <td>3.535007</td>\n",
       "    </tr>\n",
       "    <tr>\n",
       "      <th>3</th>\n",
       "      <td>1_6711</td>\n",
       "      <td>3.934899</td>\n",
       "    </tr>\n",
       "    <tr>\n",
       "      <th>4</th>\n",
       "      <td>1_7318</td>\n",
       "      <td>2.672662</td>\n",
       "    </tr>\n",
       "  </tbody>\n",
       "</table>\n",
       "</div>"
      ],
      "text/plain": [
       "       ID       est\n",
       "0  1_2011  3.496168\n",
       "1  1_4144  3.882676\n",
       "2  1_5767  3.535007\n",
       "3  1_6711  3.934899\n",
       "4  1_7318  2.672662"
      ]
     },
     "execution_count": 94,
     "metadata": {},
     "output_type": "execute_result"
    }
   ],
   "source": [
    "#Predicting the rating for each user and movie\n",
    "ratings=[]\n",
    "for x,y in test_df.itertuples(index=False):\n",
    "    output=blo.predict(x,y)\n",
    "    ratings.append(output)\n",
    "    \n",
    "output_df=pd.DataFrame(ratings)[['uid','iid','est']]\n",
    "output_df['ID']=output_df['uid'].astype(str) + '_' + output_df['iid'].astype(str)\n",
    "output_df=output_df[['ID','est']]\n",
    "output_df.head()"
   ]
  },
  {
   "cell_type": "code",
   "execution_count": 95,
   "id": "01308aef-bfb5-4935-a4e5-edfe85c3ac2e",
   "metadata": {},
   "outputs": [],
   "source": [
    "#Creating the \"results\" dataframe and convert to csv\n",
    "results = pd.DataFrame({\"Id\":output_df['ID'],\"rating\": output_df['est']})\n",
    "results.to_csv(\"blo.csv\", index=False)"
   ]
  },
  {
   "cell_type": "markdown",
   "id": "1e38b183-153d-4c5e-b319-f2a2307f5212",
   "metadata": {
    "tags": []
   },
   "source": [
    "Now lets compare results with graph showing the RMSE improvement."
   ]
  },
  {
   "cell_type": "code",
   "execution_count": 96,
   "id": "0a765443-5e60-4205-9f5d-0fc69809371d",
   "metadata": {},
   "outputs": [
    {
     "data": {
      "image/png": "[encoded data removed]",
      "text/plain": [
       "<Figure size 576x360 with 1 Axes>"
      ]
     },
     "metadata": {},
     "output_type": "display_data"
    }
   ],
   "source": [
    "# Compare RMSE values between models that have been inproved with hypararameters \n",
    "fig,axis = plt.subplots(figsize=(8, 5))\n",
    "rmse_x = ['SVD','SVDpp','BaselineOnly']\n",
    "rmse_y = [rsme_svd,rsme_svdpp,rsme_baseline]\n",
    "ax = sns.barplot(x=rmse_x, y=rmse_y,color='red',edgecolor='black')\n",
    "plt.title('RMSE Value of models with hyperparameters',fontsize=14)\n",
    "plt.xticks(rotation=90)\n",
    "plt.ylabel('RMSE')\n",
    "for p in ax.patches:\n",
    "    ax.text(p.get_x() + p.get_width()/2, p.get_y() + p.get_height(), round(p.get_height(),2), fontsize=12, ha=\"center\", va='bottom')\n",
    "    \n",
    "plt.show()"
   ]
  },
  {
   "cell_type": "code",
   "execution_count": 97,
   "id": "79e625c1-9b6a-4698-ab3e-03c1e4de56e0",
   "metadata": {},
   "outputs": [],
   "source": [
    "#Creating the \"results\" dataframe and convert to csv file for kaggle submission\n",
    "results = pd.DataFrame({\"Id\":output_df['ID'],\"rating\": output_df['est']})\n",
    "results.to_csv(\"blo.csv\", index=False)"
   ]
  },
  {
   "cell_type": "markdown",
   "id": "2031fa5b-b754-4e0b-9951-e74a46bb3fbc",
   "metadata": {},
   "source": [
    "### Hyperparameter Tuning\n",
    "\n",
    "Hyperparameter tuning is the process of determining the right combination of hyperparameters that allows the model to maximize model performance. Setting the correct combination of hyperparameters is the only way to extract the maximum performance out of models.\n",
    "\n",
    "We decided to hypertune the SVD algorithm model, which was the best performing amongst the top three algorithm (since it had the lowest RMSE value)."
   ]
  },
  {
   "cell_type": "code",
   "execution_count": 98,
   "id": "1c5b20e8-643d-48ba-8ff5-e934779ec4f7",
   "metadata": {},
   "outputs": [
    {
     "name": "stdout",
     "output_type": "stream",
     "text": [
      "***Best score:***\n",
      "0.9670327595612163\n",
      "***Best parameters:***\n",
      "{'n_epochs': 40, 'n_factors': 400, 'init_std_dev': 0.005, 'random_state': 42}\n"
     ]
    }
   ],
   "source": [
    "param_grid = {'n_epochs':[40], #[30,40,50],\n",
    "              'n_factors':[400], #[100,200,300,400],\n",
    "              'init_std_dev':[0.005], #[0.001,0.005,0.05,0.1],\n",
    "              'random_state':[42]} \n",
    "grid_SVD = GridSearchCV(SVD, cv=5, measures=['rmse'], param_grid=param_grid, n_jobs=-1)\n",
    "grid_SVD.fit(data)\n",
    "print('***Best score:***')\n",
    "print(grid_SVD.best_score['rmse'])\n",
    "print('***Best parameters:***')\n",
    "print(grid_SVD.best_params['rmse'])"
   ]
  },
  {
   "cell_type": "markdown",
   "id": "31d4ef8d-d4c1-4c0f-b67a-3632a8e59beb",
   "metadata": {},
   "source": [
    "Now that we have discoverd the optimal values for our hyperparameters we input those in our model and try to test the model on all the data available for a final submission on kaggle."
   ]
  },
  {
   "cell_type": "markdown",
   "id": "4e083936-240e-43f7-b246-793ca7370b04",
   "metadata": {},
   "source": [
    "## Final Kaggle submission"
   ]
  },
  {
   "cell_type": "code",
   "execution_count": null,
   "id": "3cc329da-0c3d-4d08-9600-cce9ad7e7399",
   "metadata": {},
   "outputs": [
    {
     "name": "stdout",
     "output_type": "stream",
     "text": [
      "Processing epoch 0\n",
      "Processing epoch 1\n",
      "Processing epoch 2\n"
     ]
    }
   ],
   "source": [
    "# Train model on whole dataset\n",
    "reader = Reader(rating_scale=(train_df['rating'].min(), train_df['rating'].max()))\n",
    "data = Dataset.load_from_df(train_df[['userId', 'movieId', 'rating']], reader)\n",
    "trainset = data.build_full_trainset()\n",
    "svd = SVD(n_epochs = 40, n_factors = 400, init_std_dev = 0.005, random_state=42, verbose=True)\n",
    "svd.fit(trainset)\n",
    "\n",
    "# Create Kaggle submission file\n",
    "predictions = []\n",
    "for i, row in test_df.iterrows():\n",
    "    x = (svd.predict(row.userId, row.movieId))\n",
    "    pred = x[3]\n",
    "    predictions.append(pred)\n",
    "test_df['Id'] = test_df['userId'].map(str) +'_'+ test_df['movieId'].map(str)\n",
    "results = pd.DataFrame({\"Id\":test_df['Id'],\"rating\": predictions})\n",
    "results.to_csv(\"SVD_FINAL.csv\", index=False)"
   ]
  },
  {
   "cell_type": "markdown",
   "id": "4d9d67f1-e320-42a2-9aa4-85c7a6caa65f",
   "metadata": {},
   "source": [
    "\n",
    "# Conclusion\n",
    "The famous SVD algorithm, as popularized by Simon Funk during the Netflix Prize isn't a surprising choice for collaborative based recomendation. After hyperparameter tuning the SVD pereformed the best with a kaggle score of 0.7. On top of that it has a low train and test time. This makes it an ideal solution for our client. \n",
    "\n"
   ]
  },
  {
   "cell_type": "markdown",
   "id": "47b2fc88-58c8-4e9f-88e9-864c4905ca30",
   "metadata": {
    "tags": []
   },
   "source": [
    "References \n",
    "\n",
    "https://arxiv.org/ftp/arxiv/papers/1503/1503.07475.pdf\n",
    "\n",
    "https://www.xpertup.com/downloads/movie-recommender-system/"
   ]
  },
  {
   "cell_type": "code",
   "execution_count": null,
   "id": "9fb90175-055d-4053-bb57-0c7648af5d41",
   "metadata": {},
   "outputs": [],
   "source": []
  }
 ],
 "metadata": {
  "kernelspec": {
   "display_name": "default:Python",
   "language": "python",
   "name": "conda-env-default-py"
  },
  "language_info": {
   "codemirror_mode": {
    "name": "ipython",
    "version": 3
   },
   "file_extension": ".py",
   "mimetype": "text/x-python",
   "name": "python",
   "nbconvert_exporter": "python",
   "pygments_lexer": "ipython3",
   "version": "3.9.10"
  }
 },
 "nbformat": 4,
 "nbformat_minor": 5
}
